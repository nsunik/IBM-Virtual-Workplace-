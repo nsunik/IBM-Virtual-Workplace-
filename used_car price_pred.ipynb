{
 "cells": [
  {
   "cell_type": "markdown",
   "metadata": {},
   "source": [
    "# Predict used car price with regression"
   ]
  },
  {
   "cell_type": "markdown",
   "metadata": {},
   "source": [
    "import libraries"
   ]
  },
  {
   "cell_type": "code",
   "execution_count": 1,
   "metadata": {},
   "outputs": [],
   "source": [
    "import numpy as np # linear algebra\n",
    "import pandas as pd # data processing, CSV file I/O (e.g. pd.read_csv)\n",
    "from pandas import DataFrame as df\n",
    "import matplotlib.pyplot as plt\n",
    "import seaborn as sns"
   ]
  },
  {
   "cell_type": "raw",
   "metadata": {},
   "source": [
    "import csv file"
   ]
  },
  {
   "cell_type": "code",
   "execution_count": 2,
   "metadata": {},
   "outputs": [],
   "source": [
    "df_car=pd.read_csv(r'C:\\Users\\DELL\\Downloads\\pred_car_price\\train-data.csv')\n",
    "df_car_test=pd.read_csv(r'C:\\Users\\DELL\\Downloads\\pred_car_price\\test-data.csv')"
   ]
  },
  {
   "cell_type": "code",
   "execution_count": 3,
   "metadata": {},
   "outputs": [
    {
     "data": {
      "text/html": [
       "<div>\n",
       "<style scoped>\n",
       "    .dataframe tbody tr th:only-of-type {\n",
       "        vertical-align: middle;\n",
       "    }\n",
       "\n",
       "    .dataframe tbody tr th {\n",
       "        vertical-align: top;\n",
       "    }\n",
       "\n",
       "    .dataframe thead th {\n",
       "        text-align: right;\n",
       "    }\n",
       "</style>\n",
       "<table border=\"1\" class=\"dataframe\">\n",
       "  <thead>\n",
       "    <tr style=\"text-align: right;\">\n",
       "      <th></th>\n",
       "      <th>Unnamed: 0</th>\n",
       "      <th>Name</th>\n",
       "      <th>Location</th>\n",
       "      <th>Year</th>\n",
       "      <th>Kilometers_Driven</th>\n",
       "      <th>Fuel_Type</th>\n",
       "      <th>Transmission</th>\n",
       "      <th>Owner_Type</th>\n",
       "      <th>Mileage</th>\n",
       "      <th>Engine</th>\n",
       "      <th>Power</th>\n",
       "      <th>Seats</th>\n",
       "      <th>New_Price</th>\n",
       "      <th>Price</th>\n",
       "    </tr>\n",
       "  </thead>\n",
       "  <tbody>\n",
       "    <tr>\n",
       "      <th>0</th>\n",
       "      <td>0</td>\n",
       "      <td>Maruti Wagon R LXI CNG</td>\n",
       "      <td>Mumbai</td>\n",
       "      <td>2010</td>\n",
       "      <td>72000</td>\n",
       "      <td>CNG</td>\n",
       "      <td>Manual</td>\n",
       "      <td>First</td>\n",
       "      <td>26.6 km/kg</td>\n",
       "      <td>998 CC</td>\n",
       "      <td>58.16 bhp</td>\n",
       "      <td>5.0</td>\n",
       "      <td>NaN</td>\n",
       "      <td>1.75</td>\n",
       "    </tr>\n",
       "    <tr>\n",
       "      <th>1</th>\n",
       "      <td>1</td>\n",
       "      <td>Hyundai Creta 1.6 CRDi SX Option</td>\n",
       "      <td>Pune</td>\n",
       "      <td>2015</td>\n",
       "      <td>41000</td>\n",
       "      <td>Diesel</td>\n",
       "      <td>Manual</td>\n",
       "      <td>First</td>\n",
       "      <td>19.67 kmpl</td>\n",
       "      <td>1582 CC</td>\n",
       "      <td>126.2 bhp</td>\n",
       "      <td>5.0</td>\n",
       "      <td>NaN</td>\n",
       "      <td>12.50</td>\n",
       "    </tr>\n",
       "    <tr>\n",
       "      <th>2</th>\n",
       "      <td>2</td>\n",
       "      <td>Honda Jazz V</td>\n",
       "      <td>Chennai</td>\n",
       "      <td>2011</td>\n",
       "      <td>46000</td>\n",
       "      <td>Petrol</td>\n",
       "      <td>Manual</td>\n",
       "      <td>First</td>\n",
       "      <td>18.2 kmpl</td>\n",
       "      <td>1199 CC</td>\n",
       "      <td>88.7 bhp</td>\n",
       "      <td>5.0</td>\n",
       "      <td>8.61 Lakh</td>\n",
       "      <td>4.50</td>\n",
       "    </tr>\n",
       "    <tr>\n",
       "      <th>3</th>\n",
       "      <td>3</td>\n",
       "      <td>Maruti Ertiga VDI</td>\n",
       "      <td>Chennai</td>\n",
       "      <td>2012</td>\n",
       "      <td>87000</td>\n",
       "      <td>Diesel</td>\n",
       "      <td>Manual</td>\n",
       "      <td>First</td>\n",
       "      <td>20.77 kmpl</td>\n",
       "      <td>1248 CC</td>\n",
       "      <td>88.76 bhp</td>\n",
       "      <td>7.0</td>\n",
       "      <td>NaN</td>\n",
       "      <td>6.00</td>\n",
       "    </tr>\n",
       "    <tr>\n",
       "      <th>4</th>\n",
       "      <td>4</td>\n",
       "      <td>Audi A4 New 2.0 TDI Multitronic</td>\n",
       "      <td>Coimbatore</td>\n",
       "      <td>2013</td>\n",
       "      <td>40670</td>\n",
       "      <td>Diesel</td>\n",
       "      <td>Automatic</td>\n",
       "      <td>Second</td>\n",
       "      <td>15.2 kmpl</td>\n",
       "      <td>1968 CC</td>\n",
       "      <td>140.8 bhp</td>\n",
       "      <td>5.0</td>\n",
       "      <td>NaN</td>\n",
       "      <td>17.74</td>\n",
       "    </tr>\n",
       "  </tbody>\n",
       "</table>\n",
       "</div>"
      ],
      "text/plain": [
       "   Unnamed: 0                              Name    Location  Year  \\\n",
       "0           0            Maruti Wagon R LXI CNG      Mumbai  2010   \n",
       "1           1  Hyundai Creta 1.6 CRDi SX Option        Pune  2015   \n",
       "2           2                      Honda Jazz V     Chennai  2011   \n",
       "3           3                 Maruti Ertiga VDI     Chennai  2012   \n",
       "4           4   Audi A4 New 2.0 TDI Multitronic  Coimbatore  2013   \n",
       "\n",
       "   Kilometers_Driven Fuel_Type Transmission Owner_Type     Mileage   Engine  \\\n",
       "0              72000       CNG       Manual      First  26.6 km/kg   998 CC   \n",
       "1              41000    Diesel       Manual      First  19.67 kmpl  1582 CC   \n",
       "2              46000    Petrol       Manual      First   18.2 kmpl  1199 CC   \n",
       "3              87000    Diesel       Manual      First  20.77 kmpl  1248 CC   \n",
       "4              40670    Diesel    Automatic     Second   15.2 kmpl  1968 CC   \n",
       "\n",
       "       Power  Seats  New_Price  Price  \n",
       "0  58.16 bhp    5.0        NaN   1.75  \n",
       "1  126.2 bhp    5.0        NaN  12.50  \n",
       "2   88.7 bhp    5.0  8.61 Lakh   4.50  \n",
       "3  88.76 bhp    7.0        NaN   6.00  \n",
       "4  140.8 bhp    5.0        NaN  17.74  "
      ]
     },
     "execution_count": 3,
     "metadata": {},
     "output_type": "execute_result"
    }
   ],
   "source": [
    "df_car.head()    # shows top 5 rows"
   ]
  },
  {
   "cell_type": "code",
   "execution_count": 4,
   "metadata": {},
   "outputs": [
    {
     "data": {
      "text/plain": [
       "Index(['Unnamed: 0', 'Name', 'Location', 'Year', 'Kilometers_Driven',\n",
       "       'Fuel_Type', 'Transmission', 'Owner_Type', 'Mileage', 'Engine', 'Power',\n",
       "       'Seats', 'New_Price', 'Price'],\n",
       "      dtype='object')"
      ]
     },
     "execution_count": 4,
     "metadata": {},
     "output_type": "execute_result"
    }
   ],
   "source": [
    "df_car.columns  #column names"
   ]
  },
  {
   "cell_type": "code",
   "execution_count": 5,
   "metadata": {},
   "outputs": [
    {
     "data": {
      "text/plain": [
       "Index(['Unnamed: 0', 'Name', 'Location', 'Year', 'Kilometers_Driven',\n",
       "       'Fuel_Type', 'Transmission', 'Owner_Type', 'Mileage', 'Engine', 'Power',\n",
       "       'Seats', 'New_Price'],\n",
       "      dtype='object')"
      ]
     },
     "execution_count": 5,
     "metadata": {},
     "output_type": "execute_result"
    }
   ],
   "source": [
    "df_car_test.columns"
   ]
  },
  {
   "cell_type": "code",
   "execution_count": 6,
   "metadata": {},
   "outputs": [
    {
     "name": "stdout",
     "output_type": "stream",
     "text": [
      "(6019, 14)\n"
     ]
    }
   ],
   "source": [
    "print(df_car.shape)"
   ]
  },
  {
   "cell_type": "code",
   "execution_count": 7,
   "metadata": {},
   "outputs": [
    {
     "name": "stdout",
     "output_type": "stream",
     "text": [
      "(1234, 13)\n"
     ]
    }
   ],
   "source": [
    "print(df_car_test.shape) # 6019 rows and 14 columns"
   ]
  },
  {
   "cell_type": "markdown",
   "metadata": {},
   "source": [
    "# Data Cleaning: Handle NA values,Drop unnecessary columns,"
   ]
  },
  {
   "cell_type": "code",
   "execution_count": 8,
   "metadata": {},
   "outputs": [
    {
     "data": {
      "text/html": [
       "<div>\n",
       "<style scoped>\n",
       "    .dataframe tbody tr th:only-of-type {\n",
       "        vertical-align: middle;\n",
       "    }\n",
       "\n",
       "    .dataframe tbody tr th {\n",
       "        vertical-align: top;\n",
       "    }\n",
       "\n",
       "    .dataframe thead th {\n",
       "        text-align: right;\n",
       "    }\n",
       "</style>\n",
       "<table border=\"1\" class=\"dataframe\">\n",
       "  <thead>\n",
       "    <tr style=\"text-align: right;\">\n",
       "      <th></th>\n",
       "      <th>Unnamed: 0</th>\n",
       "      <th>Year</th>\n",
       "      <th>Kilometers_Driven</th>\n",
       "      <th>Seats</th>\n",
       "      <th>Price</th>\n",
       "    </tr>\n",
       "  </thead>\n",
       "  <tbody>\n",
       "    <tr>\n",
       "      <th>count</th>\n",
       "      <td>6019.000000</td>\n",
       "      <td>6019.000000</td>\n",
       "      <td>6.019000e+03</td>\n",
       "      <td>5977.000000</td>\n",
       "      <td>6019.000000</td>\n",
       "    </tr>\n",
       "    <tr>\n",
       "      <th>mean</th>\n",
       "      <td>3009.000000</td>\n",
       "      <td>2013.358199</td>\n",
       "      <td>5.873838e+04</td>\n",
       "      <td>5.278735</td>\n",
       "      <td>9.479468</td>\n",
       "    </tr>\n",
       "    <tr>\n",
       "      <th>std</th>\n",
       "      <td>1737.679967</td>\n",
       "      <td>3.269742</td>\n",
       "      <td>9.126884e+04</td>\n",
       "      <td>0.808840</td>\n",
       "      <td>11.187917</td>\n",
       "    </tr>\n",
       "    <tr>\n",
       "      <th>min</th>\n",
       "      <td>0.000000</td>\n",
       "      <td>1998.000000</td>\n",
       "      <td>1.710000e+02</td>\n",
       "      <td>0.000000</td>\n",
       "      <td>0.440000</td>\n",
       "    </tr>\n",
       "    <tr>\n",
       "      <th>25%</th>\n",
       "      <td>1504.500000</td>\n",
       "      <td>2011.000000</td>\n",
       "      <td>3.400000e+04</td>\n",
       "      <td>5.000000</td>\n",
       "      <td>3.500000</td>\n",
       "    </tr>\n",
       "    <tr>\n",
       "      <th>50%</th>\n",
       "      <td>3009.000000</td>\n",
       "      <td>2014.000000</td>\n",
       "      <td>5.300000e+04</td>\n",
       "      <td>5.000000</td>\n",
       "      <td>5.640000</td>\n",
       "    </tr>\n",
       "    <tr>\n",
       "      <th>75%</th>\n",
       "      <td>4513.500000</td>\n",
       "      <td>2016.000000</td>\n",
       "      <td>7.300000e+04</td>\n",
       "      <td>5.000000</td>\n",
       "      <td>9.950000</td>\n",
       "    </tr>\n",
       "    <tr>\n",
       "      <th>max</th>\n",
       "      <td>6018.000000</td>\n",
       "      <td>2019.000000</td>\n",
       "      <td>6.500000e+06</td>\n",
       "      <td>10.000000</td>\n",
       "      <td>160.000000</td>\n",
       "    </tr>\n",
       "  </tbody>\n",
       "</table>\n",
       "</div>"
      ],
      "text/plain": [
       "        Unnamed: 0         Year  Kilometers_Driven        Seats        Price\n",
       "count  6019.000000  6019.000000       6.019000e+03  5977.000000  6019.000000\n",
       "mean   3009.000000  2013.358199       5.873838e+04     5.278735     9.479468\n",
       "std    1737.679967     3.269742       9.126884e+04     0.808840    11.187917\n",
       "min       0.000000  1998.000000       1.710000e+02     0.000000     0.440000\n",
       "25%    1504.500000  2011.000000       3.400000e+04     5.000000     3.500000\n",
       "50%    3009.000000  2014.000000       5.300000e+04     5.000000     5.640000\n",
       "75%    4513.500000  2016.000000       7.300000e+04     5.000000     9.950000\n",
       "max    6018.000000  2019.000000       6.500000e+06    10.000000   160.000000"
      ]
     },
     "execution_count": 8,
     "metadata": {},
     "output_type": "execute_result"
    }
   ],
   "source": [
    "df_car.describe() # calculating some statistical data like percentile, mean and std of the numerical values of the Series or \n",
    "                  #DataFrame. It analyzes both numeric and object series and also the DataFrame column sets of mixed data types."
   ]
  },
  {
   "cell_type": "code",
   "execution_count": 9,
   "metadata": {},
   "outputs": [],
   "source": [
    "#check null values "
   ]
  },
  {
   "cell_type": "code",
   "execution_count": 10,
   "metadata": {},
   "outputs": [
    {
     "data": {
      "text/plain": [
       "Unnamed: 0              0\n",
       "Name                    0\n",
       "Location                0\n",
       "Year                    0\n",
       "Kilometers_Driven       0\n",
       "Fuel_Type               0\n",
       "Transmission            0\n",
       "Owner_Type              0\n",
       "Mileage                 2\n",
       "Engine                 36\n",
       "Power                  36\n",
       "Seats                  42\n",
       "New_Price            5195\n",
       "Price                   0\n",
       "dtype: int64"
      ]
     },
     "execution_count": 10,
     "metadata": {},
     "output_type": "execute_result"
    }
   ],
   "source": [
    "df_car.isnull().sum()"
   ]
  },
  {
   "cell_type": "code",
   "execution_count": 11,
   "metadata": {},
   "outputs": [],
   "source": [
    "#Drop New_price column .it has lot of missing value\n",
    "#drop Unnamed: 0 "
   ]
  },
  {
   "cell_type": "code",
   "execution_count": 12,
   "metadata": {},
   "outputs": [],
   "source": [
    "df_car.drop(['New_Price','Unnamed: 0'],axis=1,inplace= True)\n",
    "df_car_test.drop(['New_Price','Unnamed: 0'],axis=1,inplace= True)"
   ]
  },
  {
   "cell_type": "code",
   "execution_count": 13,
   "metadata": {},
   "outputs": [
    {
     "name": "stdout",
     "output_type": "stream",
     "text": [
      "(6019, 12)\n",
      "(1234, 11)\n"
     ]
    }
   ],
   "source": [
    "#check number of feature\n",
    "print(df_car.shape)\n",
    "print(df_car_test.shape)"
   ]
  },
  {
   "cell_type": "code",
   "execution_count": 14,
   "metadata": {},
   "outputs": [
    {
     "data": {
      "text/plain": [
       "Name                  0\n",
       "Location              0\n",
       "Year                  0\n",
       "Kilometers_Driven     0\n",
       "Fuel_Type             0\n",
       "Transmission          0\n",
       "Owner_Type            0\n",
       "Mileage               2\n",
       "Engine               36\n",
       "Power                36\n",
       "Seats                42\n",
       "Price                 0\n",
       "dtype: int64"
      ]
     },
     "execution_count": 14,
     "metadata": {},
     "output_type": "execute_result"
    }
   ],
   "source": [
    "df_car.isnull().sum()"
   ]
  },
  {
   "cell_type": "code",
   "execution_count": 15,
   "metadata": {},
   "outputs": [
    {
     "data": {
      "text/plain": [
       "Name                  0\n",
       "Location              0\n",
       "Year                  0\n",
       "Kilometers_Driven     0\n",
       "Fuel_Type             0\n",
       "Transmission          0\n",
       "Owner_Type            0\n",
       "Mileage               0\n",
       "Engine               10\n",
       "Power                10\n",
       "Seats                11\n",
       "dtype: int64"
      ]
     },
     "execution_count": 15,
     "metadata": {},
     "output_type": "execute_result"
    }
   ],
   "source": [
    "df_car_test.isnull().sum()"
   ]
  },
  {
   "cell_type": "code",
   "execution_count": 16,
   "metadata": {},
   "outputs": [],
   "source": [
    "#check the skewness of the missing value"
   ]
  },
  {
   "cell_type": "code",
   "execution_count": 17,
   "metadata": {},
   "outputs": [
    {
     "name": "stdout",
     "output_type": "stream",
     "text": [
      "<class 'pandas.core.frame.DataFrame'>\n",
      "RangeIndex: 6019 entries, 0 to 6018\n",
      "Data columns (total 12 columns):\n",
      " #   Column             Non-Null Count  Dtype  \n",
      "---  ------             --------------  -----  \n",
      " 0   Name               6019 non-null   object \n",
      " 1   Location           6019 non-null   object \n",
      " 2   Year               6019 non-null   int64  \n",
      " 3   Kilometers_Driven  6019 non-null   int64  \n",
      " 4   Fuel_Type          6019 non-null   object \n",
      " 5   Transmission       6019 non-null   object \n",
      " 6   Owner_Type         6019 non-null   object \n",
      " 7   Mileage            6017 non-null   object \n",
      " 8   Engine             5983 non-null   object \n",
      " 9   Power              5983 non-null   object \n",
      " 10  Seats              5977 non-null   float64\n",
      " 11  Price              6019 non-null   float64\n",
      "dtypes: float64(2), int64(2), object(8)\n",
      "memory usage: 564.4+ KB\n"
     ]
    }
   ],
   "source": [
    "#check the data type\n",
    "df_car.info()"
   ]
  },
  {
   "cell_type": "code",
   "execution_count": 18,
   "metadata": {},
   "outputs": [],
   "source": [
    "#Fill remaining null values. \n",
    "#We will use \"ffil\" i.e forward fill. forward fill\n",
    "#data_trimm.fillna(method='ffill', inplace=True)\n",
    "df_car.fillna(method='ffill',inplace=True)"
   ]
  },
  {
   "cell_type": "code",
   "execution_count": 19,
   "metadata": {},
   "outputs": [
    {
     "data": {
      "text/plain": [
       "Name                 0\n",
       "Location             0\n",
       "Year                 0\n",
       "Kilometers_Driven    0\n",
       "Fuel_Type            0\n",
       "Transmission         0\n",
       "Owner_Type           0\n",
       "Mileage              0\n",
       "Engine               0\n",
       "Power                0\n",
       "Seats                0\n",
       "Price                0\n",
       "dtype: int64"
      ]
     },
     "execution_count": 19,
     "metadata": {},
     "output_type": "execute_result"
    }
   ],
   "source": [
    "#data_trimmed.isnull().sum()\n",
    "#check if we have any values\n",
    "df_car.isnull().sum()"
   ]
  },
  {
   "cell_type": "code",
   "execution_count": 20,
   "metadata": {},
   "outputs": [
    {
     "data": {
      "text/plain": [
       "Name                  object\n",
       "Location              object\n",
       "Year                   int64\n",
       "Kilometers_Driven      int64\n",
       "Fuel_Type             object\n",
       "Transmission          object\n",
       "Owner_Type            object\n",
       "Mileage               object\n",
       "Engine                object\n",
       "Power                 object\n",
       "Seats                float64\n",
       "Price                float64\n",
       "dtype: object"
      ]
     },
     "execution_count": 20,
     "metadata": {},
     "output_type": "execute_result"
    }
   ],
   "source": [
    "df_car.dtypes"
   ]
  },
  {
   "cell_type": "code",
   "execution_count": 21,
   "metadata": {},
   "outputs": [],
   "source": [
    "#change object data type to numeric data type"
   ]
  },
  {
   "cell_type": "code",
   "execution_count": 22,
   "metadata": {},
   "outputs": [
    {
     "name": "stdout",
     "output_type": "stream",
     "text": [
      "Mahindra XUV500 W8 2WD                 49\n",
      "Maruti Swift VDI                       45\n",
      "Honda City 1.5 S MT                    34\n",
      "Maruti Swift Dzire VDI                 34\n",
      "Maruti Swift VDI BSIV                  31\n",
      "                                       ..\n",
      "Maruti Wagon R VXI Plus                 1\n",
      "Skoda Octavia Elegance 1.9 TDI          1\n",
      "Mahindra Scorpio VLX AT AIRBAG BSIV     1\n",
      "Ford Figo 1.5D Titanium Plus MT         1\n",
      "BMW 5 Series 2003-2012 523i             1\n",
      "Name: Name, Length: 1876, dtype: int64\n"
     ]
    }
   ],
   "source": [
    "#df_slovakia['date'] = pd.to_numeric(df_slovakia['date'])\n",
    "print(df_car['Name'].value_counts())"
   ]
  },
  {
   "cell_type": "code",
   "execution_count": 23,
   "metadata": {},
   "outputs": [
    {
     "name": "stdout",
     "output_type": "stream",
     "text": [
      "Maruti Alto LXi                                        9\n",
      "Volkswagen Polo 1.2 MPI Highline                       8\n",
      "Honda City 1.5 V MT                                    8\n",
      "Maruti Swift Dzire VDI                                 8\n",
      "Honda Brio S MT                                        7\n",
      "                                                      ..\n",
      "Hyundai Creta 1.6 SX Automatic Diesel                  1\n",
      "Mercedes-Benz A Class A200 CDI Sport                   1\n",
      "Land Rover Range Rover HSE                             1\n",
      "Mercedes-Benz E-Class 2009-2013 E350 CDI Avantgarde    1\n",
      "Skoda Octavia 2.0 TDI MT Style                         1\n",
      "Name: Name, Length: 768, dtype: int64\n"
     ]
    }
   ],
   "source": [
    "print(df_car_test['Name'].value_counts())"
   ]
  },
  {
   "cell_type": "code",
   "execution_count": 24,
   "metadata": {},
   "outputs": [
    {
     "ename": "SyntaxError",
     "evalue": "invalid syntax (<ipython-input-24-e2cedecc75d6>, line 1)",
     "output_type": "error",
     "traceback": [
      "\u001b[1;36m  File \u001b[1;32m\"<ipython-input-24-e2cedecc75d6>\"\u001b[1;36m, line \u001b[1;32m1\u001b[0m\n\u001b[1;33m    from above we noticed that df_car' name is different from  test data set lets print the difference\u001b[0m\n\u001b[1;37m               ^\u001b[0m\n\u001b[1;31mSyntaxError\u001b[0m\u001b[1;31m:\u001b[0m invalid syntax\n"
     ]
    }
   ],
   "source": [
    "#from above we noticed that df_car' name is different from  test data set lets print the difference"
   ]
  },
  {
   "cell_type": "code",
   "execution_count": 25,
   "metadata": {},
   "outputs": [
    {
     "name": "stdout",
     "output_type": "stream",
     "text": [
      "{'Mercedes-Benz New C-Class C 220CDIBE Avantgarde Command', 'Honda City ZX CVT', 'Hyundai i10 Asta', 'Ford Aspire Titanium Diesel', 'Volkswagen Ameo 1.5 TDI Comfortline AT', 'Tata Tigor 1.2 Revotron XTA', 'Porsche Panamera Diesel 250hp', 'Maruti Celerio VXI Optional AMT', 'Hyundai Verna CRDi 1.4 E', 'Ford Fiesta Titanium 1.5 TDCi', 'Ford EcoSport 1.5 TDCi Trend Plus', 'Audi TT 40 TFSI', 'Honda Jazz 1.5 VX i DTEC', 'Hyundai Sonata 2.4 GDI', 'Skoda Fabia 1.6 MPI Elegance', 'Hyundai Verna CRDi', 'Volkswagen Beetle 2.0', 'Mahindra Bolero DI BSII', 'Tata Zest Revotron 1.2T XM', 'Honda Accord VTi-L MT', 'Skoda Laura Classic 1.8 TSI', 'Honda City i VTEC E', 'BMW 5 Series 2003-2012 530d', 'Renault Scala RxL AT', 'Maruti Ritz LXI', 'Maruti Ertiga VXI AT Petrol', 'Honda City i DTec E', 'Maruti Ciaz Alpha', 'Maruti Baleno RS 1.0 Petrol', 'Renault KWID RXT Optional', 'Mercedes-Benz New C-Class C 220 CDI BE Avantgare', 'Land Rover Freelander 2 HSE', 'Renault Duster RXZ AWD', 'Audi A6 2011-2015 35 TFSI Technology', 'Honda CR-V 2.0 AT', 'Honda CR-V 2.0L 2WD MT', 'Honda Jazz S', 'Toyota Corolla Altis Aero D 4D J', 'BMW X5 xDrive 30d', 'Porsche Cayman 2009-2012 S', 'Land Rover Range Rover 3.6 TDV8 Vogue SE', 'Maruti Ertiga Paseo VXI', 'Toyota Innova 2.0 G1', 'Tata Indigo LX', 'Hyundai i10 Magna 1.1', 'Volkswagen Vento Diesel Breeze', 'Tata Nexon 1.2 Revotron XZ Plus', 'Hyundai i20 Era 1.4 CRDi', 'Honda Jazz Exclusive CVT', 'Mini Cooper Convertible S', 'Hyundai i20 2015-2017 1.2 Asta', 'Hyundai Xcent 1.1 CRDi Base', 'Mahindra XUV500 W4 1.99 mHawk', 'Nissan Sunny XV CVT', 'Honda City V AT', 'Mercedes-Benz E-Class 2015-2017 E350 Edition E', 'Tata Indigo CS eGLX BS IV', 'Volkswagen Polo 1.0 MPI Comfortline', 'Hyundai Sonata Transform 2.4 GDi MT', 'Hyundai Verna VTVT 1.6 AT EX', 'Toyota Innova 2.5 G3', 'Chevrolet Optra 1.6 LT Royale', 'Mahindra Scorpio S4 Plus', 'Tata Manza Club Class Quadrajet90 LX', 'Mahindra Scorpio SLE BSIV', 'Ford EcoSport 1.5 Diesel Trend', 'Ford Fiesta 1.5 TDCi Titanium', 'Hyundai Tucson 2.0 e-VGT 2WD AT GLS', 'Maruti SX4 Green Vxi (CNG)', 'BMW 5 Series 520d Sport Line', 'Audi A6 35 TFSI Matrix', 'Hyundai Verna 1.4 CRDi GL', 'Honda City 1.3 EXI S', 'Chevrolet Sail Hatchback 1.2 LS', 'Tata Indica V2 DLX', 'Renault Pulse Petrol RxZ', 'BMW Z4 2009-2013 Roadster 2.5i', 'Hyundai Elite i20 Sportz Plus', 'Porsche Cayenne Turbo S', 'Jaguar XJ 3.0L Portfolio LWB', 'Maruti Ciaz VDI SHVS', 'Skoda Rapid 1.5 TDI AT Elegance Plus Black Package', 'Volkswagen Jetta 2013-2015 2.0L TDI Highline AT', 'Hyundai i20 2015-2017 Asta 1.2', 'Honda City i-DTEC ZX', 'Tata Indigo CS eGVX', 'Mercedes-Benz M-Class ML 350 CDI Corporate', 'Maruti Alto 800 2016-2019 VXI', 'Nissan Micra XV Primo', 'Tata New Safari 4X4 EX', 'Audi A3 35 TDI Premium', 'Maruti Zen Estilo 1.1 LXI BSIII', 'Mahindra Scorpio 2009-2014 VLX 4WD AT 7S BSIV', 'Mercedes-Benz E-Class 2015-2017 E 200 CGI', 'Maruti Ertiga Paseo VDI', 'BMW 5 Series 2010-2013 530d', 'Skoda Rapid 1.5 TDI AT Elegance', 'Mahindra Scorpio 1.99 S4 Plus', 'Audi A6 2.8 FSI', 'Mahindra TUV 300 2015-2019 mHAWK100 T8 AMT', 'Toyota Innova 2.0 GX 8 STR', 'Honda City i-VTEC CVT VX', 'Mercedes-Benz E-Class 2009-2013 E 200 CGI Avantgarde', 'Volkswagen Ameo 1.2 MPI Highline 16 Alloy', 'Maruti Ritz VXI', 'Audi A7 2011-2015 3.0 TDI Quattro', 'Maruti Wagon R ZXI AMT 1.2', 'Maruti Ertiga VXI CNG', 'Ford Figo Titanium Diesel', 'Hyundai Santro Xing XL AT eRLX Euro II', 'Ford Fusion Plus 1.4 TDCi Diesel', 'Mahindra Xylo D2 BS III', 'Honda Amaze S i-DTEC', 'Toyota Corolla Altis 1.8 Limited Edition', 'Mitsubishi Cedia Sports', 'Honda City 1.5 GXI', 'Ford Ikon 1.6 CLXI', 'Hyundai Grand i10 1.2 Kappa Asta', 'Hyundai Santro AT', 'Honda Amaze S Diesel', 'Toyota Etios G SP', 'Honda Jazz V CVT', 'Honda Accord V6 AT', 'Hyundai Creta 1.6 SX Option Executive', 'Maruti Alto 800 VXI', 'Honda City i DTEC VX Option', 'BMW 5 Series 2010-2013 525i', 'Honda WR-V Edge Edition i-VTEC S', 'Maruti Grand Vitara AT', 'Maruti Swift DDiS VDI', 'Skoda Octavia 2.0 TDI AT Style Plus', 'Maruti Omni 5 Str STD', 'Toyota Etios Liva 1.4 GD', 'Hyundai i20 Active 1.2 SX', 'BMW 3 Series 320i', 'Audi A6 3.0 TDI quattro', 'Porsche Cayenne Base', 'Volkswagen Polo GTI', 'Land Rover Discovery Sport SD4 HSE Luxury 7S', 'Hyundai EON D Lite', 'Skoda Rapid 1.6 MPI AT Elegance', 'Mahindra Scorpio 1.99 S8', 'Volvo XC90 2007-2015 D5 AT AWD', 'Land Rover Range Rover Vogue SE 4.4 SDV8', 'Nissan X-Trail SLX MT', 'Maruti S-Cross Delta DDiS 200 SH', 'Ford EcoSport 1.5 Petrol Trend', 'Maruti Swift AMT DDiS VDI', 'Land Rover Range Rover 2.2L Dynamic', 'BMW X1 sDrive 18i', 'Toyota Corolla Altis JS MT', 'Honda Amaze S Petrol', 'Mahindra Bolero SLE', 'Porsche Panamera Diesel', 'Volkswagen Vento 1.5 Highline Plus AT 16 Alloy', 'Skoda Fabia 1.2 MPI Ambition Plus', 'Hyundai i20 2015-2017 Sportz 1.2', 'Audi A4 2.0 TFSI', 'Jaguar XF 2.2 Litre Executive', 'Hyundai Santro Xing XL AT eRLX Euro III', 'Ford Fiesta 1.4 Duratorq EXI', 'Hyundai Xcent 1.2 Kappa AT S Option', 'Mercedes-Benz GLC 220', 'Ford EcoSport 1.5 Petrol Titanium', 'Hyundai Xcent 1.2 CRDi E Plus', 'Mini Cooper Convertible 1.6', 'Maruti Swift AMT VDI', 'Hyundai Creta 1.4 E Plus Diesel', 'Maruti Vitara Brezza VDi', 'BMW X3 xDrive30d M Sport', 'Maruti Zen Estilo 1.1 LX BSIII', 'Maruti Swift ZXI Plus', 'Maruti Eeco 7 Seater Standard', 'Tata Safari Storme VX Varicor 400', 'Skoda Superb 1.8 TSI MT', 'Audi A4 30 TFSI Premium Plus', 'Mahindra XUV300 W8 Diesel', 'Toyota Corolla Altis 1.4 DG', 'Audi A6 2011-2015 3.0 TDI Quattro Premium Plus', 'Maruti Eeco CNG 5 Seater AC', 'Toyota Etios VXD', 'Honda City i-VTEC CVT V', 'Ford Endeavour 2.2 Trend MT 4X4', 'Mahindra XUV500 W7', 'Maruti S-Cross Alpha DDiS 200 SH', 'Tata Indica V2 2001-2011 eLS', 'Chevrolet Beat Diesel LT', 'Hyundai i10 Magna LPG', 'Maruti Baleno Zeta', 'Honda Amaze VX Petrol', 'Hyundai i20 Sportz Diesel', 'Tata Nano STD SE', 'Land Rover Range Rover 2.2L Prestige', 'Hyundai Creta 1.4 CRDi S', 'Mercedes-Benz New C-Class C 200 AVANTGARDE', 'Maruti Wagon R VXI Minor ABS', 'Hyundai i20 Asta Optional with Sunroof 1.2', 'Maruti Swift Dzire ZXI', 'Hyundai i10 Asta Sunroof AT', 'Tata Tiago Wizz 1.05 Revotorq', 'Chevrolet Aveo 1.4 LT', 'BMW 3 Series 320d M Sport', 'Tata Sumo Delux', 'Ford Fiesta EXi 1.4 TDCi Ltd', 'Honda Jazz Mode', 'Hyundai i20 1.4 Asta', 'Tata Manza Aqua Quadrajet BS IV', 'Land Rover Discovery 3 TDV6 Diesel Automatic', 'Maruti Ciaz ZDi', 'Volkswagen Polo 1.2 MPI Highline Plus', 'Mahindra Scorpio VLX AT AIRBAG BSIV', 'Tata Manza Aura Plus Quadrajet BS IV', 'Maruti S-Cross Zeta DDiS 200 SH', 'Maruti Baleno Alpha Automatic', 'Maruti Ciaz 1.4 AT Alpha', 'Fiat Linea 1.3 Dynamic', 'Tata Zest Revotron 1.2T XMS', 'Fiat Petra 1.2 EL', 'BMW 3 Series 328i Sport Line', 'Honda Jazz 1.2 SV i VTEC', 'Tata Indica Vista Quadrajet VX', 'Honda City 1.5 V MT Exclusive', 'Ford Fiesta 1.4 ZXi Duratec', 'Honda CR-V 2.4L 4WD AT AVN', 'Renault Duster 110PS Diesel RxL AMT', 'Skoda Rapid 1.6 MPI Elegance Black Package', 'Mercedes-Benz S Class 2005 2013 320 CDI', 'Maruti Baleno Vxi', 'Volkswagen Vento 1.5 TDI Comfortline', 'Maruti Vitara Brezza LDi Option', 'Hyundai Sonata GOLD', 'Ford Fiesta 1.4 ZXi Leather', 'Renault Duster 110PS Diesel RXZ Optional with Nav', 'Hyundai i10 Magna Optional 1.1L', 'Renault Duster 110PS Diesel RxZ Pack', 'Hyundai Verna 1.6 SX CRDI (O) AT', 'BMW 6 Series 640d Coupe', 'Tata Safari Storme 2012-2015 VX', 'Skoda Octavia Elegance 2.0 TDI AT', 'Skoda Rapid 1.5 TDI AT Style', 'Audi Q5 2008-2012 3.0 TDI', 'Maruti Ritz ZXI', 'Mahindra Scorpio VLX', 'Skoda Laura Ambiente 2.0 TDI CR MT', 'Skoda Fabia 1.2 Petrol Active', 'Renault Duster 110PS Diesel RxZ Plus', 'Nissan Sunny XV D', 'Tata New Safari EX 4x2', 'Mitsubishi Outlander 2.4', 'Mercedes-Benz E-Class E350 CDI', 'Mahindra KUV 100 mFALCON G80 K8', 'Datsun Redi GO Sport', 'Hyundai Verna 1.4 CX VTVT', 'BMW X3 xDrive20d xLine', 'Volkswagen Polo 1.5 TDI Trendline', 'Volkswagen Jetta 2012-2014 2.0L TDI Highline', 'BMW X3 xDrive 20d Luxury Line', 'Hyundai Grand i10 1.2 CRDi Sportz Option', 'BMW 5 Series 2003-2012 540i Sedan', 'Maruti Swift Dzire VXi AT', 'Maruti Wagon R LXI BSII', 'Maruti S Cross DDiS 200 Delta', 'Ford Endeavour Hurricane Limited Edition', 'Chevrolet Enjoy 1.3 TCDi LTZ 8', 'BMW 7 Series 730Ld Eminence', 'Tata Indigo eCS GLE BSIII', 'Datsun GO Plus A', 'Honda Accord 2.4 MT', 'Chevrolet Aveo 1.4', 'Mahindra XUV500 W10 AWD', 'Ford Ikon 1.6 ZXI NXt', 'Maruti Alto 800 LXI Airbag', 'Ford Fiesta 1.4 ZXi TDCi ABS', 'Mahindra Scorpio VLX 4WD', 'Maruti Celerio VXI AT Optional', 'Toyota Corolla Altis 1.8 G CNG', 'Chevrolet Enjoy 1.4 LS 8', 'Skoda Laura 1.9 TDI MT Ambiente', 'Chevrolet Enjoy TCDi LS 8 Seater', 'Nissan Terrano XV Premium 110 PS', 'Honda Jazz VX', 'Honda City i DTec S', 'Maruti Baleno Zeta CVT', 'Toyota Corolla H4', 'Ford EcoSport 1.5 TDCi Trend', 'Maruti Swift LDI Optional', 'Ford Figo Aspire 1.5 Ti-VCT Titanium', 'Toyota Etios Liva 1.2 VX Dual Tone', 'Mahindra NuvoSport N8', 'Nissan Sunny 2011-2014 XV Special Edition', 'Toyota Fortuner 2.8 4WD MT', 'Hyundai Santa Fe 4X2', 'Maruti Alto Green LXi (CNG)', 'Skoda Superb L&K 1.8 TSI AT', 'Toyota Corolla Altis Diesel D4DJ', 'Renault KWID RXT', 'BMW 3 Series 330d Convertible', 'Maruti Alto Std', 'Hyundai Verna 1.6 CRDI AT SX Option', 'Toyota Corolla Altis 1.8 VL CVT', 'Mahindra Scorpio VLX 2WD BSIV', 'Honda CR-V RVi MT', 'Hyundai Creta 1.6 SX Option Diesel', 'Mercedes-Benz M-Class ML 350 CDI', 'Honda City 1.3 DX', 'Mahindra Xylo E2', 'Maruti Zen VXI BSII', 'Mahindra Scorpio 1.99 S10 4WD', 'Ford EcoSport 1.5 Ti VCT MT Titanium BE', 'Tata Hexa XTA', 'Maruti Versa DX2 BS II', 'Land Rover Discovery SE 3.0 TD6', 'Hyundai i20 Active 1.4 SX Dual Tone', 'Audi A4 35 TDI Technology Edition', 'Mercedes-Benz B Class B200 CDI', 'Tata Nano Lx BSIV', 'Mercedes-Benz E-Class 230 E AT', 'Hyundai Xcent 1.1 CRDi S Option', 'Mahindra Scorpio LX 2.6 Turbo', 'Mercedes-Benz GLA Class 200 d Sport', 'Renault Scala RxL', 'BMW X3 xDrive 20d Expedition', 'Mahindra XUV500 W10 1.99 mHawk', 'Toyota Etios Petrol TRD Sportivo', 'Skoda Octavia Rider 1.9 TDI MT', 'Audi Q7 35 TDI Quattro Technology', 'Maruti Swift LXI BSIV', 'Maruti Wagon R LX BS IV', 'Skoda Fabia 1.2 MPI Ambiente Petrol', 'BMW X6 xDrive 40d M Sport', 'Toyota Prius 2009-2016 Z4', 'Skoda Octavia L and K 1.9 TDI MT', 'Maruti Celerio ZXI Optional AMT', 'Skoda Rapid 1.6 MPI AT Elegance Plus', 'Volkswagen Polo Petrol Trendline 1.2L', 'Ford EcoSport 1.5 Petrol Titanium Plus AT', 'Maruti Ertiga SHVS ZDI Plus', 'Maruti Swift VXI BSIII W/ ABS', 'Honda BRV i-VTEC V MT', 'Ford Endeavour 3.2 Titanium AT 4X4', 'Tata Safari Storme 2012-2015 LX', 'Toyota Innova 2.5 EV Diesel MS 8 Str BSIII', 'BMW 5 Series 2003-2012 523i', 'Skoda Superb 2.5 TDi AT', 'Hyundai Grand i10 Asta Option AT', 'Honda Mobilio S i VTEC', 'Maruti S Cross DDiS 320 Alpha', 'Skoda Laura L and K AT', 'Maruti Baleno Zeta Automatic', 'Toyota Etios VX', 'Land Rover Range Rover Sport HSE', 'Skoda Superb Style 2.0 TDI AT', 'Renault KWID 1.0 RXL', 'Mahindra Scorpio VLX 2WD AT BSIV', 'Honda Mobilio E i VTEC', 'Toyota Camry W2 (AT)', 'Mercedes-Benz GLC 220d 4MATIC Style', 'Fiat Punto 1.2 Dynamic', 'Hyundai Grand i10 SportZ Edition', 'Mahindra Scorpio S10 7 Seater', 'Bentley Continental Flying Spur', 'Ford EcoSport 1.5 Ti VCT MT Signature', 'Toyota Innova 2.5 VX 7 STR BSIV', 'Nissan Micra Diesel XV Primo', 'Toyota Corolla Altis G AT', 'Mercedes-Benz New C-Class 200 Kompressor', 'BMW X5 2014-2019 xDrive 30d Design Pure Experience 7 Seater', 'Mitsubishi Pajero 2.8 GLX Sports', 'Chevrolet Sail 1.2 LS', 'Tata Nano Cx', 'Ford Fiesta Diesel Titanium Plus', 'Toyota Fortuner TRD Sportivo 2.8 2WD AT', 'Mercedes-Benz E-Class E 200 CGI', 'BMW 3 Series 320d Sedan', 'Hyundai Verna 1.4 VTVT', 'Audi Q5 3.0 TDI Quattro', 'Maruti Celerio ZXI MT', 'Volvo S80 2006-2013 D5', 'Skoda Octavia Ambiente 1.9 TDI', 'Ford Figo Aspire 1.2 Ti-VCT Ambiente', 'Skoda Fabia 1.4 TDI Active', 'Hyundai Santro GLS II - Euro II', 'Ford Figo Diesel Celebration Edition', 'Hyundai Xcent 1.2 Kappa S Option CNG', 'Tata New Safari Dicor EX 4X2', 'Volkswagen Polo 1.2 MPI Trendline', 'Maruti Swift Ldi BSIII', 'Hyundai Verna 1.6 CRDi AT SX', 'Toyota Etios G Safety', 'Mercedes-Benz New C-Class 200 CDI Elegance', 'Skoda Fabia 1.2 MPI Classic', 'Honda Civic 2010-2013 1.8 S MT', 'Toyota Fortuner 4x4 AT', 'Honda WRV i-VTEC VX', 'Hyundai Santro Xing GLS LPG', 'Audi Q3 2012-2015 35 TDI Quattro Premium Plus', 'Force One LX 4x4', 'Toyota Corolla DX', 'Ford Figo Aspire 1.5 TDCi Titanium', 'Land Rover Freelander 2 TD4 HSE', 'Hyundai i20 Sportz Petrol', 'Hyundai Creta 1.6 VTVT E Plus', 'Ford Figo 2015-2019 1.5D Ambiente MT', 'Hyundai Tucson 2.0 Dual VTVT 2WD AT GL', 'Maruti Wagon R VXI AMT1.2', 'BMW 6 Series 640d Gran Coupe', 'BMW 3 Series 330i', 'Hyundai Grand i10 CRDi SportZ Edition', 'Renault KWID 1.0 RXT Optional AMT', 'Hyundai Xcent 1.1 CRDi SX', 'Tata Indica LEI', 'Mini Cooper 5 DOOR D', 'Land Rover Range Rover Sport 2005 2012 HSE', 'Ford Fiesta 1.6 ZXi Duratec', 'Hyundai Xcent 1.2 VTVT S', 'Hyundai Sonata Embera 2.0L CRDi AT', 'Porsche Panamera 2010 2013 4S', 'Mahindra Bolero ZLX BSIII', 'Skoda Rapid 1.6 MPI Active', 'Ford Endeavour 2.5L 4X2 MT', 'Maruti SX4 ZXI MT BSIV', 'Mahindra Scorpio VLX 2.2 mHawk BSIII', 'Mahindra NuvoSport N6', 'Hyundai i20 2015-2017 1.2 Asta with AVN', 'Chevrolet Enjoy Petrol LS 7 Seater', 'Tata Nano Twist XT', 'Mercedes-Benz S-Class S 350 d', 'Toyota Fortuner 2.8 2WD AT', 'Hyundai Verna 1.6 SX VTVT AT', 'Honda City 1.3 EXI', 'Honda CR-V 2.4L 4WD MT', 'Maruti Celerio ZXI Optional', 'Chevrolet Beat LT Option', 'Land Rover Discovery Sport SD4 HSE Luxury', 'Mahindra KUV 100 G80 K8 Dual Tone', 'Skoda Superb 1.8 TSI', 'Renault Pulse Petrol RxL', 'Ford Fiesta 1.4 TDCi EXI Limited Edition', 'Toyota Innova 2.5 ZX Diesel 7 Seater BSIII', 'Hyundai i20 Active SX Petrol', 'Maruti Ritz ZDi', 'Hyundai Santa Fe 4X4', 'Volkswagen Ameo 1.2 MPI Comfortline', 'Hyundai i20 Magna Optional 1.4 CRDi', 'Volvo S60 D5 Summum', 'Honda Jazz 1.2 E i VTEC', 'Toyota Innova 2.5 LE 2014 Diesel 7 Seater', 'Skoda Octavia Ambition 1.4 TSI MT', 'Hyundai i10 Asta 1.2 AT with Sunroof', 'Toyota Corolla Altis G MT', 'Porsche Boxster S tiptronic', 'Land Rover Discovery HSE Luxury 3.0 TD6', 'Maruti Ignis 1.2 AMT Alpha', 'Ford EcoSport 1.0 Ecoboost Titanium Plus BE', 'Maruti Zen LXi BSII', 'Volkswagen Ameo 1.2 MPI Anniversary Edition', 'Jaguar XJ 3.0L Portfolio', 'Maruti SX4 S Cross DDiS 320 Zeta', 'Hyundai Verna 1.6 CRDi EX MT', 'Nissan Micra Active XL Petrol', 'Nissan Evalia 2013 XL', 'Volvo XC60 D5', 'Hyundai i20 1.4 Asta Optional With Sunroof', 'Ford Endeavour XLT TDCi 4X2', 'Mercedes-Benz E-Class 280 Elegance', 'Mitsubishi Pajero 2.8 SFX BSIV Dual Tone', 'Mahindra Scorpio 2.6 CRDe', 'Ford Figo 1.5D Trend MT', 'BMW 6 Series 630i Coupe', 'Maruti Celerio LXI', 'Skoda Yeti Elegance', 'Maruti Swift Dzire LXi', 'Hyundai Santro Xing XO', 'Tata Indica V2 DL BSIII', 'Volkswagen Polo GT 1.5 TDI', 'Porsche Panamera 2010 2013 Diesel', 'Nissan Teana XV', 'Land Rover Freelander 2 TD4 S', 'Maruti Dzire AMT ZDI Plus', 'Mahindra TUV 300 T8', 'Mahindra Xylo D2 BSIV', 'Skoda Rapid 1.5 TDI AT Elegance Plus', 'Skoda Laura RS', 'Hyundai i20 1.4 Magna ABS', 'Mahindra Xylo E4 ABS BS III', 'Maruti Ciaz ZXi Plus', 'Chevrolet Enjoy 1.3 TCDi LS 8', 'Hyundai Creta 1.6 SX', 'Mahindra Xylo D2 Maxx', 'Mercedes-Benz SL-Class SL 500', 'Fiat Linea 1.3 Emotion', 'Maruti Omni 8 Seater BSIV', 'Hyundai Accent GLS 1.6', 'Maruti Celerio ZXI AMT', 'Force One LX ABS 7 Seating', 'Skoda Octavia RS', 'Tata Indigo LS Dicor', 'Hyundai Santro Xing GL Plus LPG', 'Mercedes-Benz New C-Class 220 CDI MT', 'Maruti Wagon R AMT VXI Option', 'Maruti SX4 Vxi BSIII', 'Mitsubishi Pajero 4X4 LHD', 'Ford Figo 2015-2019 1.5D Titanium Plus MT', 'Mahindra Scorpio LX BS IV', 'Audi Q5 30 TDI quattro Premium', 'Nissan Terrano XL D Option', 'Mercedes-Benz CLS-Class 2006-2010 350 CDI', 'Mahindra Scorpio S2 7 Seater', 'Hyundai Accent Executive', 'Fiat Grande Punto 1.3 Emotion (Diesel)', 'Toyota Camry W4 (AT)', 'Mahindra Scorpio DX 2.6 Turbo 8 Str', 'Ford Fiesta 1.4 Duratec ZXI', 'Volkswagen Jetta 2012-2014 2.0L TDI Highline AT', 'Mercedes-Benz C-Class Progressive C 220d', 'Mahindra Ssangyong Rexton RX5', 'Skoda Octavia Ambiente 1.9 TDI MT', 'Maruti Omni MPI CARGO BSIII W/ IMMOBILISER', 'Tata Indigo CS Emax CNG GLX', 'Maruti A-Star Lxi', 'Honda City 1.5 V AT Exclusive', 'Ford Figo 2015-2019 1.2P Titanium Opt MT', 'Hyundai Verna SX CRDi AT', 'Ford Aspire Ambiente Diesel', 'Mercedes-Benz GLA Class 200 d Style', 'Renault Duster Petrol RxL', 'Ford Figo Petrol LXI', 'Mahindra E Verito D4', 'Maruti Swift LXi BSIV', 'Volkswagen Vento 2013-2015 1.6 Comfortline', 'Chevrolet Captiva LTZ VCDi', 'Audi Q3 2.0 TDI', 'Maruti Alto K10 LXI Optional', 'Maruti Dzire AMT VXI', 'Hyundai Elite i20 Diesel Asta Option', 'Mercedes-Benz E-Class 280 CDI', 'Mahindra Scorpio 2009-2014 SLE 7S BSIV', 'Mahindra Quanto C8', 'Nissan Terrano XL Plus ICC WT20 SE', 'Tata Indica GLS BS IV', 'Tata Indica V2 DLS TC', 'Tata Nano CX', 'Honda City i VTEC CVT SV', 'Honda City Corporate Edition', 'Ford Figo Aspire 1.5 TDCi Ambiente', 'Renault Fluence 1.5', 'Honda CR-V AT With Sun Roof', 'Skoda Octavia Elegance 1.8 TSI AT', 'Ford Fiesta 1.4 TDCi EXI', 'Maruti SX4 ZXI AT Leather', 'Ford Ecosport Signature Edition Diesel', 'Maruti Alto VXi', 'Honda City i VTEC SV', 'Mahindra Quanto C6', 'Honda Jazz 1.2 V AT i VTEC Privilege', 'Maruti Wagon R Stingray VXI', 'Toyota Innova 2.5 GX 7 STR BSIV', 'Ford Classic 1.4 Duratorq Titanium', 'Datsun redi-GO S', 'Honda Amaze V Petrol', 'Tata Nexon 1.5 Revotorq XZ Plus Dual Tone', 'Hyundai Accent GLS', 'Hyundai Xcent 1.2 CRDi S', 'Skoda Rapid 1.5 TDI Ambition Plus', 'Skoda Superb 2009-2014 Elegance 2.0 TDI MT', 'Renault Fluence Diesel E4', 'Honda Mobilio V Option i DTEC', 'Skoda Rapid 1.6 MPI AT Ambition Plus', 'Skoda Superb 1.8 TFSI MT', 'Maruti Swift VXi BSIV', 'Audi Q7 4.2 TDI Quattro Technology', 'Maruti Celerio CNG VXI MT', 'Hyundai i10 Magna 1.2 iTech SE', 'Skoda Octavia Elegance 1.9 TDI', 'Ford Figo 2015-2019 1.5P Titanium AT', 'Skoda Rapid 1.6 TDI Elegance', 'Hyundai Santro GLS I - Euro I', 'Toyota Corolla Altis G HV AT', 'Maruti Zen LXi - BS III', 'Land Rover Range Rover HSE Dynamic', 'Mahindra Scorpio 1.99 S10', 'Mercedes-Benz GLA Class 200 CDI', 'Hyundai Verna VTVT 1.6 AT SX Plus', 'Toyota Etios Liva Diesel', 'Mitsubishi Pajero Sport 4X4 AT', 'Ford Endeavour 2.5L 4X2', 'Hyundai Getz GLS ABS', 'Tata Sumo DX', 'Maruti Grand Vitara MT', 'Tata Indigo eCS GLX', 'BMW X5 3.0d', 'Toyota Innova Crysta 2.4 GX MT', 'Tata Indigo GLE', 'Honda CR-V Sport', 'Mahindra Scorpio VLX 2.2 mHawk Airbag BSIV', 'Tata New Safari DICOR 2.2 EX 4x4 BS IV', 'Audi Q7 3.0 TDI Quattro Technology', 'BMW X5 xDrive 30d M Sport', 'Honda Amaze VX Diesel', 'Nissan Terrano XV 110 PS', 'Mercedes-Benz S-Class 320 L', 'Volkswagen Vento IPL II Petrol Highline AT', 'Porsche Cayenne S Diesel', 'Ford Fiesta Diesel Style', 'Skoda Superb Ambition 2.0 TDI CR AT', 'Nissan Terrano XL 85 PS', 'Nissan Micra XV D', 'Maruti Wagon R CNG LXI', 'Hyundai Santa Fe 2WD AT', 'Hyundai Verna 1.6 CRDI SX Option', 'Toyota Innova Crysta 2.7 GX MT', 'Nissan Terrano XL Plus 85 PS', 'Honda Amaze VX O i VTEC', 'Mercedes-Benz S Class 2005 2013 S 500', 'Maruti Swift DDiS ZDI Plus', 'BMW 5 Series 530i Sedan', 'Audi A4 2.0 TDI Celebration Edition', 'Maruti Ciaz Zeta', 'Maruti Ertiga ZDI Plus', 'Mercedes-Benz E-Class 250 D W 210', 'Skoda Rapid 1.6 MPI Elegance', 'Mahindra Renault Logan 1.4 GLX Petrol', 'Maruti Baleno RS Petrol', 'Hyundai i20 1.4 Asta Option', 'Hyundai Tucson CRDi', 'Volkswagen Polo 1.0 MPI Trendline', 'Hyundai Xcent 1.2 VTVT E Plus', 'Chevrolet Tavera LT 9 Str BS IV', 'Honda Jazz VX Diesel', 'Honda City i DTEC V', 'Renault KWID AMT RXL', 'Hyundai i20 2015-2017 Magna 1.2', 'Maruti 800 Std', 'Maruti Zen LXI', 'Chevrolet Optra 1.6 LS', 'Mahindra Verito 1.5 D6 BSIV', 'Hyundai Elantra CRDi S', 'Maruti Swift ZDi', 'Maruti Swift Dzire ZXi', 'Mahindra Logan Diesel 1.5 DLS', 'Land Rover Freelander 2 HSE SD4', 'Skoda Yeti Ambition 4X2', 'Ford Figo Aspire 1.5 TDCi Titanium Plus', 'Skoda Fabia 1.2 TDI Ambition', 'Volkswagen Vento 1.6 Comfortline', 'Fiat Linea Emotion Pack (Diesel)', 'Volkswagen Vento 1.6 Highline', 'Honda Amaze VX i-Vtech', 'BMW 5 Series 2013-2017 520d M Sport', 'Hyundai Verna Xi (Petrol)', 'Toyota Corolla Altis 1.8 G CVT', 'Ford Freestyle Titanium Petrol', 'Toyota Innova 2.5 G (Diesel) 8 Seater BS IV', 'Mini Cooper Countryman D High', 'Hyundai Santro Xing XG', 'Volkswagen CrossPolo 1.5 TDI', 'Mercedes-Benz E-Class 2009-2013 E 200 CGI Elegance', 'Renault KWID 1.0 RXT Optional', 'Audi Q3 35 TDI Quattro Premium', 'Renault Scala Diesel RxL', 'BMW X1 M Sport sDrive 20d', 'Maruti Swift VVT VXI', 'Tata Manza Aura Safire BS IV', 'Maruti Grand Vitara 2.4 MT', 'Mahindra Bolero mHAWK D70 ZLX', 'Skoda Laura Ambition 2.0 TDI CR MT', 'Maruti SX4 ZDI Leather', 'BMW 5 Series 2003-2012 GT 530d LE', 'Mercedes-Benz E-Class 230', 'Ford Figo Aspire 1.2 Ti-VCT Trend', 'Mercedes-Benz CLA 200 Sport Edition', 'Toyota Innova Crysta 2.4 G MT', 'Land Rover Discovery Sport TD4 HSE 7S', 'Ford Fiesta 1.6 ZXi Leather', 'Tata Manza Aura Quadrajet BS IV', 'Tata Indica V2 DLS BSII', 'Tata Indica V2 DLG TC', 'Renault KWID Climber 1.0 MT', 'Maruti Baleno Delta Automatic', 'Tata Nano LX SE', 'Hyundai Verna XXi ABS (Petrol)', 'Chevrolet Optra 1.6 Elite', 'Hyundai Grand i10 1.2 CRDi Asta', 'Tata Safari Storme Explorer Edition', 'Mahindra Scorpio VLX 4WD AIRBAG AT BSIV', 'Chevrolet Beat Diesel', 'Nissan Terrano XV 110 PS Limited Edition', 'Mercedes-Benz GLS 350d Grand Edition', 'Skoda Laura 1.9 TDI AT Elegance', 'Maruti Swift ZDI', 'Maruti Ciaz 1.3 S', 'Toyota Innova 2.5 Z Diesel 7 Seater', 'Maruti Zen Estilo LXI Green (CNG)', 'Volvo S60 D4 SUMMUM', 'Toyota Corolla Altis GL MT', 'Audi A4 3.2 FSI Tiptronic Quattro', 'Skoda Fabia 1.2L Diesel Classic', 'Mercedes-Benz New C-Class 200 CDI Classic', 'Audi Q7 3.0 TDI quattro', 'Hyundai Verna CRDi 1.6 AT SX Option', 'Land Rover Range Rover Sport SE', 'Mercedes-Benz E-Class 2009-2013 E250 CDI Classic', 'Chevrolet Sail LT ABS', 'Fiat Siena 1.2 ELX', 'Skoda Fabia 1.4 MPI Ambiente', 'Mercedes-Benz GLC 43 AMG Coupe', 'Chevrolet Optra Magnum 2.0 LS BSIII', 'Mitsubishi Pajero 2.8 SFX 7Str', 'Ford Aspire Titanium Plus Diesel', 'Skoda Rapid 1.6 MPI AT Ambition Plus Alloy', 'Mercedes-Benz CLA 200 CDI Style', 'Ford Endeavour Titanium 4X2', 'Maruti Wagon R Duo Lxi', 'BMW 7 Series 2007-2012 740Li', 'Honda City V MT AVN', 'Honda Brio S Option AT', 'BMW 5 Series 530d M Sport', 'Honda City i VTEC S', 'Hyundai i20 Magna 1.4 CRDi (Diesel)', 'Hyundai i20 2015-2017 Asta', 'Nissan Micra XE', 'Toyota Etios VD', 'Toyota Camry A/T', 'Ford Ecosport 1.5 Ti VCT MT Titanium', 'Volkswagen Vento 1.5 TDI Trendline', 'Ford EcoSport 1.5 TDCi Trend Plus BE', 'Maruti Baleno LXI - BSIII', 'Mitsubishi Montero 3.2 GLS', 'Maruti Estilo LXI', 'Chevrolet Sail Hatchback 1.2 LS ABS', 'Tata Venture EX', 'Maruti Eeco Smiles 5 Seater AC', 'Maruti Baleno Alpha CVT', 'Skoda Rapid 1.6 MPI AT Ambition', 'Volkswagen Jetta 2007-2011 1.9 TDI Trendline', 'Maruti Ciaz 1.4 Alpha', 'Hyundai Santa Fe 4WD AT', 'Hyundai Verna 1.6 CRDi AT S', 'Hyundai i10 Sportz AT', 'Toyota Innova 2.5 GX (Diesel) 7 Seater BS IV', 'Honda Jazz Active', 'Datsun redi-GO T', 'Mercedes-Benz CLA 200 CGI Sport', 'Renault Koleos 2.0 Diesel', 'Hyundai Santro D Lite', 'Mahindra KUV 100 G80 K8', 'Hyundai Santro LP zipPlus', 'Jeep Compass 2.0 Limited', 'Hyundai i10 Sportz Option', 'Tata Indigo eCS eLS BS IV', 'Mercedes-Benz E-Class 2009-2013 E250 CDI Elegance', 'Maruti Ertiga ZDI', 'Toyota Etios Liva GD SP', 'Volkswagen Jetta 2012-2014 2.0L TDI Comfortline', 'Ford Endeavour 3.2 Trend AT 4X4', 'Chevrolet Beat Option Pack', 'BMW X3 xDrive20d Expedition', 'BMW 3 Series 330 Ci Convertible', 'Maruti Ciaz VDi Plus SHVS', 'Fiat Grande Punto EVO 1.3 Active', 'Hyundai EON 1.0 Kappa Magna Plus Optional', 'Maruti Baleno Delta 1.3', 'BMW 3 Series 320d Highline', 'Skoda Octavia Ambition 1.8 TSI AT', 'Nissan X-Trail SLX AT', 'Fiat Grande Punto 1.3 Emotion Pack (Diesel)', 'Toyota Qualis RS E2', 'Mahindra Xylo E8 BS IV', 'Hyundai i10 Magna(O) with Sun Roof', 'Volkswagen Jetta 2007-2011 1.9 Highline TDI', 'Tata Tigor 1.05 Revotorq XZ Option', 'Maruti Celerio LDi', 'Ambassador Classic Nova Diesel', 'Mahindra Scorpio SLE BSIII', 'Volkswagen Vento Sport 1.2 TSI AT', 'Maruti Swift Dzire LDI', 'Hyundai Verna Transform CRDi VGT SX ABS', 'Nissan Micra Diesel XV Premium', 'Tata New Safari DICOR 2.2 VX 4x4', 'Maruti Ritz VDI (ABS) BS IV', 'Tata Manza Aura Quadrajet', 'Mercedes-Benz New C-Class C220 CDI Executive Edition', 'Renault Duster 85PS Diesel RxL Optional with Nav', 'Mercedes-Benz E-Class Facelift', 'Mahindra KUV 100 mFALCON D75 K4', 'Toyota Fortuner 4x2 MT TRD Sportivo', 'Mercedes-Benz B Class B180', 'Hyundai Grand i10 1.2 Kappa Magna AT', 'Volkswagen Ameo 1.2 MPI Highline', 'Hyundai Accent Executive CNG', 'Ford Fiesta 1.6 ZXi ABS', 'BMW X6 xDrive 40d', 'Land Rover Range Rover Evoque 2.0 TD4 HSE Dynamic', 'Nissan Sunny XL', 'Toyota Corolla Altis 1.8 GL', 'Ford Ikon 1.3 CLXi', 'Tata Xenon XT EX 4X4', 'Mahindra Scorpio S10 AT 4WD', 'Honda Civic 2006-2010 1.8 V AT', 'Honda CR-V 2.4 MT', 'Toyota Etios GD SP', 'Tata Safari DICOR 2.2 LX 4x2', 'Honda Civic 2010-2013 1.8 V MT', 'Volkswagen Vento Petrol Trendline', 'Ford Figo Diesel EXI Option', 'Tata New Safari DICOR 2.2 EX 4x4', 'Maruti Alto 800 2016-2019 CNG LXI', 'Audi A4 1.8 TFSI', 'Renault Duster 110PS Diesel RXZ Option', 'Audi Q5 2.0 TDI Premium Plus', 'Tata Tiago AMT 1.2 Revotron XZA', 'Toyota Corolla Altis D-4D J', 'Hyundai Verna VTVT 1.6 SX Option', 'Mahindra XUV500 AT W8 FWD', 'Hyundai Xcent 1.2 Kappa S', 'Hyundai Grand i10 CRDi Asta', 'Volkswagen Passat 2.0 PD DSG', 'Toyota Qualis Fleet A3', 'Honda BR-V i-VTEC S MT', 'Hyundai Getz GLS', 'Volkswagen Vento Magnific 1.6 Comfortline', 'Mercedes-Benz E-Class E270 CDI', 'Mahindra Scorpio VLX 4WD AIRBAG BSIV', 'Toyota Camry Hybrid', 'Ford Fiesta 1.6 SXI ABS Duratec', 'Tata Zest Quadrajet 1.3', 'Mercedes-Benz S Class 2005 2013 S 300 L', 'BMW 3 Series Sport', 'Toyota Innova 2.5 GX 7 STR', 'Maruti Swift Dzire LDi', 'Renault Fluence 2.0', 'Honda City 1.5 EXI AT', 'Maruti Celerio ZXI', 'Honda Accord 2001-2003 2.0 AT', 'Audi A4 35 TDI Premium', 'Maruti Dzire ZDI Plus', 'Jeep Compass 2.0 Limited 4X4', 'Chevrolet Optra Magnum 2.0 LT BS3', 'Ford Figo 2015-2019 1.2P Trend MT', 'Ford Endeavour 4x2 XLT', 'Mercedes-Benz E-Class E 350 d', 'Land Rover Range Rover Sport 2005 2012 Sport', 'Volkswagen Vento IPL II Petrol Trendline', 'Skoda Laura Ambiente', 'Honda Mobilio E i DTEC', 'Hyundai i20 Active 1.2 SX Dual Tone', 'Toyota Qualis FS B2', 'Hyundai Santro Xing XO CNG', 'Honda City i DTEC VX', 'Maruti Alto 800 2016-2019 LXI Optional', 'Nissan Micra Diesel XL', 'Mahindra KUV 100 mFALCON G80 K2', 'Chevrolet Optra Magnum 1.6 LT ABS BS3', 'Nissan Sunny XE P', 'Land Rover Range Rover Evoque 2.0 TD4 Pure', 'Tata Indigo XL Classic Dicor', 'Maruti Ritz VXI ABS', 'Maruti Ertiga VDI Limited Edition', 'Mitsubishi Pajero 2.8 GLX CRZ', 'Skoda Rapid 1.6 MPI Ambition With Alloy Wheel', 'Audi Q3 2.0 TDI Quattro', 'Volkswagen Polo Petrol Highline 1.6L', 'Lamborghini Gallardo Coupe', 'Tata Indica V2 DLS', 'Mahindra XUV500 W4', 'Ford Freestyle Titanium Plus Petrol', 'Audi Q7 35 TDI Quattro Premium Plus', 'Volvo V40 D3 R Design', 'Hyundai Santa Fe 4x4 AT', 'Volkswagen Ameo 1.2 MPI Trendline', 'Hyundai i20 Asta (o)', 'Maruti Swift Lxi BSIII', 'Mahindra Xylo D4 BS III', 'Mahindra Quanto C4', 'Hyundai i20 Asta', 'Volkswagen Vento Konekt Diesel Highline', 'Chevrolet Beat Diesel PS', 'Hyundai EON LPG Era Plus Option', 'Ford EcoSport 1.5 Ti VCT AT Titanium BE', 'Maruti Baleno LXI', 'Honda Accord 2.4 Inspire M/T', 'Porsche Cayenne 2009-2014 Turbo', 'Mercedes-Benz E-Class 220 CDI', 'Skoda Laura Elegance MT', 'Tata Tigor XE Diesel', 'Mercedes-Benz E-Class 2009-2013 E 250 Elegance', 'Ford Endeavour XLT TDCi 4X4', 'Mahindra XUV500 AT W10 AWD', 'Mercedes-Benz R-Class R350 4Matic Long', 'Fiat Avventura MULTIJET Emotion', 'Nissan Micra Diesel', 'Skoda Rapid 1.6 MPI Ambition Plus', 'Maruti Ciaz ZDi SHVS', 'Volkswagen Jetta 2012-2014 2.0L TDI Trendline', 'Maruti Ritz AT', 'Mahindra Thar DI 4X4', 'Tata Zest Quadrajet 1.3 XT', 'BMW 5 Series 523i Sedan', 'Maruti Esteem LX BSII', 'Mercedes-Benz R-Class R350 CDI 4MATIC', 'Chevrolet Optra Magnum 1.6 LS BS3', 'Ford Figo Diesel', 'Maruti Alto K10 VXI AGS', 'Mercedes-Benz S-Class 280 AT', 'Honda City i DTEC S', 'Hyundai Verna 1.6 CRDi SX', 'Nissan Micra Active XV S', 'Mahindra KUV 100 mFALCON D75 K4 Plus 5str', 'Skoda Laura L n K 1.9 PD AT', 'BMW 3 Series 320i Sedan', 'Mahindra Xylo H4', 'Honda Civic 2006-2010 1.8 S AT', 'Hyundai i20 1.2 Asta Option', 'Hyundai Verna 1.4 EX', 'BMW X1 xDrive 20d M Sport', 'Maruti SX4 Zxi with Leather BSIII', 'Hyundai Xcent 1.2 Kappa Base', 'Nissan Sunny 2011-2014 XV', 'BMW 7 Series 730Ld Sedan', 'Maruti Vitara Brezza ZDi Plus', 'Toyota Innova 2.0 E', 'Porsche Cayenne 2009-2014 Diesel', 'BMW 1 Series 118d Base', 'BMW 3 Series 2005-2011 325i Sedan', 'Skoda Octavia Style Plus 2.0 TDI AT', 'Mahindra Bolero VLX BS IV', 'Mercedes-Benz New C-Class Progressive C 200', 'Mahindra KUV 100 mFALCON D75 K4 Plus', 'Jaguar XJ 5.0 L V8 Supercharged', 'Hyundai Santro Xing XO eRLX Euro II', 'Tata Indigo XL Grand Petrol', 'Skoda Laura Elegance 2.0 TDI CR AT', 'BMW 5 Series 2003-2012 525d', 'Tata Indica Vista Quadrajet 90 ZX Plus', 'BMW 7 Series 740Li', 'Honda CR-V Petrol 2WD', 'Jeep Compass 2.0 Limited Option Black', 'Porsche Cayman 2009-2012 S tiptronic', 'Hyundai Verna CRDi 1.6 SX', 'Hyundai i10 Sportz 1.2 AT', 'Mercedes-Benz New C-Class 220', 'Mercedes-Benz E-Class 2015-2017 E350 CDI Avantgrade', 'Maruti Swift 1.3 LXI', 'Maruti Baleno Alpha Diesel', 'Volkswagen Jetta 2007-2011 1.9 L TDI', 'Skoda Octavia Ambition 2.0 TDI AT', 'Maruti 800 DX BSII', 'Mercedes-Benz New C-Class C 200 Kompressor Elegance AT', 'Mitsubishi Lancer 1.5 SFXi', 'Maruti S Cross DDiS 200 Alpha', 'Fiat Linea Emotion', 'Tata Sumo EX', 'Tata Indica V2 eLS', 'Hyundai Santro GS zipDrive - Euro II', 'Isuzu MUX 4WD', 'Datsun GO T Option', 'Volkswagen Vento TSI', 'Hyundai Getz 1.5 CRDi GVS', 'Maruti Zen LX', 'Hyundai Santro GS', 'Fiat Linea T Jet', 'Ford Figo 2015-2019 1.2P Sports Edition MT', 'Land Rover Discovery Sport TD4 HSE', 'Honda City 1.5 EXI S', 'Hyundai i10 Magna 1.1 iTech SE', 'Honda Jazz Select Edition', 'Hyundai Grand i10 Era', 'Mini Cooper 3 DOOR S', 'Tata Indigo eCS LS (TDI) BS-III', 'Mahindra Scorpio 2.6 SLX CRDe', 'Toyota Etios Cross 1.4 GD', 'Tata Bolt Quadrajet XE', 'Hyundai Getz 1.3 GLS', 'Maruti Celerio ZXI AT Optional', 'Maruti Swift LXI', 'Maruti Wagon R LX DUO BSIII', 'Honda CR-V 2.4L 4WD AT', 'Audi TT 2.0 TFSI', 'Hyundai i20 1.4 Asta CRDi with AVN', 'Hyundai Verna Transform SX VTVT', 'Toyota Corolla 1.8 J', 'Ford Figo 1.5D Titanium Plus MT', 'Mahindra Scorpio 2009-2014 LX 2WD 7S', 'Mahindra Scorpio S6 7 Seater', 'Mercedes-Benz SLK-Class 55 AMG', 'Land Rover Freelander 2 SE', 'Audi Q7 45 TDI Quattro Premium Plus', 'Honda City V MT Exclusive', 'Hyundai i20 Active S Diesel', 'Mahindra Bolero SLX 2WD', 'Maruti Ignis 1.3 Zeta', 'Toyota Fortuner 4x2 Manual', 'Volkswagen Passat Highline DSG', 'Chevrolet Optra Magnum 1.6 LS Petrol', 'Honda Brio EX MT', 'Jaguar XJ 3.0L Premium Luxury', 'Honda Brio 1.2 S Option MT', 'Maruti Ciaz 1.4 Delta', 'Toyota Corolla Altis 2008-2013 1.8 VL AT', 'Hyundai i10 Asta AT', 'Maruti Wagon R Duo LX BSIII', 'BMW 3 Series 320d Dynamic', 'Mercedes-Benz New C-Class C 200 Kompressor Elegance MT', 'Maruti Wagon R VXI Plus', 'Maruti Celerio ZXI AT', 'Mercedes-Benz New C-Class C 200 Avantgarde Edition C', 'Hyundai Santro LP - Euro II', 'Jaguar F Type 5.0 V8 S', 'Fiat Linea Classic Plus 1.3 Multijet', 'Mahindra Scorpio 2.6 DX', 'Ford Figo 2015-2019 1.5D Titanium MT', 'Fiat Grande Punto 1.2 Dynamic', 'Audi A4 3.0 TDI Quattro', 'Maruti Omni MPI STD BSIV', 'Honda Accord 2001-2003 2.3 VTi L AT', 'Tata Indica Vista Aqua 1.3 Quadrajet', 'Jaguar XJ 2.0L Portfolio', 'Skoda Rapid Ultima 1.6 TDI Elegance', 'Hyundai i20 Sportz Option', 'Honda City 1.5 V AT Sunroof', 'Mercedes-Benz E-Class 2009-2013 E350 Petrol', 'Smart Fortwo CDI AT', 'Audi A3 35 TDI Technology', 'Hyundai Verna Transform SX VGT CRDi', 'Mahindra Scorpio 2.6 LX', 'Maruti Wagon R LXI BSIII', 'Maruti Swift Dzire ZDi', 'Hyundai Xcent 1.2 Kappa SX', 'Ford Fiesta 1.4 Duratorq ZXI', 'BMW 7 Series 2007-2012 750Li', 'Mahindra Jeep MM 540 DP', 'BMW 7 Series 730Ld Design Pure Excellence CBU', 'Skoda Yeti Elegance 4X2', 'Maruti Wagon R VXi BSII', 'Renault Duster 110PS Diesel RxZ AWD', 'Maruti Wagon R VXI BS IV with ABS', 'Maruti Ciaz ZXi Option', 'Hyundai Elantra 1.6 SX Option AT', 'BMW X1 sDrive 20d Sportline', 'Ford Fiesta Classic 1.4 Duratorq LXI', 'Honda City i-VTEC S', 'Land Rover Range Rover TDV8 (Diesel)', 'Renault Duster 85PS Diesel RxL Plus', 'Audi RS5 Coupe', 'Mahindra TUV 300 2015-2019 mHAWK100 T8', 'Honda City i-VTEC V', 'Volvo XC60 D5 Inscription', 'Hyundai Xcent 1.2 VTVT SX', 'Mahindra KUV 100 G80 K6 Plus 5Str', 'Maruti Ertiga LXI', 'Hyundai Verna 1.6 CRDi S', 'Skoda Superb 2.8 V6 AT', 'Maruti 800 Std BSIII', 'Tata Indigo LS', 'Mahindra KUV 100 mFALCON D75 K6', 'Hyundai Verna Transform Xxi ABS', 'Maruti Omni 8 Seater BSII', 'Volkswagen Polo IPL II 1.2 Petrol Highline', 'Honda Amaze VX i-VTEC', 'Ford Ikon 1.3 LXi NXt', 'Hyundai EON 1.0 Magna Plus Option O', 'Maruti Ciaz RS ZXi Plus', 'Fiat Punto 1.3 Emotion', 'Mercedes-Benz CLA 200 CDI Sport', 'Volkswagen Tiguan 2.0 TDI Highline', 'Honda Jazz V', 'Maruti Dzire LDI', 'Maruti Vitara Brezza ZDi Plus AMT Dual Tone', 'Hyundai Verna 1.6 VTVT AT SX', 'Volkswagen Ameo 1.2 MPI Highline Plus 16', 'Toyota Platinum Etios 1.4 GXD', 'Maruti Swift ZXI ABS', 'Jeep Compass 1.4 Limited Option', 'Ford Figo 2015-2019 1.2P Titanium MT', 'Maruti Omni E MPI STD BS IV', 'Skoda Laura 1.8 TSI Ambiente', 'Mercedes-Benz New C-Class C 200 CGI Avantgarde', 'Hyundai Santro Xing XL eRLX Euro III', 'Maruti Swift Ldi BSIV', 'BMW 5 Series 2013-2017 525d Luxury Line', 'Maruti Ciaz AT ZXi', 'Nissan Terrano XL 110 PS', 'Hyundai Verna 1.6 i ABS', 'Mahindra XUV500 W9 AT', 'Audi Q5 2.0 TDI Technology', 'Maruti Ciaz ZDi Plus', 'Toyota Innova 2.5 VX (Diesel) 8 Seater BS IV', 'Maruti Dzire VDI', 'Ford EcoSport 1.5 TDCi Ambiente', 'Maruti S Cross DDiS 200 Sigma Option', 'Audi Q7 45 TDI Quattro Technology', 'Skoda Rapid Leisure 1.6 TDI MT', 'Volvo S60 D4 Momentum', 'Skoda Rapid 1.6 MPI AT Style Black Package', 'Skoda Octavia Rider Classic 1.9 TDI', 'Mahindra Logan Petrol 1.4 GLE', 'Honda CR-V 2.0L 2WD AT', 'Hyundai i20 1.2 Asta with AVN', 'Maruti Zen VXI', 'Maruti Ritz VXi', 'Hyundai i20 Diesel Asta Option', 'Land Rover Range Rover 3.6 TDV8 Vogue SE Diesel', 'Hyundai i20 Sportz Option Diesel', 'BMW 3 Series 320d Sport Line', 'Honda BR-V i-DTEC VX MT', 'Mahindra Scorpio SLX', 'Skoda Rapid 2013-2016 1.6 MPI Ambition', 'Audi A7 2011-2015 Sportback', 'Maruti Alto Vxi 1.1', 'Audi A6 2.7 TDI', 'Tata Manza ELAN Quadrajet BS IV', 'Toyota Camry 2.5 Hybrid', 'Honda Civic 2006-2010 1.8 S MT', 'Maruti Swift 1.3 VXI ABS', 'Tata Indica V2 DLE BSIII', 'Chevrolet Aveo U-VA 1.2 LT', 'BMW X3 xDrive 20d xLine', 'Skoda Superb Elegance 1.8 TSI MT', 'Maruti Wagon R LXI Optional', 'Ford Fiesta 1.6 ZXI Duratec', 'Tata Zest Quadrajet 1.3 75PS XM', 'Tata Safari Storme 2012-2015 EX', 'Nissan Micra XL Primo', 'Audi A4 1.8 TFSI Technology Edition', 'Land Rover Range Rover 3.0 Diesel LWB Vogue', 'Skoda Rapid 1.6 TDI Active', 'Hyundai i20 2015-2017 Magna', 'Tata Manza Aura Safire', 'BMW 3 Series 318i Sedan', 'Mercedes-Benz New C-Class 230 Avantgarde', 'Hyundai Grand i10 Magna AT', 'Fiat Punto EVO 1.2 Emotion', 'Tata New Safari DICOR 2.2 VX 4x2', 'Ford Figo Petrol EXI', 'Ford Mustang V8', 'Audi A4 35 TDI Premium Sport', 'Volvo S60 D3', 'Hyundai Santro Xing XP', 'Hyundai i20 Asta (o) 1.4 CRDi (Diesel)', 'BMW 3 Series 320d Corporate Edition', 'Skoda Rapid Ultima 1.6 MPI Ambition Plus', 'Mahindra KUV 100 mFALCON G80 K6 5str AW', 'Maruti Zen Estilo 1.1 VXI BSIII', 'Audi Q7 4.2 FSI quattro', 'Maruti Swift RS VDI', 'Mahindra XUV500 W8 1.99 mHawk', 'Hyundai i20 Sportz 1.4 CRDi', 'BMW X1 sDrive 20d xLine', 'Honda Amaze EX i-Dtech', 'Hyundai Xcent 1.1 CRDi SX Option', 'Tata Bolt Revotron XT', 'Ford Endeavour 2.2 Trend AT 4X2', 'Volvo XC60 D4 Summum', 'Honda City ZX VTEC', 'Tata Manza Aqua Quadrajet', 'Skoda Octavia Ambition Plus 2.0 TDI AT', 'Renault Duster 85PS Diesel RxE', 'Toyota Etios Cross 1.4L GD', 'Hyundai Creta 1.6 SX Option', 'Tata Nano LX', 'Renault Lodgy 110PS RxZ 8 Seater', 'Mercedes-Benz GLS 350d 4MATIC', 'Mercedes-Benz New C-Class C250 Avantgarde', 'Mercedes-Benz E-Class 200 Kompressor Elegance', 'Hyundai i20 Active SX Dual Tone Petrol', 'Skoda Octavia 1.9 TDI', 'Tata Hexa XT', 'Tata Tiago 1.2 Revotron XM Option', 'Toyota Etios Liva 1.2 G', 'Volvo V40 D3', 'Ford Fiesta Diesel Trend', 'Toyota Etios VD SP', 'Mahindra Scorpio S10 4WD', 'Honda Jazz 1.2 S i VTEC', 'Nissan Terrano XV Premium 110 PS Anniversary Edition', 'Mahindra KUV 100 mFALCON D75 K8', 'Maruti Wagon R LX BSIII', 'Honda City i DTec V', 'Honda City 1.5 EXI', 'Maruti 800 AC Uniq', 'Ford EcoSport 1.5 Diesel Titanium Plus', 'Skoda Superb 3.6 V6 FSI', 'Ford Endeavour 4x2 XLT Limited Edition', 'Maruti Dzire New', 'Tata Tigor 1.05 Revotorq XT', 'Tata Bolt Quadrajet XM', 'Maruti Swift LDI SP Limited Edition', 'Hyundai i20 Asta 1.4 CRDi (Diesel)', 'Maruti Zen VX', 'Audi A4 2.0 TDI 177 Bhp Premium Plus', 'Mahindra Scorpio S8 8 Seater', 'Renault Duster 85PS Diesel RxL Option', 'Maruti Wagon R LXI LPG BSIV', 'Maruti 1000 AC', 'Mercedes-Benz SLK-Class SLK 350', 'Maruti Swift LDI BSIV', 'Mercedes-Benz New C-Class 250 CDI Classic', 'Mini Cooper S Carbon Edition', 'Datsun GO Plus T', 'Maruti Swift VXI Optional', 'Maruti Wagon R LX BSII', 'Mercedes-Benz New C-Class C 220 CDI Elegance AT', 'Toyota Innova Crysta 2.4 VX MT', 'Maruti Celerio LXI MT', 'Honda Brio 1.2 VX AT', 'Honda Mobilio RS i DTEC', 'BMW X5 X5 M', 'Maruti Wagon R LXI CNG', 'Hyundai Santro Xing XG eRLX Euro III', 'Renault Duster 85PS Diesel RxL Explore', 'Maruti Celerio VXI AMT', 'Mitsubishi Lancer GLXD', 'Land Rover Discovery 4 TDV6 SE', 'Toyota Corolla Altis VL', 'Tata Indica Vista TDI LX', 'Toyota Corolla Altis D-4D GL', 'Toyota Etios 1.4 VXD', 'Maruti Esteem Vxi', 'BMW X1 sDrive 20d Exclusive', 'Ford Figo Aspire 1.5 TDCi Trend', 'Ford Endeavour Hurricane LE', 'Tata Zest Revotron 1.2 XT', 'Mercedes-Benz GLA Class 200 Sport', 'Mahindra KUV 100 mFALCON D75 K8 Dual Tone', 'Skoda Rapid 1.5 TDI Style', 'Mercedes-Benz GLC 220d Celebration Edition', 'Maruti Zen VXi - BS III', 'Nissan Sunny XL CVT', 'BMW 3 Series 320d GT Luxury Line', 'Chevrolet Enjoy TCDi LTZ 7 Seater', 'Hyundai Santro DX', 'Tata Safari Storme VX', 'Renault Captur 1.5 Diesel Platine Mono', 'Skoda Yeti Ambition 4WD', 'Mitsubishi Pajero Sport Anniversary Edition', 'Hyundai Grand i10 CRDi Era', 'Mercedes-Benz GLA Class 200 Sport Edition', 'BMW 5 Series 2003-2012 530d Highline', 'Honda Jazz 1.5 SV i DTEC', 'Ford Figo 2015-2019 1.5D Trend MT', 'Hyundai i20 2015-2017 1.4 Magna ABS', 'Honda Amaze E i-Dtech', 'Chevrolet Aveo 1.4 LT ABS BSIV', 'Hyundai Verna Transform VTVT', 'Maruti Swift 1.3 ZXI', 'Mahindra Scorpio 2009-2014 VLX 2WD 7S BSIV', 'Jaguar XF Aero Sport Edition', 'Maruti Wagon R Vx', 'Maruti Wagon R LXI Minor', 'Toyota Innova Crysta 2.4 GX MT 8S', 'Maruti 800 AC BSIII', 'BMW 5 Series 530d Highline Sedan', 'Mercedes-Benz E-Class E400 Cabriolet', 'Mahindra TUV 300 T8 AMT', 'Jaguar XF 2.0 Diesel Portfolio', 'Land Rover Range Rover 3.0 D', 'Honda Amaze V CVT Petrol', 'Mitsubishi Pajero 2.8 SFX BSIII Dual Tone', 'Mahindra Jeep MM 550 PE', 'Honda Amaze S i-VTEC', 'Fiat Linea T-Jet Active', 'Tata Indigo LX BSII', 'Datsun GO NXT', 'Mahindra Scorpio VLX 2WD AIRBAG BSIV', 'Maruti Swift ZXI', 'BMW 3 Series 320d Luxury Plus', 'Hyundai Grand i10 CRDi Sportz Celebration Edition', 'Volkswagen Jetta 2012-2014 1.4 TSI', 'Mitsubishi Pajero Sport 4X2 AT DualTone BlackTop', 'BMW 1 Series 118d Sport Line', 'Toyota Corolla Altis 1.8 Sport', 'BMW Z4 2009-2013 35i', 'Mini Countryman Cooper D'}\n"
     ]
    }
   ],
   "source": [
    "print(set(df_car['Name'])-set(df_car_test['Name']))"
   ]
  },
  {
   "cell_type": "code",
   "execution_count": null,
   "metadata": {},
   "outputs": [],
   "source": [
    "#df[\"a\"] = pd.to_numeric(df[\"a\"])"
   ]
  },
  {
   "cell_type": "code",
   "execution_count": null,
   "metadata": {},
   "outputs": [],
   "source": [
    "# let us Create a Company column . will split the column Name and take the first part i[0]as Company "
   ]
  },
  {
   "cell_type": "code",
   "execution_count": 26,
   "metadata": {},
   "outputs": [
    {
     "data": {
      "text/html": [
       "<div>\n",
       "<style scoped>\n",
       "    .dataframe tbody tr th:only-of-type {\n",
       "        vertical-align: middle;\n",
       "    }\n",
       "\n",
       "    .dataframe tbody tr th {\n",
       "        vertical-align: top;\n",
       "    }\n",
       "\n",
       "    .dataframe thead th {\n",
       "        text-align: right;\n",
       "    }\n",
       "</style>\n",
       "<table border=\"1\" class=\"dataframe\">\n",
       "  <thead>\n",
       "    <tr style=\"text-align: right;\">\n",
       "      <th></th>\n",
       "      <th>Name</th>\n",
       "      <th>Location</th>\n",
       "      <th>Year</th>\n",
       "      <th>Kilometers_Driven</th>\n",
       "      <th>Fuel_Type</th>\n",
       "      <th>Transmission</th>\n",
       "      <th>Owner_Type</th>\n",
       "      <th>Mileage</th>\n",
       "      <th>Engine</th>\n",
       "      <th>Power</th>\n",
       "      <th>Seats</th>\n",
       "      <th>Price</th>\n",
       "    </tr>\n",
       "  </thead>\n",
       "  <tbody>\n",
       "    <tr>\n",
       "      <th>0</th>\n",
       "      <td>Maruti Wagon R LXI CNG</td>\n",
       "      <td>Mumbai</td>\n",
       "      <td>2010</td>\n",
       "      <td>72000</td>\n",
       "      <td>CNG</td>\n",
       "      <td>Manual</td>\n",
       "      <td>First</td>\n",
       "      <td>26.6 km/kg</td>\n",
       "      <td>998 CC</td>\n",
       "      <td>58.16 bhp</td>\n",
       "      <td>5.0</td>\n",
       "      <td>1.75</td>\n",
       "    </tr>\n",
       "    <tr>\n",
       "      <th>1</th>\n",
       "      <td>Hyundai Creta 1.6 CRDi SX Option</td>\n",
       "      <td>Pune</td>\n",
       "      <td>2015</td>\n",
       "      <td>41000</td>\n",
       "      <td>Diesel</td>\n",
       "      <td>Manual</td>\n",
       "      <td>First</td>\n",
       "      <td>19.67 kmpl</td>\n",
       "      <td>1582 CC</td>\n",
       "      <td>126.2 bhp</td>\n",
       "      <td>5.0</td>\n",
       "      <td>12.50</td>\n",
       "    </tr>\n",
       "    <tr>\n",
       "      <th>2</th>\n",
       "      <td>Honda Jazz V</td>\n",
       "      <td>Chennai</td>\n",
       "      <td>2011</td>\n",
       "      <td>46000</td>\n",
       "      <td>Petrol</td>\n",
       "      <td>Manual</td>\n",
       "      <td>First</td>\n",
       "      <td>18.2 kmpl</td>\n",
       "      <td>1199 CC</td>\n",
       "      <td>88.7 bhp</td>\n",
       "      <td>5.0</td>\n",
       "      <td>4.50</td>\n",
       "    </tr>\n",
       "    <tr>\n",
       "      <th>3</th>\n",
       "      <td>Maruti Ertiga VDI</td>\n",
       "      <td>Chennai</td>\n",
       "      <td>2012</td>\n",
       "      <td>87000</td>\n",
       "      <td>Diesel</td>\n",
       "      <td>Manual</td>\n",
       "      <td>First</td>\n",
       "      <td>20.77 kmpl</td>\n",
       "      <td>1248 CC</td>\n",
       "      <td>88.76 bhp</td>\n",
       "      <td>7.0</td>\n",
       "      <td>6.00</td>\n",
       "    </tr>\n",
       "    <tr>\n",
       "      <th>4</th>\n",
       "      <td>Audi A4 New 2.0 TDI Multitronic</td>\n",
       "      <td>Coimbatore</td>\n",
       "      <td>2013</td>\n",
       "      <td>40670</td>\n",
       "      <td>Diesel</td>\n",
       "      <td>Automatic</td>\n",
       "      <td>Second</td>\n",
       "      <td>15.2 kmpl</td>\n",
       "      <td>1968 CC</td>\n",
       "      <td>140.8 bhp</td>\n",
       "      <td>5.0</td>\n",
       "      <td>17.74</td>\n",
       "    </tr>\n",
       "  </tbody>\n",
       "</table>\n",
       "</div>"
      ],
      "text/plain": [
       "                               Name    Location  Year  Kilometers_Driven  \\\n",
       "0            Maruti Wagon R LXI CNG      Mumbai  2010              72000   \n",
       "1  Hyundai Creta 1.6 CRDi SX Option        Pune  2015              41000   \n",
       "2                      Honda Jazz V     Chennai  2011              46000   \n",
       "3                 Maruti Ertiga VDI     Chennai  2012              87000   \n",
       "4   Audi A4 New 2.0 TDI Multitronic  Coimbatore  2013              40670   \n",
       "\n",
       "  Fuel_Type Transmission Owner_Type     Mileage   Engine      Power  Seats  \\\n",
       "0       CNG       Manual      First  26.6 km/kg   998 CC  58.16 bhp    5.0   \n",
       "1    Diesel       Manual      First  19.67 kmpl  1582 CC  126.2 bhp    5.0   \n",
       "2    Petrol       Manual      First   18.2 kmpl  1199 CC   88.7 bhp    5.0   \n",
       "3    Diesel       Manual      First  20.77 kmpl  1248 CC  88.76 bhp    7.0   \n",
       "4    Diesel    Automatic     Second   15.2 kmpl  1968 CC  140.8 bhp    5.0   \n",
       "\n",
       "   Price  \n",
       "0   1.75  \n",
       "1  12.50  \n",
       "2   4.50  \n",
       "3   6.00  \n",
       "4  17.74  "
      ]
     },
     "execution_count": 26,
     "metadata": {},
     "output_type": "execute_result"
    }
   ],
   "source": [
    "df_car.head()"
   ]
  },
  {
   "cell_type": "code",
   "execution_count": null,
   "metadata": {},
   "outputs": [],
   "source": [
    "#let us make another column name =Company,we will separate Name from Name column"
   ]
  },
  {
   "cell_type": "code",
   "execution_count": 27,
   "metadata": {},
   "outputs": [],
   "source": [
    "Company=[ i.split()[0]  for i in df_car['Name']]\n",
    "df_car.insert(0,'Company',Company)"
   ]
  },
  {
   "cell_type": "code",
   "execution_count": 28,
   "metadata": {},
   "outputs": [
    {
     "data": {
      "text/html": [
       "<div>\n",
       "<style scoped>\n",
       "    .dataframe tbody tr th:only-of-type {\n",
       "        vertical-align: middle;\n",
       "    }\n",
       "\n",
       "    .dataframe tbody tr th {\n",
       "        vertical-align: top;\n",
       "    }\n",
       "\n",
       "    .dataframe thead th {\n",
       "        text-align: right;\n",
       "    }\n",
       "</style>\n",
       "<table border=\"1\" class=\"dataframe\">\n",
       "  <thead>\n",
       "    <tr style=\"text-align: right;\">\n",
       "      <th></th>\n",
       "      <th>Company</th>\n",
       "      <th>Name</th>\n",
       "      <th>Location</th>\n",
       "      <th>Year</th>\n",
       "      <th>Kilometers_Driven</th>\n",
       "      <th>Fuel_Type</th>\n",
       "      <th>Transmission</th>\n",
       "      <th>Owner_Type</th>\n",
       "      <th>Mileage</th>\n",
       "      <th>Engine</th>\n",
       "      <th>Power</th>\n",
       "      <th>Seats</th>\n",
       "      <th>Price</th>\n",
       "    </tr>\n",
       "  </thead>\n",
       "  <tbody>\n",
       "    <tr>\n",
       "      <th>0</th>\n",
       "      <td>Maruti</td>\n",
       "      <td>Maruti Wagon R LXI CNG</td>\n",
       "      <td>Mumbai</td>\n",
       "      <td>2010</td>\n",
       "      <td>72000</td>\n",
       "      <td>CNG</td>\n",
       "      <td>Manual</td>\n",
       "      <td>First</td>\n",
       "      <td>26.6 km/kg</td>\n",
       "      <td>998 CC</td>\n",
       "      <td>58.16 bhp</td>\n",
       "      <td>5.0</td>\n",
       "      <td>1.75</td>\n",
       "    </tr>\n",
       "    <tr>\n",
       "      <th>1</th>\n",
       "      <td>Hyundai</td>\n",
       "      <td>Hyundai Creta 1.6 CRDi SX Option</td>\n",
       "      <td>Pune</td>\n",
       "      <td>2015</td>\n",
       "      <td>41000</td>\n",
       "      <td>Diesel</td>\n",
       "      <td>Manual</td>\n",
       "      <td>First</td>\n",
       "      <td>19.67 kmpl</td>\n",
       "      <td>1582 CC</td>\n",
       "      <td>126.2 bhp</td>\n",
       "      <td>5.0</td>\n",
       "      <td>12.50</td>\n",
       "    </tr>\n",
       "    <tr>\n",
       "      <th>2</th>\n",
       "      <td>Honda</td>\n",
       "      <td>Honda Jazz V</td>\n",
       "      <td>Chennai</td>\n",
       "      <td>2011</td>\n",
       "      <td>46000</td>\n",
       "      <td>Petrol</td>\n",
       "      <td>Manual</td>\n",
       "      <td>First</td>\n",
       "      <td>18.2 kmpl</td>\n",
       "      <td>1199 CC</td>\n",
       "      <td>88.7 bhp</td>\n",
       "      <td>5.0</td>\n",
       "      <td>4.50</td>\n",
       "    </tr>\n",
       "    <tr>\n",
       "      <th>3</th>\n",
       "      <td>Maruti</td>\n",
       "      <td>Maruti Ertiga VDI</td>\n",
       "      <td>Chennai</td>\n",
       "      <td>2012</td>\n",
       "      <td>87000</td>\n",
       "      <td>Diesel</td>\n",
       "      <td>Manual</td>\n",
       "      <td>First</td>\n",
       "      <td>20.77 kmpl</td>\n",
       "      <td>1248 CC</td>\n",
       "      <td>88.76 bhp</td>\n",
       "      <td>7.0</td>\n",
       "      <td>6.00</td>\n",
       "    </tr>\n",
       "    <tr>\n",
       "      <th>4</th>\n",
       "      <td>Audi</td>\n",
       "      <td>Audi A4 New 2.0 TDI Multitronic</td>\n",
       "      <td>Coimbatore</td>\n",
       "      <td>2013</td>\n",
       "      <td>40670</td>\n",
       "      <td>Diesel</td>\n",
       "      <td>Automatic</td>\n",
       "      <td>Second</td>\n",
       "      <td>15.2 kmpl</td>\n",
       "      <td>1968 CC</td>\n",
       "      <td>140.8 bhp</td>\n",
       "      <td>5.0</td>\n",
       "      <td>17.74</td>\n",
       "    </tr>\n",
       "  </tbody>\n",
       "</table>\n",
       "</div>"
      ],
      "text/plain": [
       "   Company                              Name    Location  Year  \\\n",
       "0   Maruti            Maruti Wagon R LXI CNG      Mumbai  2010   \n",
       "1  Hyundai  Hyundai Creta 1.6 CRDi SX Option        Pune  2015   \n",
       "2    Honda                      Honda Jazz V     Chennai  2011   \n",
       "3   Maruti                 Maruti Ertiga VDI     Chennai  2012   \n",
       "4     Audi   Audi A4 New 2.0 TDI Multitronic  Coimbatore  2013   \n",
       "\n",
       "   Kilometers_Driven Fuel_Type Transmission Owner_Type     Mileage   Engine  \\\n",
       "0              72000       CNG       Manual      First  26.6 km/kg   998 CC   \n",
       "1              41000    Diesel       Manual      First  19.67 kmpl  1582 CC   \n",
       "2              46000    Petrol       Manual      First   18.2 kmpl  1199 CC   \n",
       "3              87000    Diesel       Manual      First  20.77 kmpl  1248 CC   \n",
       "4              40670    Diesel    Automatic     Second   15.2 kmpl  1968 CC   \n",
       "\n",
       "       Power  Seats  Price  \n",
       "0  58.16 bhp    5.0   1.75  \n",
       "1  126.2 bhp    5.0  12.50  \n",
       "2   88.7 bhp    5.0   4.50  \n",
       "3  88.76 bhp    7.0   6.00  \n",
       "4  140.8 bhp    5.0  17.74  "
      ]
     },
     "execution_count": 28,
     "metadata": {},
     "output_type": "execute_result"
    }
   ],
   "source": [
    "df_car.head()"
   ]
  },
  {
   "cell_type": "code",
   "execution_count": 43,
   "metadata": {},
   "outputs": [
    {
     "ename": "ValueError",
     "evalue": "cannot insert Company, already exists",
     "output_type": "error",
     "traceback": [
      "\u001b[1;31m---------------------------------------------------------------------------\u001b[0m",
      "\u001b[1;31mValueError\u001b[0m                                Traceback (most recent call last)",
      "\u001b[1;32m<ipython-input-43-addf12460c8a>\u001b[0m in \u001b[0;36m<module>\u001b[1;34m\u001b[0m\n\u001b[0;32m      1\u001b[0m \u001b[0mCompany\u001b[0m\u001b[1;33m=\u001b[0m\u001b[1;33m[\u001b[0m \u001b[0mi\u001b[0m\u001b[1;33m.\u001b[0m\u001b[0msplit\u001b[0m\u001b[1;33m(\u001b[0m\u001b[1;33m)\u001b[0m\u001b[1;33m[\u001b[0m\u001b[1;36m0\u001b[0m\u001b[1;33m]\u001b[0m  \u001b[1;32mfor\u001b[0m \u001b[0mi\u001b[0m \u001b[1;32min\u001b[0m \u001b[0mdf_car_test\u001b[0m\u001b[1;33m[\u001b[0m\u001b[1;34m'Name'\u001b[0m\u001b[1;33m]\u001b[0m\u001b[1;33m]\u001b[0m\u001b[1;33m\u001b[0m\u001b[1;33m\u001b[0m\u001b[0m\n\u001b[1;32m----> 2\u001b[1;33m \u001b[0mdf_car_test\u001b[0m\u001b[1;33m.\u001b[0m\u001b[0minsert\u001b[0m\u001b[1;33m(\u001b[0m\u001b[1;36m0\u001b[0m\u001b[1;33m,\u001b[0m\u001b[1;34m'Company'\u001b[0m\u001b[1;33m,\u001b[0m\u001b[0mCompany\u001b[0m\u001b[1;33m)\u001b[0m\u001b[1;33m\u001b[0m\u001b[1;33m\u001b[0m\u001b[0m\n\u001b[0m",
      "\u001b[1;32mC:\\ProgramData\\Anaconda3\\lib\\site-packages\\pandas\\core\\frame.py\u001b[0m in \u001b[0;36minsert\u001b[1;34m(self, loc, column, value, allow_duplicates)\u001b[0m\n\u001b[0;32m   3494\u001b[0m         \u001b[0mself\u001b[0m\u001b[1;33m.\u001b[0m\u001b[0m_ensure_valid_index\u001b[0m\u001b[1;33m(\u001b[0m\u001b[0mvalue\u001b[0m\u001b[1;33m)\u001b[0m\u001b[1;33m\u001b[0m\u001b[1;33m\u001b[0m\u001b[0m\n\u001b[0;32m   3495\u001b[0m         \u001b[0mvalue\u001b[0m \u001b[1;33m=\u001b[0m \u001b[0mself\u001b[0m\u001b[1;33m.\u001b[0m\u001b[0m_sanitize_column\u001b[0m\u001b[1;33m(\u001b[0m\u001b[0mcolumn\u001b[0m\u001b[1;33m,\u001b[0m \u001b[0mvalue\u001b[0m\u001b[1;33m,\u001b[0m \u001b[0mbroadcast\u001b[0m\u001b[1;33m=\u001b[0m\u001b[1;32mFalse\u001b[0m\u001b[1;33m)\u001b[0m\u001b[1;33m\u001b[0m\u001b[1;33m\u001b[0m\u001b[0m\n\u001b[1;32m-> 3496\u001b[1;33m         \u001b[0mself\u001b[0m\u001b[1;33m.\u001b[0m\u001b[0m_data\u001b[0m\u001b[1;33m.\u001b[0m\u001b[0minsert\u001b[0m\u001b[1;33m(\u001b[0m\u001b[0mloc\u001b[0m\u001b[1;33m,\u001b[0m \u001b[0mcolumn\u001b[0m\u001b[1;33m,\u001b[0m \u001b[0mvalue\u001b[0m\u001b[1;33m,\u001b[0m \u001b[0mallow_duplicates\u001b[0m\u001b[1;33m=\u001b[0m\u001b[0mallow_duplicates\u001b[0m\u001b[1;33m)\u001b[0m\u001b[1;33m\u001b[0m\u001b[1;33m\u001b[0m\u001b[0m\n\u001b[0m\u001b[0;32m   3497\u001b[0m \u001b[1;33m\u001b[0m\u001b[0m\n\u001b[0;32m   3498\u001b[0m     \u001b[1;32mdef\u001b[0m \u001b[0massign\u001b[0m\u001b[1;33m(\u001b[0m\u001b[0mself\u001b[0m\u001b[1;33m,\u001b[0m \u001b[1;33m**\u001b[0m\u001b[0mkwargs\u001b[0m\u001b[1;33m)\u001b[0m \u001b[1;33m->\u001b[0m \u001b[1;34m\"DataFrame\"\u001b[0m\u001b[1;33m:\u001b[0m\u001b[1;33m\u001b[0m\u001b[1;33m\u001b[0m\u001b[0m\n",
      "\u001b[1;32mC:\\ProgramData\\Anaconda3\\lib\\site-packages\\pandas\\core\\internals\\managers.py\u001b[0m in \u001b[0;36minsert\u001b[1;34m(self, loc, item, value, allow_duplicates)\u001b[0m\n\u001b[0;32m   1171\u001b[0m         \u001b[1;32mif\u001b[0m \u001b[1;32mnot\u001b[0m \u001b[0mallow_duplicates\u001b[0m \u001b[1;32mand\u001b[0m \u001b[0mitem\u001b[0m \u001b[1;32min\u001b[0m \u001b[0mself\u001b[0m\u001b[1;33m.\u001b[0m\u001b[0mitems\u001b[0m\u001b[1;33m:\u001b[0m\u001b[1;33m\u001b[0m\u001b[1;33m\u001b[0m\u001b[0m\n\u001b[0;32m   1172\u001b[0m             \u001b[1;31m# Should this be a different kind of error??\u001b[0m\u001b[1;33m\u001b[0m\u001b[1;33m\u001b[0m\u001b[1;33m\u001b[0m\u001b[0m\n\u001b[1;32m-> 1173\u001b[1;33m             \u001b[1;32mraise\u001b[0m \u001b[0mValueError\u001b[0m\u001b[1;33m(\u001b[0m\u001b[1;34mf\"cannot insert {item}, already exists\"\u001b[0m\u001b[1;33m)\u001b[0m\u001b[1;33m\u001b[0m\u001b[1;33m\u001b[0m\u001b[0m\n\u001b[0m\u001b[0;32m   1174\u001b[0m \u001b[1;33m\u001b[0m\u001b[0m\n\u001b[0;32m   1175\u001b[0m         \u001b[1;32mif\u001b[0m \u001b[1;32mnot\u001b[0m \u001b[0misinstance\u001b[0m\u001b[1;33m(\u001b[0m\u001b[0mloc\u001b[0m\u001b[1;33m,\u001b[0m \u001b[0mint\u001b[0m\u001b[1;33m)\u001b[0m\u001b[1;33m:\u001b[0m\u001b[1;33m\u001b[0m\u001b[1;33m\u001b[0m\u001b[0m\n",
      "\u001b[1;31mValueError\u001b[0m: cannot insert Company, already exists"
     ]
    }
   ],
   "source": [
    "Company=[ i.split()[0]  for i in df_car_test['Name']]\n",
    "df_car_test.insert(0,'Company',Company)"
   ]
  },
  {
   "cell_type": "code",
   "execution_count": 41,
   "metadata": {},
   "outputs": [],
   "source": [
    "#df_car_test.drop(['Comapany'],axis=1,inplace= True)"
   ]
  },
  {
   "cell_type": "code",
   "execution_count": 44,
   "metadata": {},
   "outputs": [
    {
     "data": {
      "text/html": [
       "<div>\n",
       "<style scoped>\n",
       "    .dataframe tbody tr th:only-of-type {\n",
       "        vertical-align: middle;\n",
       "    }\n",
       "\n",
       "    .dataframe tbody tr th {\n",
       "        vertical-align: top;\n",
       "    }\n",
       "\n",
       "    .dataframe thead th {\n",
       "        text-align: right;\n",
       "    }\n",
       "</style>\n",
       "<table border=\"1\" class=\"dataframe\">\n",
       "  <thead>\n",
       "    <tr style=\"text-align: right;\">\n",
       "      <th></th>\n",
       "      <th>Company</th>\n",
       "      <th>Name</th>\n",
       "      <th>Location</th>\n",
       "      <th>Year</th>\n",
       "      <th>Kilometers_Driven</th>\n",
       "      <th>Fuel_Type</th>\n",
       "      <th>Transmission</th>\n",
       "      <th>Owner_Type</th>\n",
       "      <th>Mileage</th>\n",
       "      <th>Engine</th>\n",
       "      <th>Power</th>\n",
       "      <th>Seats</th>\n",
       "    </tr>\n",
       "  </thead>\n",
       "  <tbody>\n",
       "    <tr>\n",
       "      <th>0</th>\n",
       "      <td>Maruti</td>\n",
       "      <td>Maruti Alto K10 LXI CNG</td>\n",
       "      <td>Delhi</td>\n",
       "      <td>2014</td>\n",
       "      <td>40929</td>\n",
       "      <td>CNG</td>\n",
       "      <td>Manual</td>\n",
       "      <td>First</td>\n",
       "      <td>32.26 km/kg</td>\n",
       "      <td>998 CC</td>\n",
       "      <td>58.2 bhp</td>\n",
       "      <td>4.0</td>\n",
       "    </tr>\n",
       "    <tr>\n",
       "      <th>1</th>\n",
       "      <td>Maruti</td>\n",
       "      <td>Maruti Alto 800 2016-2019 LXI</td>\n",
       "      <td>Coimbatore</td>\n",
       "      <td>2013</td>\n",
       "      <td>54493</td>\n",
       "      <td>Petrol</td>\n",
       "      <td>Manual</td>\n",
       "      <td>Second</td>\n",
       "      <td>24.7 kmpl</td>\n",
       "      <td>796 CC</td>\n",
       "      <td>47.3 bhp</td>\n",
       "      <td>5.0</td>\n",
       "    </tr>\n",
       "    <tr>\n",
       "      <th>2</th>\n",
       "      <td>Toyota</td>\n",
       "      <td>Toyota Innova Crysta Touring Sport 2.4 MT</td>\n",
       "      <td>Mumbai</td>\n",
       "      <td>2017</td>\n",
       "      <td>34000</td>\n",
       "      <td>Diesel</td>\n",
       "      <td>Manual</td>\n",
       "      <td>First</td>\n",
       "      <td>13.68 kmpl</td>\n",
       "      <td>2393 CC</td>\n",
       "      <td>147.8 bhp</td>\n",
       "      <td>7.0</td>\n",
       "    </tr>\n",
       "    <tr>\n",
       "      <th>3</th>\n",
       "      <td>Toyota</td>\n",
       "      <td>Toyota Etios Liva GD</td>\n",
       "      <td>Hyderabad</td>\n",
       "      <td>2012</td>\n",
       "      <td>139000</td>\n",
       "      <td>Diesel</td>\n",
       "      <td>Manual</td>\n",
       "      <td>First</td>\n",
       "      <td>23.59 kmpl</td>\n",
       "      <td>1364 CC</td>\n",
       "      <td>null bhp</td>\n",
       "      <td>5.0</td>\n",
       "    </tr>\n",
       "    <tr>\n",
       "      <th>4</th>\n",
       "      <td>Hyundai</td>\n",
       "      <td>Hyundai i20 Magna</td>\n",
       "      <td>Mumbai</td>\n",
       "      <td>2014</td>\n",
       "      <td>29000</td>\n",
       "      <td>Petrol</td>\n",
       "      <td>Manual</td>\n",
       "      <td>First</td>\n",
       "      <td>18.5 kmpl</td>\n",
       "      <td>1197 CC</td>\n",
       "      <td>82.85 bhp</td>\n",
       "      <td>5.0</td>\n",
       "    </tr>\n",
       "  </tbody>\n",
       "</table>\n",
       "</div>"
      ],
      "text/plain": [
       "   Company                                       Name    Location  Year  \\\n",
       "0   Maruti                    Maruti Alto K10 LXI CNG       Delhi  2014   \n",
       "1   Maruti              Maruti Alto 800 2016-2019 LXI  Coimbatore  2013   \n",
       "2   Toyota  Toyota Innova Crysta Touring Sport 2.4 MT      Mumbai  2017   \n",
       "3   Toyota                       Toyota Etios Liva GD   Hyderabad  2012   \n",
       "4  Hyundai                          Hyundai i20 Magna      Mumbai  2014   \n",
       "\n",
       "   Kilometers_Driven Fuel_Type Transmission Owner_Type      Mileage   Engine  \\\n",
       "0              40929       CNG       Manual      First  32.26 km/kg   998 CC   \n",
       "1              54493    Petrol       Manual     Second    24.7 kmpl   796 CC   \n",
       "2              34000    Diesel       Manual      First   13.68 kmpl  2393 CC   \n",
       "3             139000    Diesel       Manual      First   23.59 kmpl  1364 CC   \n",
       "4              29000    Petrol       Manual      First    18.5 kmpl  1197 CC   \n",
       "\n",
       "       Power  Seats  \n",
       "0   58.2 bhp    4.0  \n",
       "1   47.3 bhp    5.0  \n",
       "2  147.8 bhp    7.0  \n",
       "3   null bhp    5.0  \n",
       "4  82.85 bhp    5.0  "
      ]
     },
     "execution_count": 44,
     "metadata": {},
     "output_type": "execute_result"
    }
   ],
   "source": [
    "df_car_test.head()"
   ]
  },
  {
   "cell_type": "code",
   "execution_count": 88,
   "metadata": {},
   "outputs": [
    {
     "name": "stdout",
     "output_type": "stream",
     "text": [
      "(6019, 24)\n",
      "(6019, 22)\n"
     ]
    }
   ],
   "source": [
    "print(df_car.shape)\n",
    "print(df_car_test.shape)"
   ]
  },
  {
   "cell_type": "code",
   "execution_count": 45,
   "metadata": {},
   "outputs": [
    {
     "name": "stdout",
     "output_type": "stream",
     "text": [
      "{'Smart', 'Lamborghini', 'Ambassador', 'Force'}\n"
     ]
    }
   ],
   "source": [
    "print(set(df_car['Company'])-set(df_car_test['Company']))"
   ]
  },
  {
   "cell_type": "code",
   "execution_count": 46,
   "metadata": {},
   "outputs": [
    {
     "name": "stdout",
     "output_type": "stream",
     "text": [
      "{'OpelCorsa', 'Hindustan'}\n"
     ]
    }
   ],
   "source": [
    "print(set(df_car_test['Company'])-set(df_car['Company']))"
   ]
  },
  {
   "cell_type": "code",
   "execution_count": null,
   "metadata": {},
   "outputs": [],
   "source": [
    "#df_car=pd.concat(['df_car','Company'],axis=1)\n",
    "#df_car.insert(0,\"Company\",Company)\n",
    "#df_2015=pd.concat([df_2015,df_dummy_build], axis=1)"
   ]
  },
  {
   "cell_type": "code",
   "execution_count": 47,
   "metadata": {},
   "outputs": [
    {
     "data": {
      "text/plain": [
       "(6019, 13)"
      ]
     },
     "execution_count": 47,
     "metadata": {},
     "output_type": "execute_result"
    }
   ],
   "source": [
    "df_car.shape"
   ]
  },
  {
   "cell_type": "code",
   "execution_count": 49,
   "metadata": {},
   "outputs": [
    {
     "data": {
      "text/plain": [
       "Company               object\n",
       "Name                  object\n",
       "Location              object\n",
       "Year                   int64\n",
       "Kilometers_Driven      int64\n",
       "Fuel_Type             object\n",
       "Transmission          object\n",
       "Owner_Type            object\n",
       "Mileage               object\n",
       "Engine                object\n",
       "Power                 object\n",
       "Seats                float64\n",
       "Price                float64\n",
       "dtype: object"
      ]
     },
     "execution_count": 49,
     "metadata": {},
     "output_type": "execute_result"
    }
   ],
   "source": [
    "df_car.dtypes"
   ]
  },
  {
   "cell_type": "code",
   "execution_count": 50,
   "metadata": {},
   "outputs": [
    {
     "data": {
      "text/plain": [
       "Company               object\n",
       "Name                  object\n",
       "Location              object\n",
       "Year                   int64\n",
       "Kilometers_Driven      int64\n",
       "Fuel_Type             object\n",
       "Transmission          object\n",
       "Owner_Type            object\n",
       "Mileage               object\n",
       "Engine                object\n",
       "Power                 object\n",
       "Seats                float64\n",
       "dtype: object"
      ]
     },
     "execution_count": 50,
     "metadata": {},
     "output_type": "execute_result"
    }
   ],
   "source": [
    "df_car_test.dtypes"
   ]
  },
  {
   "cell_type": "code",
   "execution_count": 51,
   "metadata": {},
   "outputs": [
    {
     "name": "stdout",
     "output_type": "stream",
     "text": [
      "Maruti           1211\n",
      "Hyundai          1107\n",
      "Honda             608\n",
      "Toyota            411\n",
      "Mercedes-Benz     318\n",
      "Volkswagen        315\n",
      "Ford              300\n",
      "Mahindra          272\n",
      "BMW               267\n",
      "Audi              236\n",
      "Tata              186\n",
      "Skoda             173\n",
      "Renault           145\n",
      "Chevrolet         121\n",
      "Nissan             91\n",
      "Land               60\n",
      "Jaguar             40\n",
      "Fiat               28\n",
      "Mitsubishi         27\n",
      "Mini               26\n",
      "Volvo              21\n",
      "Porsche            18\n",
      "Jeep               15\n",
      "Datsun             13\n",
      "Force               3\n",
      "ISUZU               2\n",
      "Isuzu               1\n",
      "Ambassador          1\n",
      "Lamborghini         1\n",
      "Bentley             1\n",
      "Smart               1\n",
      "Name: Company, dtype: int64\n"
     ]
    }
   ],
   "source": [
    "print(df_car[\"Company\"].value_counts())"
   ]
  },
  {
   "cell_type": "markdown",
   "metadata": {},
   "source": [
    "# converting string data to numeric form"
   ]
  },
  {
   "cell_type": "code",
   "execution_count": 52,
   "metadata": {},
   "outputs": [],
   "source": [
    "#train dat set\n",
    "#Using errors='coerce'. It will replace all non-numeric values with NaN.\n",
    "df_car['Mileage'] = pd.to_numeric(df_car['Mileage'].str.lower().str.split().str.get(0), errors='coerce')\n",
    "df_car['Engine'] = pd.to_numeric(df_car['Engine'].str.lower().str.split().str.get(0), errors='coerce')\n",
    "df_car['Power'] = pd.to_numeric(df_car['Power'].str.lower().str.split().str.get(0), errors='coerce')\n",
    "#df['Engine'] = df['Engine'].str.split().str[0] Here we are seeing that Mileage,Engine and Power are object \n",
    "#type and specific units are also presented in the \n",
    "#dataset,that's why before fitting into model we have to perform some cleaning.\n",
    "#df['Power'] = df['Power'].str.split().str[0]\n",
    "#df['Name'] = df['Name'].str.split().str[0] Let's have the only Company name from the name column."
   ]
  },
  {
   "cell_type": "code",
   "execution_count": 85,
   "metadata": {},
   "outputs": [
    {
     "data": {
      "text/plain": [
       "0       26.60\n",
       "1       19.67\n",
       "2       18.20\n",
       "3       20.77\n",
       "4       15.20\n",
       "        ...  \n",
       "6014    28.40\n",
       "6015    24.40\n",
       "6016    14.00\n",
       "6017    18.90\n",
       "6018    25.44\n",
       "Name: Mileage, Length: 6019, dtype: float64"
      ]
     },
     "execution_count": 85,
     "metadata": {},
     "output_type": "execute_result"
    }
   ],
   "source": [
    "df_car['Mileage']"
   ]
  },
  {
   "cell_type": "code",
   "execution_count": 53,
   "metadata": {},
   "outputs": [
    {
     "data": {
      "text/plain": [
       "Company               object\n",
       "Name                  object\n",
       "Location              object\n",
       "Year                   int64\n",
       "Kilometers_Driven      int64\n",
       "Fuel_Type             object\n",
       "Transmission          object\n",
       "Owner_Type            object\n",
       "Mileage              float64\n",
       "Engine                 int64\n",
       "Power                float64\n",
       "Seats                float64\n",
       "Price                float64\n",
       "dtype: object"
      ]
     },
     "execution_count": 53,
     "metadata": {},
     "output_type": "execute_result"
    }
   ],
   "source": [
    "df_car.dtypes"
   ]
  },
  {
   "cell_type": "code",
   "execution_count": 56,
   "metadata": {},
   "outputs": [
    {
     "name": "stdout",
     "output_type": "stream",
     "text": [
      "Company               object\n",
      "Name                  object\n",
      "Location              object\n",
      "Year                   int64\n",
      "Kilometers_Driven      int64\n",
      "Fuel_Type             object\n",
      "Transmission          object\n",
      "Owner_Type            object\n",
      "Mileage              float64\n",
      "Engine               float64\n",
      "Power                float64\n",
      "Seats                float64\n",
      "dtype: object\n"
     ]
    }
   ],
   "source": [
    "print(df_car_test.dtypes)"
   ]
  },
  {
   "cell_type": "code",
   "execution_count": 57,
   "metadata": {},
   "outputs": [
    {
     "ename": "AttributeError",
     "evalue": "Can only use .str accessor with string values!",
     "output_type": "error",
     "traceback": [
      "\u001b[1;31m---------------------------------------------------------------------------\u001b[0m",
      "\u001b[1;31mAttributeError\u001b[0m                            Traceback (most recent call last)",
      "\u001b[1;32m<ipython-input-57-0f2050a2cb38>\u001b[0m in \u001b[0;36m<module>\u001b[1;34m\u001b[0m\n\u001b[0;32m      1\u001b[0m \u001b[1;31m#test data set\u001b[0m\u001b[1;33m\u001b[0m\u001b[1;33m\u001b[0m\u001b[1;33m\u001b[0m\u001b[0m\n\u001b[1;32m----> 2\u001b[1;33m \u001b[0mdf_car_test\u001b[0m\u001b[1;33m[\u001b[0m\u001b[1;34m'Mileage'\u001b[0m\u001b[1;33m]\u001b[0m \u001b[1;33m=\u001b[0m \u001b[0mpd\u001b[0m\u001b[1;33m.\u001b[0m\u001b[0mto_numeric\u001b[0m\u001b[1;33m(\u001b[0m\u001b[0mdf_car_test\u001b[0m\u001b[1;33m[\u001b[0m\u001b[1;34m'Mileage'\u001b[0m\u001b[1;33m]\u001b[0m\u001b[1;33m.\u001b[0m\u001b[0mstr\u001b[0m\u001b[1;33m.\u001b[0m\u001b[0mlower\u001b[0m\u001b[1;33m(\u001b[0m\u001b[1;33m)\u001b[0m\u001b[1;33m.\u001b[0m\u001b[0mstr\u001b[0m\u001b[1;33m.\u001b[0m\u001b[0msplit\u001b[0m\u001b[1;33m(\u001b[0m\u001b[1;33m)\u001b[0m\u001b[1;33m.\u001b[0m\u001b[0mstr\u001b[0m\u001b[1;33m.\u001b[0m\u001b[0mget\u001b[0m\u001b[1;33m(\u001b[0m\u001b[1;36m0\u001b[0m\u001b[1;33m)\u001b[0m\u001b[1;33m,\u001b[0m \u001b[0merrors\u001b[0m\u001b[1;33m=\u001b[0m\u001b[1;34m'coerce'\u001b[0m\u001b[1;33m)\u001b[0m\u001b[1;33m\u001b[0m\u001b[1;33m\u001b[0m\u001b[0m\n\u001b[0m\u001b[0;32m      3\u001b[0m \u001b[0mdf_car_test\u001b[0m\u001b[1;33m[\u001b[0m\u001b[1;34m'Engine'\u001b[0m\u001b[1;33m]\u001b[0m \u001b[1;33m=\u001b[0m \u001b[0mpd\u001b[0m\u001b[1;33m.\u001b[0m\u001b[0mto_numeric\u001b[0m\u001b[1;33m(\u001b[0m\u001b[0mdf_car_test\u001b[0m\u001b[1;33m[\u001b[0m\u001b[1;34m'Engine'\u001b[0m\u001b[1;33m]\u001b[0m\u001b[1;33m.\u001b[0m\u001b[0mstr\u001b[0m\u001b[1;33m.\u001b[0m\u001b[0mlower\u001b[0m\u001b[1;33m(\u001b[0m\u001b[1;33m)\u001b[0m\u001b[1;33m.\u001b[0m\u001b[0mstr\u001b[0m\u001b[1;33m.\u001b[0m\u001b[0msplit\u001b[0m\u001b[1;33m(\u001b[0m\u001b[1;33m)\u001b[0m\u001b[1;33m.\u001b[0m\u001b[0mstr\u001b[0m\u001b[1;33m.\u001b[0m\u001b[0mget\u001b[0m\u001b[1;33m(\u001b[0m\u001b[1;36m0\u001b[0m\u001b[1;33m)\u001b[0m\u001b[1;33m,\u001b[0m \u001b[0merrors\u001b[0m\u001b[1;33m=\u001b[0m\u001b[1;34m'coerce'\u001b[0m\u001b[1;33m)\u001b[0m\u001b[1;33m\u001b[0m\u001b[1;33m\u001b[0m\u001b[0m\n\u001b[0;32m      4\u001b[0m \u001b[0mdf_car_test\u001b[0m\u001b[1;33m[\u001b[0m\u001b[1;34m'Power'\u001b[0m\u001b[1;33m]\u001b[0m \u001b[1;33m=\u001b[0m \u001b[0mpd\u001b[0m\u001b[1;33m.\u001b[0m\u001b[0mto_numeric\u001b[0m\u001b[1;33m(\u001b[0m\u001b[0mdf_car_test\u001b[0m\u001b[1;33m[\u001b[0m\u001b[1;34m'Power'\u001b[0m\u001b[1;33m]\u001b[0m\u001b[1;33m.\u001b[0m\u001b[0mstr\u001b[0m\u001b[1;33m.\u001b[0m\u001b[0mlower\u001b[0m\u001b[1;33m(\u001b[0m\u001b[1;33m)\u001b[0m\u001b[1;33m.\u001b[0m\u001b[0mstr\u001b[0m\u001b[1;33m.\u001b[0m\u001b[0msplit\u001b[0m\u001b[1;33m(\u001b[0m\u001b[1;33m)\u001b[0m\u001b[1;33m.\u001b[0m\u001b[0mstr\u001b[0m\u001b[1;33m.\u001b[0m\u001b[0mget\u001b[0m\u001b[1;33m(\u001b[0m\u001b[1;36m0\u001b[0m\u001b[1;33m)\u001b[0m\u001b[1;33m,\u001b[0m \u001b[0merrors\u001b[0m\u001b[1;33m=\u001b[0m\u001b[1;34m'coerce'\u001b[0m\u001b[1;33m)\u001b[0m\u001b[1;33m\u001b[0m\u001b[1;33m\u001b[0m\u001b[0m\n",
      "\u001b[1;32mC:\\ProgramData\\Anaconda3\\lib\\site-packages\\pandas\\core\\generic.py\u001b[0m in \u001b[0;36m__getattr__\u001b[1;34m(self, name)\u001b[0m\n\u001b[0;32m   5268\u001b[0m             \u001b[1;32mor\u001b[0m \u001b[0mname\u001b[0m \u001b[1;32min\u001b[0m \u001b[0mself\u001b[0m\u001b[1;33m.\u001b[0m\u001b[0m_accessors\u001b[0m\u001b[1;33m\u001b[0m\u001b[1;33m\u001b[0m\u001b[0m\n\u001b[0;32m   5269\u001b[0m         ):\n\u001b[1;32m-> 5270\u001b[1;33m             \u001b[1;32mreturn\u001b[0m \u001b[0mobject\u001b[0m\u001b[1;33m.\u001b[0m\u001b[0m__getattribute__\u001b[0m\u001b[1;33m(\u001b[0m\u001b[0mself\u001b[0m\u001b[1;33m,\u001b[0m \u001b[0mname\u001b[0m\u001b[1;33m)\u001b[0m\u001b[1;33m\u001b[0m\u001b[1;33m\u001b[0m\u001b[0m\n\u001b[0m\u001b[0;32m   5271\u001b[0m         \u001b[1;32melse\u001b[0m\u001b[1;33m:\u001b[0m\u001b[1;33m\u001b[0m\u001b[1;33m\u001b[0m\u001b[0m\n\u001b[0;32m   5272\u001b[0m             \u001b[1;32mif\u001b[0m \u001b[0mself\u001b[0m\u001b[1;33m.\u001b[0m\u001b[0m_info_axis\u001b[0m\u001b[1;33m.\u001b[0m\u001b[0m_can_hold_identifiers_and_holds_name\u001b[0m\u001b[1;33m(\u001b[0m\u001b[0mname\u001b[0m\u001b[1;33m)\u001b[0m\u001b[1;33m:\u001b[0m\u001b[1;33m\u001b[0m\u001b[1;33m\u001b[0m\u001b[0m\n",
      "\u001b[1;32mC:\\ProgramData\\Anaconda3\\lib\\site-packages\\pandas\\core\\accessor.py\u001b[0m in \u001b[0;36m__get__\u001b[1;34m(self, obj, cls)\u001b[0m\n\u001b[0;32m    185\u001b[0m             \u001b[1;31m# we're accessing the attribute of the class, i.e., Dataset.geo\u001b[0m\u001b[1;33m\u001b[0m\u001b[1;33m\u001b[0m\u001b[1;33m\u001b[0m\u001b[0m\n\u001b[0;32m    186\u001b[0m             \u001b[1;32mreturn\u001b[0m \u001b[0mself\u001b[0m\u001b[1;33m.\u001b[0m\u001b[0m_accessor\u001b[0m\u001b[1;33m\u001b[0m\u001b[1;33m\u001b[0m\u001b[0m\n\u001b[1;32m--> 187\u001b[1;33m         \u001b[0maccessor_obj\u001b[0m \u001b[1;33m=\u001b[0m \u001b[0mself\u001b[0m\u001b[1;33m.\u001b[0m\u001b[0m_accessor\u001b[0m\u001b[1;33m(\u001b[0m\u001b[0mobj\u001b[0m\u001b[1;33m)\u001b[0m\u001b[1;33m\u001b[0m\u001b[1;33m\u001b[0m\u001b[0m\n\u001b[0m\u001b[0;32m    188\u001b[0m         \u001b[1;31m# Replace the property with the accessor object. Inspired by:\u001b[0m\u001b[1;33m\u001b[0m\u001b[1;33m\u001b[0m\u001b[1;33m\u001b[0m\u001b[0m\n\u001b[0;32m    189\u001b[0m         \u001b[1;31m# http://www.pydanny.com/cached-property.html\u001b[0m\u001b[1;33m\u001b[0m\u001b[1;33m\u001b[0m\u001b[1;33m\u001b[0m\u001b[0m\n",
      "\u001b[1;32mC:\\ProgramData\\Anaconda3\\lib\\site-packages\\pandas\\core\\strings.py\u001b[0m in \u001b[0;36m__init__\u001b[1;34m(self, data)\u001b[0m\n\u001b[0;32m   2039\u001b[0m \u001b[1;33m\u001b[0m\u001b[0m\n\u001b[0;32m   2040\u001b[0m     \u001b[1;32mdef\u001b[0m \u001b[0m__init__\u001b[0m\u001b[1;33m(\u001b[0m\u001b[0mself\u001b[0m\u001b[1;33m,\u001b[0m \u001b[0mdata\u001b[0m\u001b[1;33m)\u001b[0m\u001b[1;33m:\u001b[0m\u001b[1;33m\u001b[0m\u001b[1;33m\u001b[0m\u001b[0m\n\u001b[1;32m-> 2041\u001b[1;33m         \u001b[0mself\u001b[0m\u001b[1;33m.\u001b[0m\u001b[0m_inferred_dtype\u001b[0m \u001b[1;33m=\u001b[0m \u001b[0mself\u001b[0m\u001b[1;33m.\u001b[0m\u001b[0m_validate\u001b[0m\u001b[1;33m(\u001b[0m\u001b[0mdata\u001b[0m\u001b[1;33m)\u001b[0m\u001b[1;33m\u001b[0m\u001b[1;33m\u001b[0m\u001b[0m\n\u001b[0m\u001b[0;32m   2042\u001b[0m         \u001b[0mself\u001b[0m\u001b[1;33m.\u001b[0m\u001b[0m_is_categorical\u001b[0m \u001b[1;33m=\u001b[0m \u001b[0mis_categorical_dtype\u001b[0m\u001b[1;33m(\u001b[0m\u001b[0mdata\u001b[0m\u001b[1;33m)\u001b[0m\u001b[1;33m\u001b[0m\u001b[1;33m\u001b[0m\u001b[0m\n\u001b[0;32m   2043\u001b[0m         \u001b[0mself\u001b[0m\u001b[1;33m.\u001b[0m\u001b[0m_is_string\u001b[0m \u001b[1;33m=\u001b[0m \u001b[0mdata\u001b[0m\u001b[1;33m.\u001b[0m\u001b[0mdtype\u001b[0m\u001b[1;33m.\u001b[0m\u001b[0mname\u001b[0m \u001b[1;33m==\u001b[0m \u001b[1;34m\"string\"\u001b[0m\u001b[1;33m\u001b[0m\u001b[1;33m\u001b[0m\u001b[0m\n",
      "\u001b[1;32mC:\\ProgramData\\Anaconda3\\lib\\site-packages\\pandas\\core\\strings.py\u001b[0m in \u001b[0;36m_validate\u001b[1;34m(data)\u001b[0m\n\u001b[0;32m   2096\u001b[0m \u001b[1;33m\u001b[0m\u001b[0m\n\u001b[0;32m   2097\u001b[0m         \u001b[1;32mif\u001b[0m \u001b[0minferred_dtype\u001b[0m \u001b[1;32mnot\u001b[0m \u001b[1;32min\u001b[0m \u001b[0mallowed_types\u001b[0m\u001b[1;33m:\u001b[0m\u001b[1;33m\u001b[0m\u001b[1;33m\u001b[0m\u001b[0m\n\u001b[1;32m-> 2098\u001b[1;33m             \u001b[1;32mraise\u001b[0m \u001b[0mAttributeError\u001b[0m\u001b[1;33m(\u001b[0m\u001b[1;34m\"Can only use .str accessor with string values!\"\u001b[0m\u001b[1;33m)\u001b[0m\u001b[1;33m\u001b[0m\u001b[1;33m\u001b[0m\u001b[0m\n\u001b[0m\u001b[0;32m   2099\u001b[0m         \u001b[1;32mreturn\u001b[0m \u001b[0minferred_dtype\u001b[0m\u001b[1;33m\u001b[0m\u001b[1;33m\u001b[0m\u001b[0m\n\u001b[0;32m   2100\u001b[0m \u001b[1;33m\u001b[0m\u001b[0m\n",
      "\u001b[1;31mAttributeError\u001b[0m: Can only use .str accessor with string values!"
     ]
    }
   ],
   "source": [
    "#test data set\n",
    "df_car_test['Mileage'] = pd.to_numeric(df_car_test['Mileage'].str.lower().str.split().str.get(0), errors='coerce')\n",
    "df_car_test['Engine'] = pd.to_numeric(df_car_test['Engine'].str.lower().str.split().str.get(0), errors='coerce')\n",
    "df_car_test['Power'] = pd.to_numeric(df_car_test['Power'].str.lower().str.split().str.get(0), errors='coerce')"
   ]
  },
  {
   "cell_type": "code",
   "execution_count": 58,
   "metadata": {},
   "outputs": [
    {
     "name": "stdout",
     "output_type": "stream",
     "text": [
      "Company               object\n",
      "Name                  object\n",
      "Location              object\n",
      "Year                   int64\n",
      "Kilometers_Driven      int64\n",
      "Fuel_Type             object\n",
      "Transmission          object\n",
      "Owner_Type            object\n",
      "Mileage              float64\n",
      "Engine               float64\n",
      "Power                float64\n",
      "Seats                float64\n",
      "dtype: object\n"
     ]
    }
   ],
   "source": [
    "print(df_car_test.dtypes)"
   ]
  },
  {
   "cell_type": "code",
   "execution_count": 59,
   "metadata": {},
   "outputs": [
    {
     "data": {
      "text/plain": [
       "Diesel      3205\n",
       "Petrol      2746\n",
       "CNG           56\n",
       "LPG           10\n",
       "Electric       2\n",
       "Name: Fuel_Type, dtype: int64"
      ]
     },
     "execution_count": 59,
     "metadata": {},
     "output_type": "execute_result"
    }
   ],
   "source": [
    "#conerting Fuel_Type to numeric\n",
    "df_car['Fuel_Type'].value_counts()"
   ]
  },
  {
   "cell_type": "code",
   "execution_count": null,
   "metadata": {},
   "outputs": [],
   "source": [
    "# Convert categorical variable  tests_units into dummy(one hot encoding)\n",
    "#test_performed=pd.get_dummies(df_slovakia['tests_units'])"
   ]
  },
  {
   "cell_type": "code",
   "execution_count": 60,
   "metadata": {},
   "outputs": [],
   "source": [
    "Fuel_Type_num=pd.get_dummies(df_car['Fuel_Type'])"
   ]
  },
  {
   "cell_type": "code",
   "execution_count": 61,
   "metadata": {},
   "outputs": [
    {
     "data": {
      "text/html": [
       "<div>\n",
       "<style scoped>\n",
       "    .dataframe tbody tr th:only-of-type {\n",
       "        vertical-align: middle;\n",
       "    }\n",
       "\n",
       "    .dataframe tbody tr th {\n",
       "        vertical-align: top;\n",
       "    }\n",
       "\n",
       "    .dataframe thead th {\n",
       "        text-align: right;\n",
       "    }\n",
       "</style>\n",
       "<table border=\"1\" class=\"dataframe\">\n",
       "  <thead>\n",
       "    <tr style=\"text-align: right;\">\n",
       "      <th></th>\n",
       "      <th>CNG</th>\n",
       "      <th>Diesel</th>\n",
       "      <th>Electric</th>\n",
       "      <th>LPG</th>\n",
       "      <th>Petrol</th>\n",
       "    </tr>\n",
       "  </thead>\n",
       "  <tbody>\n",
       "    <tr>\n",
       "      <th>0</th>\n",
       "      <td>1</td>\n",
       "      <td>0</td>\n",
       "      <td>0</td>\n",
       "      <td>0</td>\n",
       "      <td>0</td>\n",
       "    </tr>\n",
       "    <tr>\n",
       "      <th>1</th>\n",
       "      <td>0</td>\n",
       "      <td>1</td>\n",
       "      <td>0</td>\n",
       "      <td>0</td>\n",
       "      <td>0</td>\n",
       "    </tr>\n",
       "    <tr>\n",
       "      <th>2</th>\n",
       "      <td>0</td>\n",
       "      <td>0</td>\n",
       "      <td>0</td>\n",
       "      <td>0</td>\n",
       "      <td>1</td>\n",
       "    </tr>\n",
       "    <tr>\n",
       "      <th>3</th>\n",
       "      <td>0</td>\n",
       "      <td>1</td>\n",
       "      <td>0</td>\n",
       "      <td>0</td>\n",
       "      <td>0</td>\n",
       "    </tr>\n",
       "    <tr>\n",
       "      <th>4</th>\n",
       "      <td>0</td>\n",
       "      <td>1</td>\n",
       "      <td>0</td>\n",
       "      <td>0</td>\n",
       "      <td>0</td>\n",
       "    </tr>\n",
       "    <tr>\n",
       "      <th>...</th>\n",
       "      <td>...</td>\n",
       "      <td>...</td>\n",
       "      <td>...</td>\n",
       "      <td>...</td>\n",
       "      <td>...</td>\n",
       "    </tr>\n",
       "    <tr>\n",
       "      <th>6014</th>\n",
       "      <td>0</td>\n",
       "      <td>1</td>\n",
       "      <td>0</td>\n",
       "      <td>0</td>\n",
       "      <td>0</td>\n",
       "    </tr>\n",
       "    <tr>\n",
       "      <th>6015</th>\n",
       "      <td>0</td>\n",
       "      <td>1</td>\n",
       "      <td>0</td>\n",
       "      <td>0</td>\n",
       "      <td>0</td>\n",
       "    </tr>\n",
       "    <tr>\n",
       "      <th>6016</th>\n",
       "      <td>0</td>\n",
       "      <td>1</td>\n",
       "      <td>0</td>\n",
       "      <td>0</td>\n",
       "      <td>0</td>\n",
       "    </tr>\n",
       "    <tr>\n",
       "      <th>6017</th>\n",
       "      <td>0</td>\n",
       "      <td>0</td>\n",
       "      <td>0</td>\n",
       "      <td>0</td>\n",
       "      <td>1</td>\n",
       "    </tr>\n",
       "    <tr>\n",
       "      <th>6018</th>\n",
       "      <td>0</td>\n",
       "      <td>1</td>\n",
       "      <td>0</td>\n",
       "      <td>0</td>\n",
       "      <td>0</td>\n",
       "    </tr>\n",
       "  </tbody>\n",
       "</table>\n",
       "<p>6019 rows × 5 columns</p>\n",
       "</div>"
      ],
      "text/plain": [
       "      CNG  Diesel  Electric  LPG  Petrol\n",
       "0       1       0         0    0       0\n",
       "1       0       1         0    0       0\n",
       "2       0       0         0    0       1\n",
       "3       0       1         0    0       0\n",
       "4       0       1         0    0       0\n",
       "...   ...     ...       ...  ...     ...\n",
       "6014    0       1         0    0       0\n",
       "6015    0       1         0    0       0\n",
       "6016    0       1         0    0       0\n",
       "6017    0       0         0    0       1\n",
       "6018    0       1         0    0       0\n",
       "\n",
       "[6019 rows x 5 columns]"
      ]
     },
     "execution_count": 61,
     "metadata": {},
     "output_type": "execute_result"
    }
   ],
   "source": [
    "Fuel_Type_num"
   ]
  },
  {
   "cell_type": "code",
   "execution_count": 62,
   "metadata": {},
   "outputs": [],
   "source": [
    "## add \"test_performed\" to df_slovakia data frame\n",
    "#df_slovakia = pd.concat([df_slovakia,test_performed], axis=1)\n",
    "df_car=pd.concat([df_car,Fuel_Type_num],axis=1)"
   ]
  },
  {
   "cell_type": "code",
   "execution_count": 63,
   "metadata": {},
   "outputs": [
    {
     "data": {
      "text/plain": [
       "Diesel    647\n",
       "Petrol    579\n",
       "CNG         6\n",
       "LPG         2\n",
       "Name: Fuel_Type, dtype: int64"
      ]
     },
     "execution_count": 63,
     "metadata": {},
     "output_type": "execute_result"
    }
   ],
   "source": [
    "#convert test data fuel type to numeric\n",
    "df_car_test['Fuel_Type'].value_counts()"
   ]
  },
  {
   "cell_type": "code",
   "execution_count": 64,
   "metadata": {},
   "outputs": [],
   "source": [
    "Fuel_Type_num=pd.get_dummies(df_car_test['Fuel_Type'])"
   ]
  },
  {
   "cell_type": "code",
   "execution_count": 65,
   "metadata": {},
   "outputs": [],
   "source": [
    "df_car_test=pd.concat([df_car_test,Fuel_Type_num],axis=1)"
   ]
  },
  {
   "cell_type": "code",
   "execution_count": 66,
   "metadata": {},
   "outputs": [
    {
     "data": {
      "text/plain": [
       "Manual       4299\n",
       "Automatic    1720\n",
       "Name: Transmission, dtype: int64"
      ]
     },
     "execution_count": 66,
     "metadata": {},
     "output_type": "execute_result"
    }
   ],
   "source": [
    "#transmission\n",
    "df_car['Transmission'].value_counts()"
   ]
  },
  {
   "cell_type": "code",
   "execution_count": 67,
   "metadata": {},
   "outputs": [],
   "source": [
    "Transmission_num=pd.get_dummies(df_car['Transmission'])"
   ]
  },
  {
   "cell_type": "code",
   "execution_count": 68,
   "metadata": {},
   "outputs": [],
   "source": [
    "df_car=pd.concat([df_car,Transmission_num],axis=1)"
   ]
  },
  {
   "cell_type": "code",
   "execution_count": 69,
   "metadata": {},
   "outputs": [
    {
     "data": {
      "text/html": [
       "<div>\n",
       "<style scoped>\n",
       "    .dataframe tbody tr th:only-of-type {\n",
       "        vertical-align: middle;\n",
       "    }\n",
       "\n",
       "    .dataframe tbody tr th {\n",
       "        vertical-align: top;\n",
       "    }\n",
       "\n",
       "    .dataframe thead th {\n",
       "        text-align: right;\n",
       "    }\n",
       "</style>\n",
       "<table border=\"1\" class=\"dataframe\">\n",
       "  <thead>\n",
       "    <tr style=\"text-align: right;\">\n",
       "      <th></th>\n",
       "      <th>Automatic</th>\n",
       "      <th>Manual</th>\n",
       "    </tr>\n",
       "  </thead>\n",
       "  <tbody>\n",
       "    <tr>\n",
       "      <th>0</th>\n",
       "      <td>0</td>\n",
       "      <td>1</td>\n",
       "    </tr>\n",
       "    <tr>\n",
       "      <th>1</th>\n",
       "      <td>0</td>\n",
       "      <td>1</td>\n",
       "    </tr>\n",
       "    <tr>\n",
       "      <th>2</th>\n",
       "      <td>0</td>\n",
       "      <td>1</td>\n",
       "    </tr>\n",
       "    <tr>\n",
       "      <th>3</th>\n",
       "      <td>0</td>\n",
       "      <td>1</td>\n",
       "    </tr>\n",
       "    <tr>\n",
       "      <th>4</th>\n",
       "      <td>1</td>\n",
       "      <td>0</td>\n",
       "    </tr>\n",
       "    <tr>\n",
       "      <th>...</th>\n",
       "      <td>...</td>\n",
       "      <td>...</td>\n",
       "    </tr>\n",
       "    <tr>\n",
       "      <th>6014</th>\n",
       "      <td>0</td>\n",
       "      <td>1</td>\n",
       "    </tr>\n",
       "    <tr>\n",
       "      <th>6015</th>\n",
       "      <td>0</td>\n",
       "      <td>1</td>\n",
       "    </tr>\n",
       "    <tr>\n",
       "      <th>6016</th>\n",
       "      <td>0</td>\n",
       "      <td>1</td>\n",
       "    </tr>\n",
       "    <tr>\n",
       "      <th>6017</th>\n",
       "      <td>0</td>\n",
       "      <td>1</td>\n",
       "    </tr>\n",
       "    <tr>\n",
       "      <th>6018</th>\n",
       "      <td>0</td>\n",
       "      <td>1</td>\n",
       "    </tr>\n",
       "  </tbody>\n",
       "</table>\n",
       "<p>6019 rows × 2 columns</p>\n",
       "</div>"
      ],
      "text/plain": [
       "      Automatic  Manual\n",
       "0             0       1\n",
       "1             0       1\n",
       "2             0       1\n",
       "3             0       1\n",
       "4             1       0\n",
       "...         ...     ...\n",
       "6014          0       1\n",
       "6015          0       1\n",
       "6016          0       1\n",
       "6017          0       1\n",
       "6018          0       1\n",
       "\n",
       "[6019 rows x 2 columns]"
      ]
     },
     "execution_count": 69,
     "metadata": {},
     "output_type": "execute_result"
    }
   ],
   "source": [
    "Transmission_num"
   ]
  },
  {
   "cell_type": "code",
   "execution_count": 70,
   "metadata": {},
   "outputs": [
    {
     "data": {
      "text/plain": [
       "First             1023\n",
       "Second             184\n",
       "Third               24\n",
       "Fourth & Above       3\n",
       "Name: Owner_Type, dtype: int64"
      ]
     },
     "execution_count": 70,
     "metadata": {},
     "output_type": "execute_result"
    }
   ],
   "source": [
    "df_car_test['Owner_Type'].value_counts()"
   ]
  },
  {
   "cell_type": "code",
   "execution_count": 71,
   "metadata": {},
   "outputs": [],
   "source": [
    "Owner_Type_num=pd.get_dummies(df_car['Owner_Type'])"
   ]
  },
  {
   "cell_type": "code",
   "execution_count": 72,
   "metadata": {},
   "outputs": [
    {
     "data": {
      "text/html": [
       "<div>\n",
       "<style scoped>\n",
       "    .dataframe tbody tr th:only-of-type {\n",
       "        vertical-align: middle;\n",
       "    }\n",
       "\n",
       "    .dataframe tbody tr th {\n",
       "        vertical-align: top;\n",
       "    }\n",
       "\n",
       "    .dataframe thead th {\n",
       "        text-align: right;\n",
       "    }\n",
       "</style>\n",
       "<table border=\"1\" class=\"dataframe\">\n",
       "  <thead>\n",
       "    <tr style=\"text-align: right;\">\n",
       "      <th></th>\n",
       "      <th>First</th>\n",
       "      <th>Fourth &amp; Above</th>\n",
       "      <th>Second</th>\n",
       "      <th>Third</th>\n",
       "    </tr>\n",
       "  </thead>\n",
       "  <tbody>\n",
       "    <tr>\n",
       "      <th>0</th>\n",
       "      <td>1</td>\n",
       "      <td>0</td>\n",
       "      <td>0</td>\n",
       "      <td>0</td>\n",
       "    </tr>\n",
       "    <tr>\n",
       "      <th>1</th>\n",
       "      <td>1</td>\n",
       "      <td>0</td>\n",
       "      <td>0</td>\n",
       "      <td>0</td>\n",
       "    </tr>\n",
       "    <tr>\n",
       "      <th>2</th>\n",
       "      <td>1</td>\n",
       "      <td>0</td>\n",
       "      <td>0</td>\n",
       "      <td>0</td>\n",
       "    </tr>\n",
       "    <tr>\n",
       "      <th>3</th>\n",
       "      <td>1</td>\n",
       "      <td>0</td>\n",
       "      <td>0</td>\n",
       "      <td>0</td>\n",
       "    </tr>\n",
       "    <tr>\n",
       "      <th>4</th>\n",
       "      <td>0</td>\n",
       "      <td>0</td>\n",
       "      <td>1</td>\n",
       "      <td>0</td>\n",
       "    </tr>\n",
       "    <tr>\n",
       "      <th>...</th>\n",
       "      <td>...</td>\n",
       "      <td>...</td>\n",
       "      <td>...</td>\n",
       "      <td>...</td>\n",
       "    </tr>\n",
       "    <tr>\n",
       "      <th>6014</th>\n",
       "      <td>1</td>\n",
       "      <td>0</td>\n",
       "      <td>0</td>\n",
       "      <td>0</td>\n",
       "    </tr>\n",
       "    <tr>\n",
       "      <th>6015</th>\n",
       "      <td>1</td>\n",
       "      <td>0</td>\n",
       "      <td>0</td>\n",
       "      <td>0</td>\n",
       "    </tr>\n",
       "    <tr>\n",
       "      <th>6016</th>\n",
       "      <td>0</td>\n",
       "      <td>0</td>\n",
       "      <td>1</td>\n",
       "      <td>0</td>\n",
       "    </tr>\n",
       "    <tr>\n",
       "      <th>6017</th>\n",
       "      <td>1</td>\n",
       "      <td>0</td>\n",
       "      <td>0</td>\n",
       "      <td>0</td>\n",
       "    </tr>\n",
       "    <tr>\n",
       "      <th>6018</th>\n",
       "      <td>1</td>\n",
       "      <td>0</td>\n",
       "      <td>0</td>\n",
       "      <td>0</td>\n",
       "    </tr>\n",
       "  </tbody>\n",
       "</table>\n",
       "<p>6019 rows × 4 columns</p>\n",
       "</div>"
      ],
      "text/plain": [
       "      First  Fourth & Above  Second  Third\n",
       "0         1               0       0      0\n",
       "1         1               0       0      0\n",
       "2         1               0       0      0\n",
       "3         1               0       0      0\n",
       "4         0               0       1      0\n",
       "...     ...             ...     ...    ...\n",
       "6014      1               0       0      0\n",
       "6015      1               0       0      0\n",
       "6016      0               0       1      0\n",
       "6017      1               0       0      0\n",
       "6018      1               0       0      0\n",
       "\n",
       "[6019 rows x 4 columns]"
      ]
     },
     "execution_count": 72,
     "metadata": {},
     "output_type": "execute_result"
    }
   ],
   "source": [
    "Owner_Type_num"
   ]
  },
  {
   "cell_type": "code",
   "execution_count": 73,
   "metadata": {},
   "outputs": [],
   "source": [
    "df_car_test=pd.concat([df_car_test,Owner_Type_num],axis=1)\n",
    "df_car_test=pd.concat([df_car_test,Transmission_num],axis=1)"
   ]
  },
  {
   "cell_type": "code",
   "execution_count": null,
   "metadata": {},
   "outputs": [],
   "source": [
    "df_car_test.dtype"
   ]
  },
  {
   "cell_type": "code",
   "execution_count": 74,
   "metadata": {},
   "outputs": [],
   "source": [
    "#Owner_Type_num\n",
    "df_car=pd.concat([df_car,Owner_Type_num],axis=1)"
   ]
  },
  {
   "cell_type": "code",
   "execution_count": 75,
   "metadata": {},
   "outputs": [
    {
     "data": {
      "text/plain": [
       "Company               object\n",
       "Name                  object\n",
       "Location              object\n",
       "Year                   int64\n",
       "Kilometers_Driven      int64\n",
       "Fuel_Type             object\n",
       "Transmission          object\n",
       "Owner_Type            object\n",
       "Mileage              float64\n",
       "Engine                 int64\n",
       "Power                float64\n",
       "Seats                float64\n",
       "Price                float64\n",
       "CNG                    uint8\n",
       "Diesel                 uint8\n",
       "Electric               uint8\n",
       "LPG                    uint8\n",
       "Petrol                 uint8\n",
       "Automatic              uint8\n",
       "Manual                 uint8\n",
       "First                  uint8\n",
       "Fourth & Above         uint8\n",
       "Second                 uint8\n",
       "Third                  uint8\n",
       "dtype: object"
      ]
     },
     "execution_count": 75,
     "metadata": {},
     "output_type": "execute_result"
    }
   ],
   "source": [
    "df_car.dtypes"
   ]
  },
  {
   "cell_type": "code",
   "execution_count": 76,
   "metadata": {},
   "outputs": [
    {
     "data": {
      "text/html": [
       "<div>\n",
       "<style scoped>\n",
       "    .dataframe tbody tr th:only-of-type {\n",
       "        vertical-align: middle;\n",
       "    }\n",
       "\n",
       "    .dataframe tbody tr th {\n",
       "        vertical-align: top;\n",
       "    }\n",
       "\n",
       "    .dataframe thead th {\n",
       "        text-align: right;\n",
       "    }\n",
       "</style>\n",
       "<table border=\"1\" class=\"dataframe\">\n",
       "  <thead>\n",
       "    <tr style=\"text-align: right;\">\n",
       "      <th></th>\n",
       "      <th>First</th>\n",
       "      <th>Fourth &amp; Above</th>\n",
       "      <th>Second</th>\n",
       "      <th>Third</th>\n",
       "    </tr>\n",
       "  </thead>\n",
       "  <tbody>\n",
       "    <tr>\n",
       "      <th>0</th>\n",
       "      <td>1</td>\n",
       "      <td>0</td>\n",
       "      <td>0</td>\n",
       "      <td>0</td>\n",
       "    </tr>\n",
       "    <tr>\n",
       "      <th>1</th>\n",
       "      <td>1</td>\n",
       "      <td>0</td>\n",
       "      <td>0</td>\n",
       "      <td>0</td>\n",
       "    </tr>\n",
       "    <tr>\n",
       "      <th>2</th>\n",
       "      <td>1</td>\n",
       "      <td>0</td>\n",
       "      <td>0</td>\n",
       "      <td>0</td>\n",
       "    </tr>\n",
       "    <tr>\n",
       "      <th>3</th>\n",
       "      <td>1</td>\n",
       "      <td>0</td>\n",
       "      <td>0</td>\n",
       "      <td>0</td>\n",
       "    </tr>\n",
       "    <tr>\n",
       "      <th>4</th>\n",
       "      <td>0</td>\n",
       "      <td>0</td>\n",
       "      <td>1</td>\n",
       "      <td>0</td>\n",
       "    </tr>\n",
       "    <tr>\n",
       "      <th>...</th>\n",
       "      <td>...</td>\n",
       "      <td>...</td>\n",
       "      <td>...</td>\n",
       "      <td>...</td>\n",
       "    </tr>\n",
       "    <tr>\n",
       "      <th>6014</th>\n",
       "      <td>1</td>\n",
       "      <td>0</td>\n",
       "      <td>0</td>\n",
       "      <td>0</td>\n",
       "    </tr>\n",
       "    <tr>\n",
       "      <th>6015</th>\n",
       "      <td>1</td>\n",
       "      <td>0</td>\n",
       "      <td>0</td>\n",
       "      <td>0</td>\n",
       "    </tr>\n",
       "    <tr>\n",
       "      <th>6016</th>\n",
       "      <td>0</td>\n",
       "      <td>0</td>\n",
       "      <td>1</td>\n",
       "      <td>0</td>\n",
       "    </tr>\n",
       "    <tr>\n",
       "      <th>6017</th>\n",
       "      <td>1</td>\n",
       "      <td>0</td>\n",
       "      <td>0</td>\n",
       "      <td>0</td>\n",
       "    </tr>\n",
       "    <tr>\n",
       "      <th>6018</th>\n",
       "      <td>1</td>\n",
       "      <td>0</td>\n",
       "      <td>0</td>\n",
       "      <td>0</td>\n",
       "    </tr>\n",
       "  </tbody>\n",
       "</table>\n",
       "<p>6019 rows × 4 columns</p>\n",
       "</div>"
      ],
      "text/plain": [
       "      First  Fourth & Above  Second  Third\n",
       "0         1               0       0      0\n",
       "1         1               0       0      0\n",
       "2         1               0       0      0\n",
       "3         1               0       0      0\n",
       "4         0               0       1      0\n",
       "...     ...             ...     ...    ...\n",
       "6014      1               0       0      0\n",
       "6015      1               0       0      0\n",
       "6016      0               0       1      0\n",
       "6017      1               0       0      0\n",
       "6018      1               0       0      0\n",
       "\n",
       "[6019 rows x 4 columns]"
      ]
     },
     "execution_count": 76,
     "metadata": {},
     "output_type": "execute_result"
    }
   ],
   "source": [
    "Owner_Type_num"
   ]
  },
  {
   "cell_type": "code",
   "execution_count": null,
   "metadata": {},
   "outputs": [],
   "source": [
    "print(df_car_test['Transmission'].value_counts())\n",
    "print(df_car_test['Fuel_Type'].value_counts())\n",
    "print(df_car_test['Owner_Type'].value_counts())"
   ]
  },
  {
   "cell_type": "code",
   "execution_count": 77,
   "metadata": {},
   "outputs": [],
   "source": [
    "Transmission_num=pd.get_dummies(df_car_test['Transmission'])"
   ]
  },
  {
   "cell_type": "code",
   "execution_count": 78,
   "metadata": {},
   "outputs": [],
   "source": [
    "Owner_Type_num=pd.get_dummies(df_car_test['Owner_Type'])"
   ]
  },
  {
   "cell_type": "code",
   "execution_count": 79,
   "metadata": {},
   "outputs": [
    {
     "data": {
      "text/html": [
       "<div>\n",
       "<style scoped>\n",
       "    .dataframe tbody tr th:only-of-type {\n",
       "        vertical-align: middle;\n",
       "    }\n",
       "\n",
       "    .dataframe tbody tr th {\n",
       "        vertical-align: top;\n",
       "    }\n",
       "\n",
       "    .dataframe thead th {\n",
       "        text-align: right;\n",
       "    }\n",
       "</style>\n",
       "<table border=\"1\" class=\"dataframe\">\n",
       "  <thead>\n",
       "    <tr style=\"text-align: right;\">\n",
       "      <th></th>\n",
       "      <th>First</th>\n",
       "      <th>Fourth &amp; Above</th>\n",
       "      <th>Second</th>\n",
       "      <th>Third</th>\n",
       "    </tr>\n",
       "  </thead>\n",
       "  <tbody>\n",
       "    <tr>\n",
       "      <th>0</th>\n",
       "      <td>1</td>\n",
       "      <td>0</td>\n",
       "      <td>0</td>\n",
       "      <td>0</td>\n",
       "    </tr>\n",
       "    <tr>\n",
       "      <th>1</th>\n",
       "      <td>0</td>\n",
       "      <td>0</td>\n",
       "      <td>1</td>\n",
       "      <td>0</td>\n",
       "    </tr>\n",
       "    <tr>\n",
       "      <th>2</th>\n",
       "      <td>1</td>\n",
       "      <td>0</td>\n",
       "      <td>0</td>\n",
       "      <td>0</td>\n",
       "    </tr>\n",
       "    <tr>\n",
       "      <th>3</th>\n",
       "      <td>1</td>\n",
       "      <td>0</td>\n",
       "      <td>0</td>\n",
       "      <td>0</td>\n",
       "    </tr>\n",
       "    <tr>\n",
       "      <th>4</th>\n",
       "      <td>1</td>\n",
       "      <td>0</td>\n",
       "      <td>0</td>\n",
       "      <td>0</td>\n",
       "    </tr>\n",
       "    <tr>\n",
       "      <th>...</th>\n",
       "      <td>...</td>\n",
       "      <td>...</td>\n",
       "      <td>...</td>\n",
       "      <td>...</td>\n",
       "    </tr>\n",
       "    <tr>\n",
       "      <th>6014</th>\n",
       "      <td>0</td>\n",
       "      <td>0</td>\n",
       "      <td>0</td>\n",
       "      <td>0</td>\n",
       "    </tr>\n",
       "    <tr>\n",
       "      <th>6015</th>\n",
       "      <td>0</td>\n",
       "      <td>0</td>\n",
       "      <td>0</td>\n",
       "      <td>0</td>\n",
       "    </tr>\n",
       "    <tr>\n",
       "      <th>6016</th>\n",
       "      <td>0</td>\n",
       "      <td>0</td>\n",
       "      <td>0</td>\n",
       "      <td>0</td>\n",
       "    </tr>\n",
       "    <tr>\n",
       "      <th>6017</th>\n",
       "      <td>0</td>\n",
       "      <td>0</td>\n",
       "      <td>0</td>\n",
       "      <td>0</td>\n",
       "    </tr>\n",
       "    <tr>\n",
       "      <th>6018</th>\n",
       "      <td>0</td>\n",
       "      <td>0</td>\n",
       "      <td>0</td>\n",
       "      <td>0</td>\n",
       "    </tr>\n",
       "  </tbody>\n",
       "</table>\n",
       "<p>6019 rows × 4 columns</p>\n",
       "</div>"
      ],
      "text/plain": [
       "      First  Fourth & Above  Second  Third\n",
       "0         1               0       0      0\n",
       "1         0               0       1      0\n",
       "2         1               0       0      0\n",
       "3         1               0       0      0\n",
       "4         1               0       0      0\n",
       "...     ...             ...     ...    ...\n",
       "6014      0               0       0      0\n",
       "6015      0               0       0      0\n",
       "6016      0               0       0      0\n",
       "6017      0               0       0      0\n",
       "6018      0               0       0      0\n",
       "\n",
       "[6019 rows x 4 columns]"
      ]
     },
     "execution_count": 79,
     "metadata": {},
     "output_type": "execute_result"
    }
   ],
   "source": [
    "Owner_Type_num"
   ]
  },
  {
   "cell_type": "code",
   "execution_count": 80,
   "metadata": {},
   "outputs": [
    {
     "data": {
      "text/html": [
       "<div>\n",
       "<style scoped>\n",
       "    .dataframe tbody tr th:only-of-type {\n",
       "        vertical-align: middle;\n",
       "    }\n",
       "\n",
       "    .dataframe tbody tr th {\n",
       "        vertical-align: top;\n",
       "    }\n",
       "\n",
       "    .dataframe thead th {\n",
       "        text-align: right;\n",
       "    }\n",
       "</style>\n",
       "<table border=\"1\" class=\"dataframe\">\n",
       "  <thead>\n",
       "    <tr style=\"text-align: right;\">\n",
       "      <th></th>\n",
       "      <th>Automatic</th>\n",
       "      <th>Manual</th>\n",
       "    </tr>\n",
       "  </thead>\n",
       "  <tbody>\n",
       "    <tr>\n",
       "      <th>0</th>\n",
       "      <td>0</td>\n",
       "      <td>1</td>\n",
       "    </tr>\n",
       "    <tr>\n",
       "      <th>1</th>\n",
       "      <td>0</td>\n",
       "      <td>1</td>\n",
       "    </tr>\n",
       "    <tr>\n",
       "      <th>2</th>\n",
       "      <td>0</td>\n",
       "      <td>1</td>\n",
       "    </tr>\n",
       "    <tr>\n",
       "      <th>3</th>\n",
       "      <td>0</td>\n",
       "      <td>1</td>\n",
       "    </tr>\n",
       "    <tr>\n",
       "      <th>4</th>\n",
       "      <td>0</td>\n",
       "      <td>1</td>\n",
       "    </tr>\n",
       "    <tr>\n",
       "      <th>...</th>\n",
       "      <td>...</td>\n",
       "      <td>...</td>\n",
       "    </tr>\n",
       "    <tr>\n",
       "      <th>6014</th>\n",
       "      <td>0</td>\n",
       "      <td>0</td>\n",
       "    </tr>\n",
       "    <tr>\n",
       "      <th>6015</th>\n",
       "      <td>0</td>\n",
       "      <td>0</td>\n",
       "    </tr>\n",
       "    <tr>\n",
       "      <th>6016</th>\n",
       "      <td>0</td>\n",
       "      <td>0</td>\n",
       "    </tr>\n",
       "    <tr>\n",
       "      <th>6017</th>\n",
       "      <td>0</td>\n",
       "      <td>0</td>\n",
       "    </tr>\n",
       "    <tr>\n",
       "      <th>6018</th>\n",
       "      <td>0</td>\n",
       "      <td>0</td>\n",
       "    </tr>\n",
       "  </tbody>\n",
       "</table>\n",
       "<p>6019 rows × 2 columns</p>\n",
       "</div>"
      ],
      "text/plain": [
       "      Automatic  Manual\n",
       "0             0       1\n",
       "1             0       1\n",
       "2             0       1\n",
       "3             0       1\n",
       "4             0       1\n",
       "...         ...     ...\n",
       "6014          0       0\n",
       "6015          0       0\n",
       "6016          0       0\n",
       "6017          0       0\n",
       "6018          0       0\n",
       "\n",
       "[6019 rows x 2 columns]"
      ]
     },
     "execution_count": 80,
     "metadata": {},
     "output_type": "execute_result"
    }
   ],
   "source": [
    "Transmission_num"
   ]
  },
  {
   "cell_type": "code",
   "execution_count": 83,
   "metadata": {},
   "outputs": [
    {
     "name": "stdout",
     "output_type": "stream",
     "text": [
      "Company               object\n",
      "Name                  object\n",
      "Location              object\n",
      "Year                   int64\n",
      "Kilometers_Driven      int64\n",
      "Fuel_Type             object\n",
      "Transmission          object\n",
      "Owner_Type            object\n",
      "Mileage              float64\n",
      "Engine                 int64\n",
      "Power                float64\n",
      "Seats                float64\n",
      "Price                float64\n",
      "CNG                    uint8\n",
      "Diesel                 uint8\n",
      "Electric               uint8\n",
      "LPG                    uint8\n",
      "Petrol                 uint8\n",
      "Automatic              uint8\n",
      "Manual                 uint8\n",
      "First                  uint8\n",
      "Fourth & Above         uint8\n",
      "Second                 uint8\n",
      "Third                  uint8\n",
      "dtype: object\n"
     ]
    }
   ],
   "source": [
    "print(df_car.dtypes)\n",
    "#print(df_car_test.dtypes)"
   ]
  },
  {
   "cell_type": "code",
   "execution_count": 84,
   "metadata": {},
   "outputs": [
    {
     "name": "stdout",
     "output_type": "stream",
     "text": [
      "Company               object\n",
      "Name                  object\n",
      "Location              object\n",
      "Year                 float64\n",
      "Kilometers_Driven    float64\n",
      "Fuel_Type             object\n",
      "Transmission          object\n",
      "Owner_Type            object\n",
      "Mileage              float64\n",
      "Engine               float64\n",
      "Power                float64\n",
      "Seats                float64\n",
      "CNG                  float64\n",
      "Diesel               float64\n",
      "LPG                  float64\n",
      "Petrol               float64\n",
      "First                  uint8\n",
      "Fourth & Above         uint8\n",
      "Second                 uint8\n",
      "Third                  uint8\n",
      "Automatic              uint8\n",
      "Manual                 uint8\n",
      "dtype: object\n"
     ]
    }
   ],
   "source": [
    "print(df_car_test.dtypes)"
   ]
  },
  {
   "cell_type": "code",
   "execution_count": 82,
   "metadata": {},
   "outputs": [
    {
     "name": "stdout",
     "output_type": "stream",
     "text": [
      "(6019, 24)\n",
      "(6019, 22)\n"
     ]
    }
   ],
   "source": [
    "print(df_car.shape)#electric is extra\n",
    "print(df_car_test.shape)#"
   ]
  },
  {
   "cell_type": "code",
   "execution_count": 86,
   "metadata": {},
   "outputs": [
    {
     "data": {
      "text/plain": [
       "Company                0\n",
       "Name                   0\n",
       "Location               0\n",
       "Year                   0\n",
       "Kilometers_Driven      0\n",
       "Fuel_Type              0\n",
       "Transmission           0\n",
       "Owner_Type             0\n",
       "Mileage                0\n",
       "Engine                 0\n",
       "Power                108\n",
       "Seats                  0\n",
       "Price                  0\n",
       "CNG                    0\n",
       "Diesel                 0\n",
       "Electric               0\n",
       "LPG                    0\n",
       "Petrol                 0\n",
       "Automatic              0\n",
       "Manual                 0\n",
       "First                  0\n",
       "Fourth & Above         0\n",
       "Second                 0\n",
       "Third                  0\n",
       "dtype: int64"
      ]
     },
     "execution_count": 86,
     "metadata": {},
     "output_type": "execute_result"
    }
   ],
   "source": [
    "df_car.isnull().sum()"
   ]
  },
  {
   "cell_type": "code",
   "execution_count": 90,
   "metadata": {},
   "outputs": [
    {
     "data": {
      "text/plain": [
       "Company               object\n",
       "Name                  object\n",
       "Location              object\n",
       "Year                   int64\n",
       "Kilometers_Driven      int64\n",
       "Fuel_Type             object\n",
       "Transmission          object\n",
       "Owner_Type            object\n",
       "Mileage              float64\n",
       "Engine                 int64\n",
       "Power                float64\n",
       "Seats                float64\n",
       "Price                float64\n",
       "CNG                    uint8\n",
       "Diesel                 uint8\n",
       "Electric               uint8\n",
       "LPG                    uint8\n",
       "Petrol                 uint8\n",
       "Automatic              uint8\n",
       "Manual                 uint8\n",
       "First                  uint8\n",
       "Fourth & Above         uint8\n",
       "Second                 uint8\n",
       "Third                  uint8\n",
       "dtype: object"
      ]
     },
     "execution_count": 90,
     "metadata": {},
     "output_type": "execute_result"
    }
   ],
   "source": [
    "df_car.dtypes"
   ]
  },
  {
   "cell_type": "code",
   "execution_count": 94,
   "metadata": {},
   "outputs": [],
   "source": [
    "#df =df[df.Power != 'null']Here we are seeing that 103 rows in Power column are containing null values.\n",
    "#As we have almost 7000 datapoints, let's remove those.\n",
    "df_car=df_car[df_car.Power !='null']"
   ]
  },
  {
   "cell_type": "code",
   "execution_count": 101,
   "metadata": {},
   "outputs": [
    {
     "data": {
      "text/plain": [
       "108"
      ]
     },
     "execution_count": 101,
     "metadata": {},
     "output_type": "execute_result"
    }
   ],
   "source": [
    "df_car.Power.isnull().sum()"
   ]
  },
  {
   "cell_type": "code",
   "execution_count": 100,
   "metadata": {},
   "outputs": [
    {
     "data": {
      "text/html": [
       "<div>\n",
       "<style scoped>\n",
       "    .dataframe tbody tr th:only-of-type {\n",
       "        vertical-align: middle;\n",
       "    }\n",
       "\n",
       "    .dataframe tbody tr th {\n",
       "        vertical-align: top;\n",
       "    }\n",
       "\n",
       "    .dataframe thead th {\n",
       "        text-align: right;\n",
       "    }\n",
       "</style>\n",
       "<table border=\"1\" class=\"dataframe\">\n",
       "  <thead>\n",
       "    <tr style=\"text-align: right;\">\n",
       "      <th></th>\n",
       "      <th>Company</th>\n",
       "      <th>Name</th>\n",
       "      <th>Location</th>\n",
       "      <th>Year</th>\n",
       "      <th>Kilometers_Driven</th>\n",
       "      <th>Fuel_Type</th>\n",
       "      <th>Transmission</th>\n",
       "      <th>Owner_Type</th>\n",
       "      <th>Mileage</th>\n",
       "      <th>Engine</th>\n",
       "      <th>...</th>\n",
       "      <th>Diesel</th>\n",
       "      <th>Electric</th>\n",
       "      <th>LPG</th>\n",
       "      <th>Petrol</th>\n",
       "      <th>Automatic</th>\n",
       "      <th>Manual</th>\n",
       "      <th>First</th>\n",
       "      <th>Fourth &amp; Above</th>\n",
       "      <th>Second</th>\n",
       "      <th>Third</th>\n",
       "    </tr>\n",
       "  </thead>\n",
       "  <tbody>\n",
       "    <tr>\n",
       "      <th>76</th>\n",
       "      <td>Ford</td>\n",
       "      <td>Ford Fiesta 1.4 SXi TDCi</td>\n",
       "      <td>Jaipur</td>\n",
       "      <td>2008</td>\n",
       "      <td>111111</td>\n",
       "      <td>Diesel</td>\n",
       "      <td>Manual</td>\n",
       "      <td>First</td>\n",
       "      <td>17.80</td>\n",
       "      <td>1399</td>\n",
       "      <td>...</td>\n",
       "      <td>1</td>\n",
       "      <td>0</td>\n",
       "      <td>0</td>\n",
       "      <td>0</td>\n",
       "      <td>0</td>\n",
       "      <td>1</td>\n",
       "      <td>1</td>\n",
       "      <td>0</td>\n",
       "      <td>0</td>\n",
       "      <td>0</td>\n",
       "    </tr>\n",
       "    <tr>\n",
       "      <th>79</th>\n",
       "      <td>Hyundai</td>\n",
       "      <td>Hyundai Santro Xing XL</td>\n",
       "      <td>Hyderabad</td>\n",
       "      <td>2005</td>\n",
       "      <td>87591</td>\n",
       "      <td>Petrol</td>\n",
       "      <td>Manual</td>\n",
       "      <td>First</td>\n",
       "      <td>0.00</td>\n",
       "      <td>1086</td>\n",
       "      <td>...</td>\n",
       "      <td>0</td>\n",
       "      <td>0</td>\n",
       "      <td>0</td>\n",
       "      <td>1</td>\n",
       "      <td>0</td>\n",
       "      <td>1</td>\n",
       "      <td>1</td>\n",
       "      <td>0</td>\n",
       "      <td>0</td>\n",
       "      <td>0</td>\n",
       "    </tr>\n",
       "    <tr>\n",
       "      <th>89</th>\n",
       "      <td>Hyundai</td>\n",
       "      <td>Hyundai Santro Xing XO</td>\n",
       "      <td>Hyderabad</td>\n",
       "      <td>2007</td>\n",
       "      <td>73745</td>\n",
       "      <td>Petrol</td>\n",
       "      <td>Manual</td>\n",
       "      <td>First</td>\n",
       "      <td>17.00</td>\n",
       "      <td>1086</td>\n",
       "      <td>...</td>\n",
       "      <td>0</td>\n",
       "      <td>0</td>\n",
       "      <td>0</td>\n",
       "      <td>1</td>\n",
       "      <td>0</td>\n",
       "      <td>1</td>\n",
       "      <td>1</td>\n",
       "      <td>0</td>\n",
       "      <td>0</td>\n",
       "      <td>0</td>\n",
       "    </tr>\n",
       "    <tr>\n",
       "      <th>120</th>\n",
       "      <td>Hyundai</td>\n",
       "      <td>Hyundai Santro Xing XL eRLX Euro III</td>\n",
       "      <td>Mumbai</td>\n",
       "      <td>2005</td>\n",
       "      <td>102000</td>\n",
       "      <td>Petrol</td>\n",
       "      <td>Manual</td>\n",
       "      <td>Second</td>\n",
       "      <td>17.00</td>\n",
       "      <td>1086</td>\n",
       "      <td>...</td>\n",
       "      <td>0</td>\n",
       "      <td>0</td>\n",
       "      <td>0</td>\n",
       "      <td>1</td>\n",
       "      <td>0</td>\n",
       "      <td>1</td>\n",
       "      <td>0</td>\n",
       "      <td>0</td>\n",
       "      <td>1</td>\n",
       "      <td>0</td>\n",
       "    </tr>\n",
       "    <tr>\n",
       "      <th>143</th>\n",
       "      <td>Hyundai</td>\n",
       "      <td>Hyundai Santro Xing XO eRLX Euro II</td>\n",
       "      <td>Kochi</td>\n",
       "      <td>2008</td>\n",
       "      <td>80759</td>\n",
       "      <td>Petrol</td>\n",
       "      <td>Manual</td>\n",
       "      <td>Third</td>\n",
       "      <td>17.00</td>\n",
       "      <td>1086</td>\n",
       "      <td>...</td>\n",
       "      <td>0</td>\n",
       "      <td>0</td>\n",
       "      <td>0</td>\n",
       "      <td>1</td>\n",
       "      <td>0</td>\n",
       "      <td>1</td>\n",
       "      <td>0</td>\n",
       "      <td>0</td>\n",
       "      <td>0</td>\n",
       "      <td>1</td>\n",
       "    </tr>\n",
       "    <tr>\n",
       "      <th>...</th>\n",
       "      <td>...</td>\n",
       "      <td>...</td>\n",
       "      <td>...</td>\n",
       "      <td>...</td>\n",
       "      <td>...</td>\n",
       "      <td>...</td>\n",
       "      <td>...</td>\n",
       "      <td>...</td>\n",
       "      <td>...</td>\n",
       "      <td>...</td>\n",
       "      <td>...</td>\n",
       "      <td>...</td>\n",
       "      <td>...</td>\n",
       "      <td>...</td>\n",
       "      <td>...</td>\n",
       "      <td>...</td>\n",
       "      <td>...</td>\n",
       "      <td>...</td>\n",
       "      <td>...</td>\n",
       "      <td>...</td>\n",
       "      <td>...</td>\n",
       "    </tr>\n",
       "    <tr>\n",
       "      <th>5873</th>\n",
       "      <td>Hyundai</td>\n",
       "      <td>Hyundai Santro Xing XO eRLX Euro II</td>\n",
       "      <td>Pune</td>\n",
       "      <td>2006</td>\n",
       "      <td>47200</td>\n",
       "      <td>Petrol</td>\n",
       "      <td>Manual</td>\n",
       "      <td>Second</td>\n",
       "      <td>17.00</td>\n",
       "      <td>1086</td>\n",
       "      <td>...</td>\n",
       "      <td>0</td>\n",
       "      <td>0</td>\n",
       "      <td>0</td>\n",
       "      <td>1</td>\n",
       "      <td>0</td>\n",
       "      <td>1</td>\n",
       "      <td>0</td>\n",
       "      <td>0</td>\n",
       "      <td>1</td>\n",
       "      <td>0</td>\n",
       "    </tr>\n",
       "    <tr>\n",
       "      <th>5893</th>\n",
       "      <td>Maruti</td>\n",
       "      <td>Maruti Estilo LXI</td>\n",
       "      <td>Chennai</td>\n",
       "      <td>2008</td>\n",
       "      <td>51000</td>\n",
       "      <td>Petrol</td>\n",
       "      <td>Manual</td>\n",
       "      <td>Second</td>\n",
       "      <td>19.50</td>\n",
       "      <td>1061</td>\n",
       "      <td>...</td>\n",
       "      <td>0</td>\n",
       "      <td>0</td>\n",
       "      <td>0</td>\n",
       "      <td>1</td>\n",
       "      <td>0</td>\n",
       "      <td>1</td>\n",
       "      <td>0</td>\n",
       "      <td>0</td>\n",
       "      <td>1</td>\n",
       "      <td>0</td>\n",
       "    </tr>\n",
       "    <tr>\n",
       "      <th>5925</th>\n",
       "      <td>Skoda</td>\n",
       "      <td>Skoda Laura Classic 1.8 TSI</td>\n",
       "      <td>Pune</td>\n",
       "      <td>2010</td>\n",
       "      <td>85000</td>\n",
       "      <td>Petrol</td>\n",
       "      <td>Manual</td>\n",
       "      <td>First</td>\n",
       "      <td>17.50</td>\n",
       "      <td>1798</td>\n",
       "      <td>...</td>\n",
       "      <td>0</td>\n",
       "      <td>0</td>\n",
       "      <td>0</td>\n",
       "      <td>1</td>\n",
       "      <td>0</td>\n",
       "      <td>1</td>\n",
       "      <td>1</td>\n",
       "      <td>0</td>\n",
       "      <td>0</td>\n",
       "      <td>0</td>\n",
       "    </tr>\n",
       "    <tr>\n",
       "      <th>5943</th>\n",
       "      <td>Mahindra</td>\n",
       "      <td>Mahindra Jeep MM 540 DP</td>\n",
       "      <td>Chennai</td>\n",
       "      <td>2002</td>\n",
       "      <td>75000</td>\n",
       "      <td>Diesel</td>\n",
       "      <td>Manual</td>\n",
       "      <td>First</td>\n",
       "      <td>0.00</td>\n",
       "      <td>2112</td>\n",
       "      <td>...</td>\n",
       "      <td>1</td>\n",
       "      <td>0</td>\n",
       "      <td>0</td>\n",
       "      <td>0</td>\n",
       "      <td>0</td>\n",
       "      <td>1</td>\n",
       "      <td>1</td>\n",
       "      <td>0</td>\n",
       "      <td>0</td>\n",
       "      <td>0</td>\n",
       "    </tr>\n",
       "    <tr>\n",
       "      <th>5985</th>\n",
       "      <td>Toyota</td>\n",
       "      <td>Toyota Etios GD</td>\n",
       "      <td>Delhi</td>\n",
       "      <td>2013</td>\n",
       "      <td>70000</td>\n",
       "      <td>Diesel</td>\n",
       "      <td>Manual</td>\n",
       "      <td>First</td>\n",
       "      <td>23.59</td>\n",
       "      <td>1364</td>\n",
       "      <td>...</td>\n",
       "      <td>1</td>\n",
       "      <td>0</td>\n",
       "      <td>0</td>\n",
       "      <td>0</td>\n",
       "      <td>0</td>\n",
       "      <td>1</td>\n",
       "      <td>1</td>\n",
       "      <td>0</td>\n",
       "      <td>0</td>\n",
       "      <td>0</td>\n",
       "    </tr>\n",
       "  </tbody>\n",
       "</table>\n",
       "<p>108 rows × 24 columns</p>\n",
       "</div>"
      ],
      "text/plain": [
       "       Company                                  Name   Location  Year  \\\n",
       "76        Ford              Ford Fiesta 1.4 SXi TDCi     Jaipur  2008   \n",
       "79     Hyundai                Hyundai Santro Xing XL  Hyderabad  2005   \n",
       "89     Hyundai                Hyundai Santro Xing XO  Hyderabad  2007   \n",
       "120    Hyundai  Hyundai Santro Xing XL eRLX Euro III     Mumbai  2005   \n",
       "143    Hyundai   Hyundai Santro Xing XO eRLX Euro II      Kochi  2008   \n",
       "...        ...                                   ...        ...   ...   \n",
       "5873   Hyundai   Hyundai Santro Xing XO eRLX Euro II       Pune  2006   \n",
       "5893    Maruti                     Maruti Estilo LXI    Chennai  2008   \n",
       "5925     Skoda           Skoda Laura Classic 1.8 TSI       Pune  2010   \n",
       "5943  Mahindra               Mahindra Jeep MM 540 DP    Chennai  2002   \n",
       "5985    Toyota                       Toyota Etios GD      Delhi  2013   \n",
       "\n",
       "      Kilometers_Driven Fuel_Type Transmission Owner_Type  Mileage  Engine  \\\n",
       "76               111111    Diesel       Manual      First    17.80    1399   \n",
       "79                87591    Petrol       Manual      First     0.00    1086   \n",
       "89                73745    Petrol       Manual      First    17.00    1086   \n",
       "120              102000    Petrol       Manual     Second    17.00    1086   \n",
       "143               80759    Petrol       Manual      Third    17.00    1086   \n",
       "...                 ...       ...          ...        ...      ...     ...   \n",
       "5873              47200    Petrol       Manual     Second    17.00    1086   \n",
       "5893              51000    Petrol       Manual     Second    19.50    1061   \n",
       "5925              85000    Petrol       Manual      First    17.50    1798   \n",
       "5943              75000    Diesel       Manual      First     0.00    2112   \n",
       "5985              70000    Diesel       Manual      First    23.59    1364   \n",
       "\n",
       "      ...  Diesel  Electric  LPG  Petrol  Automatic  Manual  First  \\\n",
       "76    ...       1         0    0       0          0       1      1   \n",
       "79    ...       0         0    0       1          0       1      1   \n",
       "89    ...       0         0    0       1          0       1      1   \n",
       "120   ...       0         0    0       1          0       1      0   \n",
       "143   ...       0         0    0       1          0       1      0   \n",
       "...   ...     ...       ...  ...     ...        ...     ...    ...   \n",
       "5873  ...       0         0    0       1          0       1      0   \n",
       "5893  ...       0         0    0       1          0       1      0   \n",
       "5925  ...       0         0    0       1          0       1      1   \n",
       "5943  ...       1         0    0       0          0       1      1   \n",
       "5985  ...       1         0    0       0          0       1      1   \n",
       "\n",
       "      Fourth & Above  Second  Third  \n",
       "76                 0       0      0  \n",
       "79                 0       0      0  \n",
       "89                 0       0      0  \n",
       "120                0       1      0  \n",
       "143                0       0      1  \n",
       "...              ...     ...    ...  \n",
       "5873               0       1      0  \n",
       "5893               0       1      0  \n",
       "5925               0       0      0  \n",
       "5943               0       0      0  \n",
       "5985               0       0      0  \n",
       "\n",
       "[108 rows x 24 columns]"
      ]
     },
     "execution_count": 100,
     "metadata": {},
     "output_type": "execute_result"
    }
   ],
   "source": [
    "#Let's clear 'null' values from our dataset if any present\n",
    "df_car[pd.to_numeric(df_car.Power, errors = 'coerce').isnull()]"
   ]
  },
  {
   "cell_type": "code",
   "execution_count": 106,
   "metadata": {
    "scrolled": true
   },
   "outputs": [],
   "source": [
    "df_car=df_car[df_car.Power !='null']"
   ]
  },
  {
   "cell_type": "code",
   "execution_count": 108,
   "metadata": {},
   "outputs": [
    {
     "name": "stdout",
     "output_type": "stream",
     "text": [
      "Company              0\n",
      "Name                 0\n",
      "Location             0\n",
      "Year                 0\n",
      "Kilometers_Driven    0\n",
      "Fuel_Type            0\n",
      "Transmission         0\n",
      "Owner_Type           0\n",
      "Mileage              0\n",
      "Engine               0\n",
      "Power                0\n",
      "Seats                0\n",
      "Price                0\n",
      "CNG                  0\n",
      "Diesel               0\n",
      "Electric             0\n",
      "LPG                  0\n",
      "Petrol               0\n",
      "Automatic            0\n",
      "Manual               0\n",
      "First                0\n",
      "Fourth & Above       0\n",
      "Second               0\n",
      "Third                0\n",
      "dtype: int64\n"
     ]
    }
   ],
   "source": [
    "df_car=df_car.dropna()\n",
    "print(df_car.isnull().sum())"
   ]
  },
  {
   "cell_type": "code",
   "execution_count": 107,
   "metadata": {},
   "outputs": [
    {
     "data": {
      "text/plain": [
       "Company                0\n",
       "Name                   0\n",
       "Location               0\n",
       "Year                   0\n",
       "Kilometers_Driven      0\n",
       "Fuel_Type              0\n",
       "Transmission           0\n",
       "Owner_Type             0\n",
       "Mileage                0\n",
       "Engine                 0\n",
       "Power                108\n",
       "Seats                  0\n",
       "Price                  0\n",
       "CNG                    0\n",
       "Diesel                 0\n",
       "Electric               0\n",
       "LPG                    0\n",
       "Petrol                 0\n",
       "Automatic              0\n",
       "Manual                 0\n",
       "First                  0\n",
       "Fourth & Above         0\n",
       "Second                 0\n",
       "Third                  0\n",
       "dtype: int64"
      ]
     },
     "execution_count": 107,
     "metadata": {},
     "output_type": "execute_result"
    }
   ],
   "source": [
    "df_car.isnull().sum()"
   ]
  },
  {
   "cell_type": "code",
   "execution_count": 105,
   "metadata": {},
   "outputs": [
    {
     "data": {
      "text/plain": [
       "Company              4785\n",
       "Name                 4785\n",
       "Location             4785\n",
       "Year                 4785\n",
       "Kilometers_Driven    4785\n",
       "Fuel_Type            4785\n",
       "Transmission         4785\n",
       "Owner_Type           4785\n",
       "Mileage              4785\n",
       "Engine               4795\n",
       "Power                4817\n",
       "Seats                4796\n",
       "CNG                  4785\n",
       "Diesel               4785\n",
       "LPG                  4785\n",
       "Petrol               4785\n",
       "First                   0\n",
       "Fourth & Above          0\n",
       "Second                  0\n",
       "Third                   0\n",
       "Automatic               0\n",
       "Manual                  0\n",
       "dtype: int64"
      ]
     },
     "execution_count": 105,
     "metadata": {},
     "output_type": "execute_result"
    }
   ],
   "source": [
    "df_car_test.isnull().sum()"
   ]
  },
  {
   "cell_type": "markdown",
   "metadata": {},
   "source": [
    "# EXPLORATORY DATA ANALYSIS# "
   ]
  },
  {
   "cell_type": "markdown",
   "metadata": {},
   "source": [
    "After preprocessing the data, it is analyzed through visual exploration to gather insights about the model that can\n",
    "be applied to the data, understand the diversity in the data and the range of every field. We use a bar chart, box plot,\n",
    "distribution graph, etc. to explore each feature varies\n",
    "and its relation with other features including the target feature."
   ]
  },
  {
   "cell_type": "code",
   "execution_count": null,
   "metadata": {},
   "outputs": [],
   "source": []
  },
  {
   "cell_type": "markdown",
   "metadata": {},
   "source": [
    "# Data Analysis with Visualisation¶"
   ]
  },
  {
   "cell_type": "raw",
   "metadata": {},
   "source": [
    "# The column“Price” is the target variable and rest of the columns are independent variables."
   ]
  },
  {
   "cell_type": "code",
   "execution_count": 109,
   "metadata": {},
   "outputs": [
    {
     "data": {
      "text/plain": [
       "<matplotlib.axes._subplots.AxesSubplot at 0x1af4c884790>"
      ]
     },
     "execution_count": 109,
     "metadata": {},
     "output_type": "execute_result"
    },
    {
     "data": {
      "image/png": "[encoded data removed]",
      "text/plain": [
       "<Figure size 432x288 with 1 Axes>"
      ]
     },
     "metadata": {
      "needs_background": "light"
     },
     "output_type": "display_data"
    }
   ],
   "source": [
    "#First have the Price distribution\n",
    "sns.distplot(df_car['Price'])"
   ]
  },
  {
   "cell_type": "code",
   "execution_count": 111,
   "metadata": {},
   "outputs": [
    {
     "data": {
      "text/html": [
       "<div>\n",
       "<style scoped>\n",
       "    .dataframe tbody tr th:only-of-type {\n",
       "        vertical-align: middle;\n",
       "    }\n",
       "\n",
       "    .dataframe tbody tr th {\n",
       "        vertical-align: top;\n",
       "    }\n",
       "\n",
       "    .dataframe thead th {\n",
       "        text-align: right;\n",
       "    }\n",
       "</style>\n",
       "<table border=\"1\" class=\"dataframe\">\n",
       "  <thead>\n",
       "    <tr style=\"text-align: right;\">\n",
       "      <th></th>\n",
       "      <th>Company</th>\n",
       "      <th>Name</th>\n",
       "      <th>Location</th>\n",
       "      <th>Year</th>\n",
       "      <th>Kilometers_Driven</th>\n",
       "      <th>Fuel_Type</th>\n",
       "      <th>Transmission</th>\n",
       "      <th>Owner_Type</th>\n",
       "      <th>Mileage</th>\n",
       "      <th>Engine</th>\n",
       "      <th>...</th>\n",
       "      <th>Diesel</th>\n",
       "      <th>Electric</th>\n",
       "      <th>LPG</th>\n",
       "      <th>Petrol</th>\n",
       "      <th>Automatic</th>\n",
       "      <th>Manual</th>\n",
       "      <th>First</th>\n",
       "      <th>Fourth &amp; Above</th>\n",
       "      <th>Second</th>\n",
       "      <th>Third</th>\n",
       "    </tr>\n",
       "  </thead>\n",
       "  <tbody>\n",
       "    <tr>\n",
       "      <th>0</th>\n",
       "      <td>Maruti</td>\n",
       "      <td>Maruti Wagon R LXI CNG</td>\n",
       "      <td>Mumbai</td>\n",
       "      <td>2010</td>\n",
       "      <td>72000</td>\n",
       "      <td>CNG</td>\n",
       "      <td>Manual</td>\n",
       "      <td>First</td>\n",
       "      <td>26.60</td>\n",
       "      <td>998</td>\n",
       "      <td>...</td>\n",
       "      <td>0</td>\n",
       "      <td>0</td>\n",
       "      <td>0</td>\n",
       "      <td>0</td>\n",
       "      <td>0</td>\n",
       "      <td>1</td>\n",
       "      <td>1</td>\n",
       "      <td>0</td>\n",
       "      <td>0</td>\n",
       "      <td>0</td>\n",
       "    </tr>\n",
       "    <tr>\n",
       "      <th>1</th>\n",
       "      <td>Hyundai</td>\n",
       "      <td>Hyundai Creta 1.6 CRDi SX Option</td>\n",
       "      <td>Pune</td>\n",
       "      <td>2015</td>\n",
       "      <td>41000</td>\n",
       "      <td>Diesel</td>\n",
       "      <td>Manual</td>\n",
       "      <td>First</td>\n",
       "      <td>19.67</td>\n",
       "      <td>1582</td>\n",
       "      <td>...</td>\n",
       "      <td>1</td>\n",
       "      <td>0</td>\n",
       "      <td>0</td>\n",
       "      <td>0</td>\n",
       "      <td>0</td>\n",
       "      <td>1</td>\n",
       "      <td>1</td>\n",
       "      <td>0</td>\n",
       "      <td>0</td>\n",
       "      <td>0</td>\n",
       "    </tr>\n",
       "    <tr>\n",
       "      <th>2</th>\n",
       "      <td>Honda</td>\n",
       "      <td>Honda Jazz V</td>\n",
       "      <td>Chennai</td>\n",
       "      <td>2011</td>\n",
       "      <td>46000</td>\n",
       "      <td>Petrol</td>\n",
       "      <td>Manual</td>\n",
       "      <td>First</td>\n",
       "      <td>18.20</td>\n",
       "      <td>1199</td>\n",
       "      <td>...</td>\n",
       "      <td>0</td>\n",
       "      <td>0</td>\n",
       "      <td>0</td>\n",
       "      <td>1</td>\n",
       "      <td>0</td>\n",
       "      <td>1</td>\n",
       "      <td>1</td>\n",
       "      <td>0</td>\n",
       "      <td>0</td>\n",
       "      <td>0</td>\n",
       "    </tr>\n",
       "    <tr>\n",
       "      <th>3</th>\n",
       "      <td>Maruti</td>\n",
       "      <td>Maruti Ertiga VDI</td>\n",
       "      <td>Chennai</td>\n",
       "      <td>2012</td>\n",
       "      <td>87000</td>\n",
       "      <td>Diesel</td>\n",
       "      <td>Manual</td>\n",
       "      <td>First</td>\n",
       "      <td>20.77</td>\n",
       "      <td>1248</td>\n",
       "      <td>...</td>\n",
       "      <td>1</td>\n",
       "      <td>0</td>\n",
       "      <td>0</td>\n",
       "      <td>0</td>\n",
       "      <td>0</td>\n",
       "      <td>1</td>\n",
       "      <td>1</td>\n",
       "      <td>0</td>\n",
       "      <td>0</td>\n",
       "      <td>0</td>\n",
       "    </tr>\n",
       "    <tr>\n",
       "      <th>4</th>\n",
       "      <td>Audi</td>\n",
       "      <td>Audi A4 New 2.0 TDI Multitronic</td>\n",
       "      <td>Coimbatore</td>\n",
       "      <td>2013</td>\n",
       "      <td>40670</td>\n",
       "      <td>Diesel</td>\n",
       "      <td>Automatic</td>\n",
       "      <td>Second</td>\n",
       "      <td>15.20</td>\n",
       "      <td>1968</td>\n",
       "      <td>...</td>\n",
       "      <td>1</td>\n",
       "      <td>0</td>\n",
       "      <td>0</td>\n",
       "      <td>0</td>\n",
       "      <td>1</td>\n",
       "      <td>0</td>\n",
       "      <td>0</td>\n",
       "      <td>0</td>\n",
       "      <td>1</td>\n",
       "      <td>0</td>\n",
       "    </tr>\n",
       "  </tbody>\n",
       "</table>\n",
       "<p>5 rows × 24 columns</p>\n",
       "</div>"
      ],
      "text/plain": [
       "   Company                              Name    Location  Year  \\\n",
       "0   Maruti            Maruti Wagon R LXI CNG      Mumbai  2010   \n",
       "1  Hyundai  Hyundai Creta 1.6 CRDi SX Option        Pune  2015   \n",
       "2    Honda                      Honda Jazz V     Chennai  2011   \n",
       "3   Maruti                 Maruti Ertiga VDI     Chennai  2012   \n",
       "4     Audi   Audi A4 New 2.0 TDI Multitronic  Coimbatore  2013   \n",
       "\n",
       "   Kilometers_Driven Fuel_Type Transmission Owner_Type  Mileage  Engine  ...  \\\n",
       "0              72000       CNG       Manual      First    26.60     998  ...   \n",
       "1              41000    Diesel       Manual      First    19.67    1582  ...   \n",
       "2              46000    Petrol       Manual      First    18.20    1199  ...   \n",
       "3              87000    Diesel       Manual      First    20.77    1248  ...   \n",
       "4              40670    Diesel    Automatic     Second    15.20    1968  ...   \n",
       "\n",
       "   Diesel  Electric  LPG  Petrol  Automatic  Manual  First  Fourth & Above  \\\n",
       "0       0         0    0       0          0       1      1               0   \n",
       "1       1         0    0       0          0       1      1               0   \n",
       "2       0         0    0       1          0       1      1               0   \n",
       "3       1         0    0       0          0       1      1               0   \n",
       "4       1         0    0       0          1       0      0               0   \n",
       "\n",
       "   Second  Third  \n",
       "0       0      0  \n",
       "1       0      0  \n",
       "2       0      0  \n",
       "3       0      0  \n",
       "4       1      0  \n",
       "\n",
       "[5 rows x 24 columns]"
      ]
     },
     "execution_count": 111,
     "metadata": {},
     "output_type": "execute_result"
    }
   ],
   "source": [
    "df_car.head()"
   ]
  },
  {
   "cell_type": "code",
   "execution_count": 112,
   "metadata": {},
   "outputs": [],
   "source": [
    "from sklearn.preprocessing import LabelEncoder\n",
    "le = LabelEncoder()"
   ]
  },
  {
   "cell_type": "code",
   "execution_count": 121,
   "metadata": {},
   "outputs": [],
   "source": [
    "df_car['Name'] = le.fit_transform(df_car['Name'])\n",
    "df_car['Location'] = le.fit_transform(df_car['Location'])\n",
    "df_car['Company']=le.fit_transform(df_car['Company'])\n",
    "df_car['Fuel_Type']=le.fit_transform(df_car['Fuel_Type'])\n",
    "df_car['Transmission']=le.fit_transform(df_car['Transmission'])\n",
    "df_car['Owner_Type']=le.fit_transform(df_car['Owner_Type'])"
   ]
  },
  {
   "cell_type": "code",
   "execution_count": null,
   "metadata": {},
   "outputs": [],
   "source": []
  },
  {
   "cell_type": "code",
   "execution_count": 123,
   "metadata": {
    "scrolled": true
   },
   "outputs": [
    {
     "data": {
      "text/html": [
       "<div>\n",
       "<style scoped>\n",
       "    .dataframe tbody tr th:only-of-type {\n",
       "        vertical-align: middle;\n",
       "    }\n",
       "\n",
       "    .dataframe tbody tr th {\n",
       "        vertical-align: top;\n",
       "    }\n",
       "\n",
       "    .dataframe thead th {\n",
       "        text-align: right;\n",
       "    }\n",
       "</style>\n",
       "<table border=\"1\" class=\"dataframe\">\n",
       "  <thead>\n",
       "    <tr style=\"text-align: right;\">\n",
       "      <th></th>\n",
       "      <th>Company</th>\n",
       "      <th>Name</th>\n",
       "      <th>Location</th>\n",
       "      <th>Year</th>\n",
       "      <th>Kilometers_Driven</th>\n",
       "      <th>Fuel_Type</th>\n",
       "      <th>Transmission</th>\n",
       "      <th>Owner_Type</th>\n",
       "      <th>Mileage</th>\n",
       "      <th>Engine</th>\n",
       "      <th>...</th>\n",
       "      <th>Diesel</th>\n",
       "      <th>Electric</th>\n",
       "      <th>LPG</th>\n",
       "      <th>Petrol</th>\n",
       "      <th>Automatic</th>\n",
       "      <th>Manual</th>\n",
       "      <th>First</th>\n",
       "      <th>Fourth &amp; Above</th>\n",
       "      <th>Second</th>\n",
       "      <th>Third</th>\n",
       "    </tr>\n",
       "  </thead>\n",
       "  <tbody>\n",
       "    <tr>\n",
       "      <th>0</th>\n",
       "      <td>18</td>\n",
       "      <td>1165</td>\n",
       "      <td>9</td>\n",
       "      <td>2010</td>\n",
       "      <td>72000</td>\n",
       "      <td>0</td>\n",
       "      <td>1</td>\n",
       "      <td>0</td>\n",
       "      <td>26.60</td>\n",
       "      <td>998</td>\n",
       "      <td>...</td>\n",
       "      <td>0</td>\n",
       "      <td>0</td>\n",
       "      <td>0</td>\n",
       "      <td>0</td>\n",
       "      <td>0</td>\n",
       "      <td>1</td>\n",
       "      <td>1</td>\n",
       "      <td>0</td>\n",
       "      <td>0</td>\n",
       "      <td>0</td>\n",
       "    </tr>\n",
       "    <tr>\n",
       "      <th>1</th>\n",
       "      <td>10</td>\n",
       "      <td>503</td>\n",
       "      <td>10</td>\n",
       "      <td>2015</td>\n",
       "      <td>41000</td>\n",
       "      <td>1</td>\n",
       "      <td>1</td>\n",
       "      <td>0</td>\n",
       "      <td>19.67</td>\n",
       "      <td>1582</td>\n",
       "      <td>...</td>\n",
       "      <td>1</td>\n",
       "      <td>0</td>\n",
       "      <td>0</td>\n",
       "      <td>0</td>\n",
       "      <td>0</td>\n",
       "      <td>1</td>\n",
       "      <td>1</td>\n",
       "      <td>0</td>\n",
       "      <td>0</td>\n",
       "      <td>0</td>\n",
       "    </tr>\n",
       "    <tr>\n",
       "      <th>2</th>\n",
       "      <td>9</td>\n",
       "      <td>477</td>\n",
       "      <td>2</td>\n",
       "      <td>2011</td>\n",
       "      <td>46000</td>\n",
       "      <td>4</td>\n",
       "      <td>1</td>\n",
       "      <td>0</td>\n",
       "      <td>18.20</td>\n",
       "      <td>1199</td>\n",
       "      <td>...</td>\n",
       "      <td>0</td>\n",
       "      <td>0</td>\n",
       "      <td>0</td>\n",
       "      <td>1</td>\n",
       "      <td>0</td>\n",
       "      <td>1</td>\n",
       "      <td>1</td>\n",
       "      <td>0</td>\n",
       "      <td>0</td>\n",
       "      <td>0</td>\n",
       "    </tr>\n",
       "    <tr>\n",
       "      <th>3</th>\n",
       "      <td>18</td>\n",
       "      <td>1028</td>\n",
       "      <td>2</td>\n",
       "      <td>2012</td>\n",
       "      <td>87000</td>\n",
       "      <td>1</td>\n",
       "      <td>1</td>\n",
       "      <td>0</td>\n",
       "      <td>20.77</td>\n",
       "      <td>1248</td>\n",
       "      <td>...</td>\n",
       "      <td>1</td>\n",
       "      <td>0</td>\n",
       "      <td>0</td>\n",
       "      <td>0</td>\n",
       "      <td>0</td>\n",
       "      <td>1</td>\n",
       "      <td>1</td>\n",
       "      <td>0</td>\n",
       "      <td>0</td>\n",
       "      <td>0</td>\n",
       "    </tr>\n",
       "    <tr>\n",
       "      <th>4</th>\n",
       "      <td>1</td>\n",
       "      <td>22</td>\n",
       "      <td>3</td>\n",
       "      <td>2013</td>\n",
       "      <td>40670</td>\n",
       "      <td>1</td>\n",
       "      <td>0</td>\n",
       "      <td>2</td>\n",
       "      <td>15.20</td>\n",
       "      <td>1968</td>\n",
       "      <td>...</td>\n",
       "      <td>1</td>\n",
       "      <td>0</td>\n",
       "      <td>0</td>\n",
       "      <td>0</td>\n",
       "      <td>1</td>\n",
       "      <td>0</td>\n",
       "      <td>0</td>\n",
       "      <td>0</td>\n",
       "      <td>1</td>\n",
       "      <td>0</td>\n",
       "    </tr>\n",
       "  </tbody>\n",
       "</table>\n",
       "<p>5 rows × 24 columns</p>\n",
       "</div>"
      ],
      "text/plain": [
       "   Company  Name  Location  Year  Kilometers_Driven  Fuel_Type  Transmission  \\\n",
       "0       18  1165         9  2010              72000          0             1   \n",
       "1       10   503        10  2015              41000          1             1   \n",
       "2        9   477         2  2011              46000          4             1   \n",
       "3       18  1028         2  2012              87000          1             1   \n",
       "4        1    22         3  2013              40670          1             0   \n",
       "\n",
       "   Owner_Type  Mileage  Engine  ...  Diesel  Electric  LPG  Petrol  Automatic  \\\n",
       "0           0    26.60     998  ...       0         0    0       0          0   \n",
       "1           0    19.67    1582  ...       1         0    0       0          0   \n",
       "2           0    18.20    1199  ...       0         0    0       1          0   \n",
       "3           0    20.77    1248  ...       1         0    0       0          0   \n",
       "4           2    15.20    1968  ...       1         0    0       0          1   \n",
       "\n",
       "   Manual  First  Fourth & Above  Second  Third  \n",
       "0       1      1               0       0      0  \n",
       "1       1      1               0       0      0  \n",
       "2       1      1               0       0      0  \n",
       "3       1      1               0       0      0  \n",
       "4       0      0               0       1      0  \n",
       "\n",
       "[5 rows x 24 columns]"
      ]
     },
     "execution_count": 123,
     "metadata": {},
     "output_type": "execute_result"
    }
   ],
   "source": [
    "df_car.head()"
   ]
  },
  {
   "cell_type": "code",
   "execution_count": 115,
   "metadata": {},
   "outputs": [
    {
     "data": {
      "text/plain": [
       "Index(['Company', 'Name', 'Location', 'Year', 'Kilometers_Driven', 'Fuel_Type',\n",
       "       'Transmission', 'Owner_Type', 'Mileage', 'Engine', 'Power', 'Seats',\n",
       "       'Price', 'CNG', 'Diesel', 'Electric', 'LPG', 'Petrol', 'Automatic',\n",
       "       'Manual', 'First', 'Fourth & Above', 'Second', 'Third'],\n",
       "      dtype='object')"
      ]
     },
     "execution_count": 115,
     "metadata": {},
     "output_type": "execute_result"
    }
   ],
   "source": [
    "df_car.columns"
   ]
  },
  {
   "cell_type": "code",
   "execution_count": null,
   "metadata": {},
   "outputs": [],
   "source": []
  },
  {
   "cell_type": "code",
   "execution_count": 124,
   "metadata": {},
   "outputs": [],
   "source": [
    "#Bivariate Analysis with our target variable - Active Cases"
   ]
  },
  {
   "cell_type": "code",
   "execution_count": 125,
   "metadata": {},
   "outputs": [
    {
     "data": {
      "text/plain": [
       "<matplotlib.axes._subplots.AxesSubplot at 0x1af4d0847c0>"
      ]
     },
     "execution_count": 125,
     "metadata": {},
     "output_type": "execute_result"
    },
    {
     "data": {
      "image/png": "[encoded data removed]",
      "text/plain": [
       "<Figure size 576x576 with 2 Axes>"
      ]
     },
     "metadata": {
      "needs_background": "light"
     },
     "output_type": "display_data"
    }
   ],
   "source": [
    "\n",
    "#correlation map\n",
    "f,ax = plt.subplots(figsize=(8,8))\n",
    "sns.heatmap(df_car.corr(), annot=True, linewidths=.8, fmt= '.1f',ax=ax)"
   ]
  },
  {
   "cell_type": "code",
   "execution_count": 131,
   "metadata": {},
   "outputs": [],
   "source": [
    "from sklearn.linear_model import LinearRegression\n",
    "model = LinearRegression()"
   ]
  },
  {
   "cell_type": "code",
   "execution_count": 132,
   "metadata": {},
   "outputs": [],
   "source": [
    "#feat_analysis=data_trimmed.drop(['Name', 'Company', 'Location', 'Fuel_Type', 'Transmission', 'Owner_Type'], axis = 1)\n",
    "#Getting numerical dat()\n",
    "y=df_car.Price"
   ]
  },
  {
   "cell_type": "code",
   "execution_count": 133,
   "metadata": {},
   "outputs": [],
   "source": [
    "X=df_car\n",
    "y=df_car.Price"
   ]
  },
  {
   "cell_type": "code",
   "execution_count": 134,
   "metadata": {},
   "outputs": [
    {
     "data": {
      "text/plain": [
       "LinearRegression()"
      ]
     },
     "execution_count": 134,
     "metadata": {},
     "output_type": "execute_result"
    }
   ],
   "source": [
    "model.fit(X, y)"
   ]
  },
  {
   "cell_type": "code",
   "execution_count": 135,
   "metadata": {},
   "outputs": [
    {
     "data": {
      "text/plain": [
       "1.0"
      ]
     },
     "execution_count": 135,
     "metadata": {},
     "output_type": "execute_result"
    }
   ],
   "source": [
    "model.score(X,y)"
   ]
  },
  {
   "cell_type": "code",
   "execution_count": 136,
   "metadata": {},
   "outputs": [],
   "source": [
    "from sklearn.preprocessing import MinMaxScaler\n",
    "X[['Kilometers_Driven', 'Mileage']] = MinMaxScaler().fit_transform(X[['Kilometers_Driven', 'Mileage']])"
   ]
  },
  {
   "cell_type": "code",
   "execution_count": 137,
   "metadata": {},
   "outputs": [],
   "source": [
    "from sklearn.linear_model import LinearRegression\n",
    "model = LinearRegression()"
   ]
  },
  {
   "cell_type": "code",
   "execution_count": 138,
   "metadata": {},
   "outputs": [
    {
     "data": {
      "text/plain": [
       "LinearRegression()"
      ]
     },
     "execution_count": 138,
     "metadata": {},
     "output_type": "execute_result"
    }
   ],
   "source": [
    "model.fit(X, y)"
   ]
  },
  {
   "cell_type": "code",
   "execution_count": 139,
   "metadata": {},
   "outputs": [
    {
     "data": {
      "text/plain": [
       "LinearRegression()"
      ]
     },
     "execution_count": 139,
     "metadata": {},
     "output_type": "execute_result"
    }
   ],
   "source": [
    "LinearRegression(copy_X=True, fit_intercept=True, n_jobs=None, normalize=False)"
   ]
  },
  {
   "cell_type": "code",
   "execution_count": 140,
   "metadata": {},
   "outputs": [
    {
     "data": {
      "text/plain": [
       "1.0"
      ]
     },
     "execution_count": 140,
     "metadata": {},
     "output_type": "execute_result"
    }
   ],
   "source": [
    "model.score(X,y)\n"
   ]
  },
  {
   "cell_type": "code",
   "execution_count": 142,
   "metadata": {},
   "outputs": [],
   "source": [
    "y_pred_3=model.predict(X)"
   ]
  },
  {
   "cell_type": "code",
   "execution_count": null,
   "metadata": {},
   "outputs": [],
   "source": [
    "##Neural Network  model"
   ]
  },
  {
   "cell_type": "code",
   "execution_count": 143,
   "metadata": {},
   "outputs": [
    {
     "ename": "ModuleNotFoundError",
     "evalue": "No module named 'keras'",
     "output_type": "error",
     "traceback": [
      "\u001b[1;31m---------------------------------------------------------------------------\u001b[0m",
      "\u001b[1;31mModuleNotFoundError\u001b[0m                       Traceback (most recent call last)",
      "\u001b[1;32m<ipython-input-143-979e106fa729>\u001b[0m in \u001b[0;36m<module>\u001b[1;34m\u001b[0m\n\u001b[1;32m----> 1\u001b[1;33m \u001b[1;32mfrom\u001b[0m \u001b[0mkeras\u001b[0m \u001b[1;32mimport\u001b[0m \u001b[0mbackend\u001b[0m \u001b[1;32mas\u001b[0m \u001b[0mK\u001b[0m\u001b[1;33m\u001b[0m\u001b[1;33m\u001b[0m\u001b[0m\n\u001b[0m",
      "\u001b[1;31mModuleNotFoundError\u001b[0m: No module named 'keras'"
     ]
    }
   ],
   "source": [
    "from keras import backend as K"
   ]
  },
  {
   "cell_type": "code",
   "execution_count": 149,
   "metadata": {},
   "outputs": [
    {
     "ename": "AttributeError",
     "evalue": "'DataFrame' object has no attribute 'Price'",
     "output_type": "error",
     "traceback": [
      "\u001b[1;31m---------------------------------------------------------------------------\u001b[0m",
      "\u001b[1;31mAttributeError\u001b[0m                            Traceback (most recent call last)",
      "\u001b[1;32m<ipython-input-149-f7efdf7075d9>\u001b[0m in \u001b[0;36m<module>\u001b[1;34m\u001b[0m\n\u001b[0;32m      3\u001b[0m \u001b[0mtest_dataset\u001b[0m \u001b[1;33m=\u001b[0m \u001b[0mdf_car_test\u001b[0m\u001b[1;33m.\u001b[0m\u001b[0mdrop\u001b[0m\u001b[1;33m(\u001b[0m\u001b[0mtrain_dataset\u001b[0m\u001b[1;33m.\u001b[0m\u001b[0mindex\u001b[0m\u001b[1;33m)\u001b[0m\u001b[1;33m\u001b[0m\u001b[1;33m\u001b[0m\u001b[0m\n\u001b[0;32m      4\u001b[0m \u001b[0mtrain_labels\u001b[0m\u001b[1;33m=\u001b[0m\u001b[0mdf_car\u001b[0m\u001b[1;33m.\u001b[0m\u001b[0mPrice\u001b[0m\u001b[1;33m\u001b[0m\u001b[1;33m\u001b[0m\u001b[0m\n\u001b[1;32m----> 5\u001b[1;33m \u001b[0mtest_labels\u001b[0m\u001b[1;33m=\u001b[0m\u001b[0mdf_car_test\u001b[0m\u001b[1;33m.\u001b[0m\u001b[0mPrice\u001b[0m\u001b[1;33m\u001b[0m\u001b[1;33m\u001b[0m\u001b[0m\n\u001b[0m\u001b[0;32m      6\u001b[0m \u001b[1;33m\u001b[0m\u001b[0m\n\u001b[0;32m      7\u001b[0m \u001b[0mtrain_dataset\u001b[0m\u001b[1;33m=\u001b[0m\u001b[0mtrain_dataset\u001b[0m\u001b[1;33m.\u001b[0m\u001b[0mdrop\u001b[0m\u001b[1;33m(\u001b[0m\u001b[1;34m\"Price\"\u001b[0m\u001b[1;33m,\u001b[0m\u001b[0maxis\u001b[0m\u001b[1;33m=\u001b[0m\u001b[1;36m1\u001b[0m\u001b[1;33m)\u001b[0m\u001b[1;33m\u001b[0m\u001b[1;33m\u001b[0m\u001b[0m\n",
      "\u001b[1;32mC:\\ProgramData\\Anaconda3\\lib\\site-packages\\pandas\\core\\generic.py\u001b[0m in \u001b[0;36m__getattr__\u001b[1;34m(self, name)\u001b[0m\n\u001b[0;32m   5272\u001b[0m             \u001b[1;32mif\u001b[0m \u001b[0mself\u001b[0m\u001b[1;33m.\u001b[0m\u001b[0m_info_axis\u001b[0m\u001b[1;33m.\u001b[0m\u001b[0m_can_hold_identifiers_and_holds_name\u001b[0m\u001b[1;33m(\u001b[0m\u001b[0mname\u001b[0m\u001b[1;33m)\u001b[0m\u001b[1;33m:\u001b[0m\u001b[1;33m\u001b[0m\u001b[1;33m\u001b[0m\u001b[0m\n\u001b[0;32m   5273\u001b[0m                 \u001b[1;32mreturn\u001b[0m \u001b[0mself\u001b[0m\u001b[1;33m[\u001b[0m\u001b[0mname\u001b[0m\u001b[1;33m]\u001b[0m\u001b[1;33m\u001b[0m\u001b[1;33m\u001b[0m\u001b[0m\n\u001b[1;32m-> 5274\u001b[1;33m             \u001b[1;32mreturn\u001b[0m \u001b[0mobject\u001b[0m\u001b[1;33m.\u001b[0m\u001b[0m__getattribute__\u001b[0m\u001b[1;33m(\u001b[0m\u001b[0mself\u001b[0m\u001b[1;33m,\u001b[0m \u001b[0mname\u001b[0m\u001b[1;33m)\u001b[0m\u001b[1;33m\u001b[0m\u001b[1;33m\u001b[0m\u001b[0m\n\u001b[0m\u001b[0;32m   5275\u001b[0m \u001b[1;33m\u001b[0m\u001b[0m\n\u001b[0;32m   5276\u001b[0m     \u001b[1;32mdef\u001b[0m \u001b[0m__setattr__\u001b[0m\u001b[1;33m(\u001b[0m\u001b[0mself\u001b[0m\u001b[1;33m,\u001b[0m \u001b[0mname\u001b[0m\u001b[1;33m:\u001b[0m \u001b[0mstr\u001b[0m\u001b[1;33m,\u001b[0m \u001b[0mvalue\u001b[0m\u001b[1;33m)\u001b[0m \u001b[1;33m->\u001b[0m \u001b[1;32mNone\u001b[0m\u001b[1;33m:\u001b[0m\u001b[1;33m\u001b[0m\u001b[1;33m\u001b[0m\u001b[0m\n",
      "\u001b[1;31mAttributeError\u001b[0m: 'DataFrame' object has no attribute 'Price'"
     ]
    }
   ],
   "source": [
    "#dfle.Year=2020-dfle[\"Year\"]# converting year to age to get a better feature\n",
    "train_dataset = df_car.sample(frac=0.8,random_state=0)\n",
    "test_dataset = df_car_test.drop(train_dataset.index)\n",
    "train_labels=df_car.Price\n",
    "test_labels=df_car_test.Price\n",
    "\n",
    "train_dataset=train_dataset.drop(\"Price\",axis=1)"
   ]
  },
  {
   "cell_type": "code",
   "execution_count": null,
   "metadata": {},
   "outputs": [],
   "source": []
  },
  {
   "cell_type": "code",
   "execution_count": null,
   "metadata": {},
   "outputs": [],
   "source": [
    "import tensorflow as tf\n",
    "from tensorflow import keras\n",
    "!pip install git+https://github.com/tensorflow/docs\n",
    "import tensorflow_docs as tfdocs\n",
    "import tensorflow_docs.plots\n",
    "import tensorflow_docs.modeling"
   ]
  },
  {
   "cell_type": "code",
   "execution_count": 130,
   "metadata": {},
   "outputs": [
    {
     "data": {
      "text/plain": [
       "Company                int64\n",
       "Name                   int64\n",
       "Location               int64\n",
       "Year                   int64\n",
       "Kilometers_Driven      int64\n",
       "Fuel_Type              int32\n",
       "Transmission           int32\n",
       "Owner_Type             int32\n",
       "Mileage              float64\n",
       "Engine                 int64\n",
       "Power                float64\n",
       "Seats                float64\n",
       "Price                float64\n",
       "CNG                    uint8\n",
       "Diesel                 uint8\n",
       "Electric               uint8\n",
       "LPG                    uint8\n",
       "Petrol                 uint8\n",
       "Automatic              uint8\n",
       "Manual                 uint8\n",
       "First                  uint8\n",
       "Fourth & Above         uint8\n",
       "Second                 uint8\n",
       "Third                  uint8\n",
       "dtype: object"
      ]
     },
     "execution_count": 130,
     "metadata": {},
     "output_type": "execute_result"
    }
   ],
   "source": [
    "df_car.dtypes"
   ]
  },
  {
   "cell_type": "code",
   "execution_count": null,
   "metadata": {},
   "outputs": [],
   "source": []
  },
  {
   "cell_type": "code",
   "execution_count": 128,
   "metadata": {},
   "outputs": [
    {
     "name": "stdout",
     "output_type": "stream",
     "text": [
      "(6019, 22)\n"
     ]
    }
   ],
   "source": [
    "df_car_test.head()\n",
    "print(df_car_test.shape)"
   ]
  },
  {
   "cell_type": "code",
   "execution_count": 118,
   "metadata": {},
   "outputs": [
    {
     "data": {
      "text/plain": [
       "Company               object\n",
       "Name                   int32\n",
       "Location               int32\n",
       "Year                   int64\n",
       "Kilometers_Driven      int64\n",
       "Fuel_Type             object\n",
       "Transmission          object\n",
       "Owner_Type            object\n",
       "Mileage              float64\n",
       "Engine                 int64\n",
       "Power                float64\n",
       "Seats                float64\n",
       "Price                float64\n",
       "CNG                    uint8\n",
       "Diesel                 uint8\n",
       "Electric               uint8\n",
       "LPG                    uint8\n",
       "Petrol                 uint8\n",
       "Automatic              uint8\n",
       "Manual                 uint8\n",
       "First                  uint8\n",
       "Fourth & Above         uint8\n",
       "Second                 uint8\n",
       "Third                  uint8\n",
       "dtype: object"
      ]
     },
     "execution_count": 118,
     "metadata": {},
     "output_type": "execute_result"
    }
   ],
   "source": [
    "df_car.dtypes"
   ]
  },
  {
   "cell_type": "markdown",
   "metadata": {},
   "source": [
    "Q.) Which company sells most Number of cars?"
   ]
  },
  {
   "cell_type": "code",
   "execution_count": null,
   "metadata": {},
   "outputs": [],
   "source": [
    "df_car['Name'].value_counts()"
   ]
  },
  {
   "cell_type": "code",
   "execution_count": null,
   "metadata": {},
   "outputs": [],
   "source": [
    "df_car['Company']\n",
    "plt.figure(figsize=(20,12))\n",
    "plt.xlabel('Company Name')\n",
    "plt.ylabel('No. of cars sold')\n",
    "plt.title('Cars sold per company')\n",
    "df_car ['Company'].value_counts().plot(kind='bar')\n",
    "plt.show()"
   ]
  },
  {
   "cell_type": "markdown",
   "metadata": {},
   "source": [
    "# Q.) Which fuel Type has lesser mileage?"
   ]
  },
  {
   "cell_type": "code",
   "execution_count": null,
   "metadata": {},
   "outputs": [],
   "source": [
    "#convert fuel type To int "
   ]
  },
  {
   "cell_type": "code",
   "execution_count": null,
   "metadata": {},
   "outputs": [],
   "source": [
    "mileage = df_car.groupby('Fuel_Type')"
   ]
  },
  {
   "cell_type": "code",
   "execution_count": null,
   "metadata": {},
   "outputs": [],
   "source": [
    "df_car"
   ]
  },
  {
   "cell_type": "code",
   "execution_count": null,
   "metadata": {},
   "outputs": [],
   "source": [
    "mileage"
   ]
  },
  {
   "cell_type": "code",
   "execution_count": null,
   "metadata": {},
   "outputs": [],
   "source": [
    "#x=df_car.groupby('Fuel_Type')\n",
    "#y=df_car[\"Mileage\"]\n",
    "x=np.array(df_car.groupby('Fuel_Type'))\n",
    "y=np.array(df_car[\"Mileage\"])\n",
    "plt.bar(x,y)\n",
    "plt.show()"
   ]
  },
  {
   "cell_type": "code",
   "execution_count": null,
   "metadata": {},
   "outputs": [],
   "source": [
    "mileage = df_car.groupby('Fuel_Type').Mileage.mean()\n",
    "plt.xlabel(\"Fuel Type\")\n",
    "plt.xlabel(\"Mileage\")\n",
    "plt.title(\"Fuel Type vs Mileage\")\n",
    "mileage.plot(kind='bar')\n",
    "plt.show()"
   ]
  },
  {
   "cell_type": "markdown",
   "metadata": {},
   "source": [
    "# Q.) What is the number of cars originally purchased per year?"
   ]
  },
  {
   "cell_type": "code",
   "execution_count": null,
   "metadata": {},
   "outputs": [],
   "source": [
    "purchased_car_per_year = df_car['Year'].value_counts()\n",
    "purchased_car_per_year.plot(kind='bar')\n",
    "plt.xlabel(\"Year\")\n",
    "plt.ylabel(\"Paurchased Cars\")\n",
    "plt.title(\"Year vs Purchased cars\")\n",
    "plt.show()"
   ]
  },
  {
   "cell_type": "code",
   "execution_count": null,
   "metadata": {},
   "outputs": [],
   "source": [
    "average_price = df_car.groupby('Company').Price.mean()\n",
    "average_price.plot(kind='bar')\n",
    "plt.show()"
   ]
  },
  {
   "cell_type": "markdown",
   "metadata": {},
   "source": [
    "# Q.) What is the average price per company?¶"
   ]
  },
  {
   "cell_type": "code",
   "execution_count": null,
   "metadata": {},
   "outputs": [],
   "source": [
    "average_price = df_car.groupby('Company').Price.mean()\n",
    "average_price.plot(kind='bar')\n",
    "plt.show()"
   ]
  },
  {
   "cell_type": "markdown",
   "metadata": {},
   "source": [
    "# Q.) After driving for how much KMs people like to sell their cars?"
   ]
  },
  {
   "cell_type": "code",
   "execution_count": null,
   "metadata": {},
   "outputs": [],
   "source": [
    "Company_Kilometers_Driven = df_car.groupby('Company').Kilometers_Driven.mean()\n",
    "Company_Kilometers_Driven.plot(kind='bar')\n",
    "plt.xlabel(\"s\")\n",
    "plt.ylabel(\"s\")\n",
    "plt.title(\"Average Kilometeres vs Company\")\n",
    "plt.show()"
   ]
  },
  {
   "cell_type": "code",
   "execution_count": null,
   "metadata": {},
   "outputs": [],
   "source": []
  }
 ],
 "metadata": {
  "kernelspec": {
   "display_name": "Python 3",
   "language": "python",
   "name": "python3"
  },
  "language_info": {
   "codemirror_mode": {
    "name": "ipython",
    "version": 3
   },
   "file_extension": ".py",
   "mimetype": "text/x-python",
   "name": "python",
   "nbconvert_exporter": "python",
   "pygments_lexer": "ipython3",
   "version": "3.8.3"
  }
 },
 "nbformat": 4,
 "nbformat_minor": 4
}
